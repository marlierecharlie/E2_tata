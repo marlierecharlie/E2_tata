{
  "cells": [
    {
      "cell_type": "markdown",
      "metadata": {},
      "source": [
        "https://github.com/oya163/bert-llm/blob/master/CyberSecurityNER/cyber_security_ner.ipynb"
      ]
    },
    {
      "cell_type": "markdown",
      "metadata": {},
      "source": [
        "https://huggingface.co/Jean-Baptiste/camembert-ner-with-dates?text=Je+m%27appelle+jean-baptiste+et+j%27habite+%C3%A0+montr%C3%A9al+depuis+fevr+2012+Je+travaille+chez+Microsoft+je+gagne+10000+euros+par+an"
      ]
    },
    {
      "cell_type": "markdown",
      "metadata": {},
      "source": [
        "# Load modules"
      ]
    },
    {
      "cell_type": "code",
      "execution_count": 2,
      "metadata": {
        "gather": {
          "logged": 1707208464861
        }
      },
      "outputs": [
        {
          "name": "stderr",
          "output_type": "stream",
          "text": [
            "/home/charlie/.pyenv/versions/3.10.6/envs/tata_env/lib/python3.10/site-packages/tqdm/auto.py:21: TqdmWarning: IProgress not found. Please update jupyter and ipywidgets. See https://ipywidgets.readthedocs.io/en/stable/user_install.html\n",
            "  from .autonotebook import tqdm as notebook_tqdm\n",
            "2024-02-09 18:25:33.105427: E external/local_xla/xla/stream_executor/cuda/cuda_dnn.cc:9261] Unable to register cuDNN factory: Attempting to register factory for plugin cuDNN when one has already been registered\n",
            "2024-02-09 18:25:33.105525: E external/local_xla/xla/stream_executor/cuda/cuda_fft.cc:607] Unable to register cuFFT factory: Attempting to register factory for plugin cuFFT when one has already been registered\n",
            "2024-02-09 18:25:33.187431: E external/local_xla/xla/stream_executor/cuda/cuda_blas.cc:1515] Unable to register cuBLAS factory: Attempting to register factory for plugin cuBLAS when one has already been registered\n",
            "2024-02-09 18:25:33.338656: I tensorflow/core/platform/cpu_feature_guard.cc:182] This TensorFlow binary is optimized to use available CPU instructions in performance-critical operations.\n",
            "To enable the following instructions: AVX2 FMA, in other operations, rebuild TensorFlow with the appropriate compiler flags.\n",
            "2024-02-09 18:25:35.069334: W tensorflow/compiler/tf2tensorrt/utils/py_utils.cc:38] TF-TRT Warning: Could not find TensorRT\n"
          ]
        }
      ],
      "source": [
        "from sklearn.preprocessing import LabelEncoder\n",
        "from transformers import TrainingArguments, Trainer, EarlyStoppingCallback, AutoTokenizer\n",
        "from transformers import AutoModelForTokenClassification, pipeline, DataCollatorForTokenClassification\n",
        "\n",
        "import pandas as pd\n",
        "from sklearn.metrics import confusion_matrix\n",
        "from sklearn.model_selection import train_test_split\n",
        "import numpy as np\n",
        "import matplotlib.pyplot as plt\n",
        "from matplotlib.ticker import MaxNLocator\n",
        "import seaborn as sns\n",
        "import evaluate\n",
        "from datasets import Dataset\n",
        "import matplotlib.pyplot as plt\n",
        "\n",
        "# from seqeval.metrics import classification_report"
      ]
    },
    {
      "cell_type": "code",
      "execution_count": 3,
      "metadata": {},
      "outputs": [
        {
          "data": {
            "text/html": [
              "<div>\n",
              "<style scoped>\n",
              "    .dataframe tbody tr th:only-of-type {\n",
              "        vertical-align: middle;\n",
              "    }\n",
              "\n",
              "    .dataframe tbody tr th {\n",
              "        vertical-align: top;\n",
              "    }\n",
              "\n",
              "    .dataframe thead th {\n",
              "        text-align: right;\n",
              "    }\n",
              "</style>\n",
              "<table border=\"1\" class=\"dataframe\">\n",
              "  <thead>\n",
              "    <tr style=\"text-align: right;\">\n",
              "      <th></th>\n",
              "      <th>doc</th>\n",
              "      <th>line_id</th>\n",
              "      <th>value</th>\n",
              "      <th>entity</th>\n",
              "    </tr>\n",
              "  </thead>\n",
              "  <tbody>\n",
              "    <tr>\n",
              "      <th>0</th>\n",
              "      <td>X00016469612</td>\n",
              "      <td>1</td>\n",
              "      <td>TAN</td>\n",
              "      <td>O</td>\n",
              "    </tr>\n",
              "    <tr>\n",
              "      <th>1</th>\n",
              "      <td>X00016469612</td>\n",
              "      <td>1</td>\n",
              "      <td>WOON</td>\n",
              "      <td>O</td>\n",
              "    </tr>\n",
              "    <tr>\n",
              "      <th>2</th>\n",
              "      <td>X00016469612</td>\n",
              "      <td>1</td>\n",
              "      <td>YANN</td>\n",
              "      <td>O</td>\n",
              "    </tr>\n",
              "    <tr>\n",
              "      <th>3</th>\n",
              "      <td>X00016469612</td>\n",
              "      <td>2</td>\n",
              "      <td>BOOK</td>\n",
              "      <td>B-company</td>\n",
              "    </tr>\n",
              "    <tr>\n",
              "      <th>4</th>\n",
              "      <td>X00016469612</td>\n",
              "      <td>2</td>\n",
              "      <td>TA</td>\n",
              "      <td>I-company</td>\n",
              "    </tr>\n",
              "  </tbody>\n",
              "</table>\n",
              "</div>"
            ],
            "text/plain": [
              "            doc  line_id value     entity\n",
              "0  X00016469612        1   TAN          O\n",
              "1  X00016469612        1  WOON          O\n",
              "2  X00016469612        1  YANN          O\n",
              "3  X00016469612        2  BOOK  B-company\n",
              "4  X00016469612        2    TA  I-company"
            ]
          },
          "execution_count": 3,
          "metadata": {},
          "output_type": "execute_result"
        }
      ],
      "source": [
        "path ='/mnt/c/Users/utilisateur/E2_tata/data/cleaned_raw_bbox_df.csv'\n",
        "df=pd.read_csv(path)\n",
        "df.drop(columns=['Unnamed: 0'], inplace=True)\n",
        "df.head()"
      ]
    },
    {
      "cell_type": "code",
      "execution_count": 5,
      "metadata": {},
      "outputs": [
        {
          "data": {
            "text/plain": [
              "['O',\n",
              " 'B-company',\n",
              " 'I-company',\n",
              " 'B-address',\n",
              " 'I-address',\n",
              " 'B-date',\n",
              " 'B-total',\n",
              " 'I-date']"
            ]
          },
          "execution_count": 5,
          "metadata": {},
          "output_type": "execute_result"
        }
      ],
      "source": [
        "entity_list=df['entity'].unique().tolist()\n",
        "entity_list"
      ]
    },
    {
      "cell_type": "code",
      "execution_count": 6,
      "metadata": {},
      "outputs": [
        {
          "data": {
            "text/html": [
              "<div>\n",
              "<style scoped>\n",
              "    .dataframe tbody tr th:only-of-type {\n",
              "        vertical-align: middle;\n",
              "    }\n",
              "\n",
              "    .dataframe tbody tr th {\n",
              "        vertical-align: top;\n",
              "    }\n",
              "\n",
              "    .dataframe thead th {\n",
              "        text-align: right;\n",
              "    }\n",
              "</style>\n",
              "<table border=\"1\" class=\"dataframe\">\n",
              "  <thead>\n",
              "    <tr style=\"text-align: right;\">\n",
              "      <th></th>\n",
              "      <th>doc</th>\n",
              "      <th>line_id</th>\n",
              "      <th>value</th>\n",
              "      <th>entity</th>\n",
              "    </tr>\n",
              "  </thead>\n",
              "  <tbody>\n",
              "    <tr>\n",
              "      <th>0</th>\n",
              "      <td>X00016469612</td>\n",
              "      <td>1</td>\n",
              "      <td>TAN</td>\n",
              "      <td>O</td>\n",
              "    </tr>\n",
              "    <tr>\n",
              "      <th>1</th>\n",
              "      <td>X00016469612</td>\n",
              "      <td>1</td>\n",
              "      <td>WOON</td>\n",
              "      <td>O</td>\n",
              "    </tr>\n",
              "    <tr>\n",
              "      <th>2</th>\n",
              "      <td>X00016469612</td>\n",
              "      <td>1</td>\n",
              "      <td>YANN</td>\n",
              "      <td>O</td>\n",
              "    </tr>\n",
              "    <tr>\n",
              "      <th>3</th>\n",
              "      <td>X00016469612</td>\n",
              "      <td>2</td>\n",
              "      <td>BOOK</td>\n",
              "      <td>I-ORG</td>\n",
              "    </tr>\n",
              "    <tr>\n",
              "      <th>4</th>\n",
              "      <td>X00016469612</td>\n",
              "      <td>2</td>\n",
              "      <td>TA</td>\n",
              "      <td>I-ORG</td>\n",
              "    </tr>\n",
              "  </tbody>\n",
              "</table>\n",
              "</div>"
            ],
            "text/plain": [
              "            doc  line_id value entity\n",
              "0  X00016469612        1   TAN      O\n",
              "1  X00016469612        1  WOON      O\n",
              "2  X00016469612        1  YANN      O\n",
              "3  X00016469612        2  BOOK  I-ORG\n",
              "4  X00016469612        2    TA  I-ORG"
            ]
          },
          "execution_count": 6,
          "metadata": {},
          "output_type": "execute_result"
        }
      ],
      "source": [
        "entity_list=df['entity'].unique().tolist()\n",
        "new_entity_list=['O','I-ORG','I-ORG','I-LOC','I-LOC','I-DATE','I-MISC','I-DATE']\n",
        "\n",
        "df['entity']=df['entity'].replace(entity_list, new_entity_list)\n",
        "df.head()"
      ]
    },
    {
      "cell_type": "code",
      "execution_count": 7,
      "metadata": {},
      "outputs": [
        {
          "data": {
            "text/plain": [
              "['O', 'I-ORG', 'I-LOC', 'I-DATE', 'I-MISC']"
            ]
          },
          "execution_count": 7,
          "metadata": {},
          "output_type": "execute_result"
        }
      ],
      "source": [
        "df['entity'].unique().tolist()"
      ]
    },
    {
      "cell_type": "code",
      "execution_count": 8,
      "metadata": {},
      "outputs": [],
      "source": [
        "label_list = ['O','I-ORG','I-LOC','I-DATE','I-MISC']\n",
        "df['sentence_id'] = df['doc'] + df['line_id'].astype(str)\n",
        "df[\"sentence_id\"] = LabelEncoder().fit_transform(df[\"sentence_id\"] )\n",
        "ner_tag = list(range(0,5))\n",
        "df['ner_tag']=df['entity'].replace(label_list, ner_tag)"
      ]
    },
    {
      "cell_type": "code",
      "execution_count": 9,
      "metadata": {},
      "outputs": [
        {
          "data": {
            "text/html": [
              "<div>\n",
              "<style scoped>\n",
              "    .dataframe tbody tr th:only-of-type {\n",
              "        vertical-align: middle;\n",
              "    }\n",
              "\n",
              "    .dataframe tbody tr th {\n",
              "        vertical-align: top;\n",
              "    }\n",
              "\n",
              "    .dataframe thead th {\n",
              "        text-align: right;\n",
              "    }\n",
              "</style>\n",
              "<table border=\"1\" class=\"dataframe\">\n",
              "  <thead>\n",
              "    <tr style=\"text-align: right;\">\n",
              "      <th></th>\n",
              "      <th>sentence_id</th>\n",
              "      <th>tokens</th>\n",
              "      <th>labels</th>\n",
              "      <th>ner_tags</th>\n",
              "    </tr>\n",
              "  </thead>\n",
              "  <tbody>\n",
              "    <tr>\n",
              "      <th>0</th>\n",
              "      <td>0</td>\n",
              "      <td>TAN</td>\n",
              "      <td>O</td>\n",
              "      <td>0</td>\n",
              "    </tr>\n",
              "    <tr>\n",
              "      <th>1</th>\n",
              "      <td>0</td>\n",
              "      <td>WOON</td>\n",
              "      <td>O</td>\n",
              "      <td>0</td>\n",
              "    </tr>\n",
              "    <tr>\n",
              "      <th>2</th>\n",
              "      <td>0</td>\n",
              "      <td>YANN</td>\n",
              "      <td>O</td>\n",
              "      <td>0</td>\n",
              "    </tr>\n",
              "    <tr>\n",
              "      <th>3</th>\n",
              "      <td>11</td>\n",
              "      <td>BOOK</td>\n",
              "      <td>I-ORG</td>\n",
              "      <td>1</td>\n",
              "    </tr>\n",
              "    <tr>\n",
              "      <th>4</th>\n",
              "      <td>11</td>\n",
              "      <td>TA</td>\n",
              "      <td>I-ORG</td>\n",
              "      <td>1</td>\n",
              "    </tr>\n",
              "  </tbody>\n",
              "</table>\n",
              "</div>"
            ],
            "text/plain": [
              "   sentence_id tokens labels  ner_tags\n",
              "0            0    TAN      O         0\n",
              "1            0   WOON      O         0\n",
              "2            0   YANN      O         0\n",
              "3           11   BOOK  I-ORG         1\n",
              "4           11     TA  I-ORG         1"
            ]
          },
          "execution_count": 9,
          "metadata": {},
          "output_type": "execute_result"
        }
      ],
      "source": [
        "df['doc']=df['doc'].astype(str)\n",
        "df['sentence_id']=df['sentence_id'].astype(int)\n",
        "df['tokens']=df['value'].astype(str)\n",
        "df['ner_tags']=df['ner_tag'].astype(int)\n",
        "df['labels']=df['entity'].astype(str)\n",
        "\n",
        "df=df[[\"sentence_id\", \"tokens\", \"labels\", \"ner_tags\"]]\n",
        "\n",
        "df.head()"
      ]
    },
    {
      "cell_type": "code",
      "execution_count": 10,
      "metadata": {},
      "outputs": [
        {
          "data": {
            "text/html": [
              "<div>\n",
              "<style scoped>\n",
              "    .dataframe tbody tr th:only-of-type {\n",
              "        vertical-align: middle;\n",
              "    }\n",
              "\n",
              "    .dataframe tbody tr th {\n",
              "        vertical-align: top;\n",
              "    }\n",
              "\n",
              "    .dataframe thead th {\n",
              "        text-align: right;\n",
              "    }\n",
              "</style>\n",
              "<table border=\"1\" class=\"dataframe\">\n",
              "  <thead>\n",
              "    <tr style=\"text-align: right;\">\n",
              "      <th></th>\n",
              "      <th>sentence_id</th>\n",
              "      <th>tokens</th>\n",
              "      <th>labels</th>\n",
              "      <th>ner_tags</th>\n",
              "    </tr>\n",
              "  </thead>\n",
              "  <tbody>\n",
              "    <tr>\n",
              "      <th>0</th>\n",
              "      <td>0</td>\n",
              "      <td>[TAN, WOON, YANN]</td>\n",
              "      <td>[O, O, O]</td>\n",
              "      <td>[0, 0, 0]</td>\n",
              "    </tr>\n",
              "    <tr>\n",
              "      <th>1</th>\n",
              "      <td>1</td>\n",
              "      <td>[25/12/2018, 8:13:39, PM]</td>\n",
              "      <td>[I-DATE, O, O]</td>\n",
              "      <td>[3, 0, 0]</td>\n",
              "    </tr>\n",
              "    <tr>\n",
              "      <th>2</th>\n",
              "      <td>2</td>\n",
              "      <td>[CASHIER:]</td>\n",
              "      <td>[O]</td>\n",
              "      <td>[0]</td>\n",
              "    </tr>\n",
              "    <tr>\n",
              "      <th>3</th>\n",
              "      <td>3</td>\n",
              "      <td>[MANIS]</td>\n",
              "      <td>[O]</td>\n",
              "      <td>[0]</td>\n",
              "    </tr>\n",
              "    <tr>\n",
              "      <th>4</th>\n",
              "      <td>4</td>\n",
              "      <td>[MEMBER:]</td>\n",
              "      <td>[O]</td>\n",
              "      <td>[0]</td>\n",
              "    </tr>\n",
              "  </tbody>\n",
              "</table>\n",
              "</div>"
            ],
            "text/plain": [
              "   sentence_id                     tokens          labels   ner_tags\n",
              "0            0          [TAN, WOON, YANN]       [O, O, O]  [0, 0, 0]\n",
              "1            1  [25/12/2018, 8:13:39, PM]  [I-DATE, O, O]  [3, 0, 0]\n",
              "2            2                 [CASHIER:]             [O]        [0]\n",
              "3            3                    [MANIS]             [O]        [0]\n",
              "4            4                  [MEMBER:]             [O]        [0]"
            ]
          },
          "execution_count": 10,
          "metadata": {},
          "output_type": "execute_result"
        }
      ],
      "source": [
        "# Réorganiser les données\n",
        "df = df.groupby('sentence_id').agg({\n",
        "    'tokens': list,\n",
        "    'labels': list,\n",
        "    'ner_tags': list,\n",
        "}).reset_index()\n",
        "\n",
        "# Renommer la colonne id\n",
        "df.rename(columns={'id': 'sentence_id'}, inplace=True)\n",
        "df.head()"
      ]
    },
    {
      "cell_type": "markdown",
      "metadata": {},
      "source": [
        "# 01 Load my data"
      ]
    },
    {
      "cell_type": "markdown",
      "metadata": {},
      "source": [
        "# Split"
      ]
    },
    {
      "cell_type": "code",
      "execution_count": 10,
      "metadata": {
        "gather": {
          "logged": 1707208465077
        }
      },
      "outputs": [],
      "source": [
        "# from ast import literal_eval\n",
        "# # Réorganiser les données\n",
        "# df['sentence_id']=df['sentence_id'].astype(int)\n",
        "\n",
        "# # Supposons que df est votre DataFrame\n",
        "# # Convertir les chaînes qui représentent des listes en véritables listes Python\n",
        "# df['tokens'] = df['tokens'].apply(literal_eval)\n",
        "# df['labels'] = df['labels'].apply(literal_eval)\n",
        "# df['ner_tags'] = df['ner_tags'].apply(literal_eval)\n"
      ]
    },
    {
      "cell_type": "code",
      "execution_count": 11,
      "metadata": {
        "gather": {
          "logged": 1707208465097
        }
      },
      "outputs": [],
      "source": [
        "# df"
      ]
    },
    {
      "cell_type": "code",
      "execution_count": 11,
      "metadata": {},
      "outputs": [],
      "source": [
        "train_df, test_val_df = train_test_split(df, test_size=0.3)\n",
        "test_df, eval_df = train_test_split(test_val_df, test_size=0.5)"
      ]
    },
    {
      "cell_type": "code",
      "execution_count": 12,
      "metadata": {},
      "outputs": [
        {
          "data": {
            "text/html": [
              "<div>\n",
              "<style scoped>\n",
              "    .dataframe tbody tr th:only-of-type {\n",
              "        vertical-align: middle;\n",
              "    }\n",
              "\n",
              "    .dataframe tbody tr th {\n",
              "        vertical-align: top;\n",
              "    }\n",
              "\n",
              "    .dataframe thead th {\n",
              "        text-align: right;\n",
              "    }\n",
              "</style>\n",
              "<table border=\"1\" class=\"dataframe\">\n",
              "  <thead>\n",
              "    <tr style=\"text-align: right;\">\n",
              "      <th></th>\n",
              "      <th>sentence_id</th>\n",
              "      <th>tokens</th>\n",
              "      <th>labels</th>\n",
              "      <th>ner_tags</th>\n",
              "    </tr>\n",
              "  </thead>\n",
              "  <tbody>\n",
              "    <tr>\n",
              "      <th>39829</th>\n",
              "      <td>39829</td>\n",
              "      <td>[DISCOUNT]</td>\n",
              "      <td>[O]</td>\n",
              "      <td>[0]</td>\n",
              "    </tr>\n",
              "    <tr>\n",
              "      <th>7176</th>\n",
              "      <td>7176</td>\n",
              "      <td>[MODERN, DEPOT, SDN, BHD]</td>\n",
              "      <td>[I-ORG, I-ORG, I-ORG, I-ORG]</td>\n",
              "      <td>[1, 1, 1, 1]</td>\n",
              "    </tr>\n",
              "    <tr>\n",
              "      <th>32477</th>\n",
              "      <td>32477</td>\n",
              "      <td>[KEEP, THE, INVOICE, FOR, APPLICABLE, RETURNS]</td>\n",
              "      <td>[O, O, O, O, O, O]</td>\n",
              "      <td>[0, 0, 0, 0, 0, 0]</td>\n",
              "    </tr>\n",
              "    <tr>\n",
              "      <th>43953</th>\n",
              "      <td>43953</td>\n",
              "      <td>[(1113440A)]</td>\n",
              "      <td>[O]</td>\n",
              "      <td>[0]</td>\n",
              "    </tr>\n",
              "    <tr>\n",
              "      <th>22958</th>\n",
              "      <td>22958</td>\n",
              "      <td>[42901]</td>\n",
              "      <td>[O]</td>\n",
              "      <td>[0]</td>\n",
              "    </tr>\n",
              "    <tr>\n",
              "      <th>...</th>\n",
              "      <td>...</td>\n",
              "      <td>...</td>\n",
              "      <td>...</td>\n",
              "      <td>...</td>\n",
              "    </tr>\n",
              "    <tr>\n",
              "      <th>34523</th>\n",
              "      <td>34523</td>\n",
              "      <td>[002-2016/05/01, 14:13:10]</td>\n",
              "      <td>[O, O]</td>\n",
              "      <td>[0, 0]</td>\n",
              "    </tr>\n",
              "    <tr>\n",
              "      <th>49010</th>\n",
              "      <td>49010</td>\n",
              "      <td>[TAX, (RM)]</td>\n",
              "      <td>[O, O]</td>\n",
              "      <td>[0, 0]</td>\n",
              "    </tr>\n",
              "    <tr>\n",
              "      <th>44470</th>\n",
              "      <td>44470</td>\n",
              "      <td>[19:47:00]</td>\n",
              "      <td>[O]</td>\n",
              "      <td>[0]</td>\n",
              "    </tr>\n",
              "    <tr>\n",
              "      <th>5352</th>\n",
              "      <td>5352</td>\n",
              "      <td>[ZRL]</td>\n",
              "      <td>[O]</td>\n",
              "      <td>[0]</td>\n",
              "    </tr>\n",
              "    <tr>\n",
              "      <th>29298</th>\n",
              "      <td>29298</td>\n",
              "      <td>[AMT(RM)]</td>\n",
              "      <td>[O]</td>\n",
              "      <td>[0]</td>\n",
              "    </tr>\n",
              "  </tbody>\n",
              "</table>\n",
              "<p>7526 rows × 4 columns</p>\n",
              "</div>"
            ],
            "text/plain": [
              "       sentence_id                                          tokens  \\\n",
              "39829        39829                                      [DISCOUNT]   \n",
              "7176          7176                       [MODERN, DEPOT, SDN, BHD]   \n",
              "32477        32477  [KEEP, THE, INVOICE, FOR, APPLICABLE, RETURNS]   \n",
              "43953        43953                                    [(1113440A)]   \n",
              "22958        22958                                         [42901]   \n",
              "...            ...                                             ...   \n",
              "34523        34523                      [002-2016/05/01, 14:13:10]   \n",
              "49010        49010                                     [TAX, (RM)]   \n",
              "44470        44470                                      [19:47:00]   \n",
              "5352          5352                                           [ZRL]   \n",
              "29298        29298                                       [AMT(RM)]   \n",
              "\n",
              "                             labels            ner_tags  \n",
              "39829                           [O]                 [0]  \n",
              "7176   [I-ORG, I-ORG, I-ORG, I-ORG]        [1, 1, 1, 1]  \n",
              "32477            [O, O, O, O, O, O]  [0, 0, 0, 0, 0, 0]  \n",
              "43953                           [O]                 [0]  \n",
              "22958                           [O]                 [0]  \n",
              "...                             ...                 ...  \n",
              "34523                        [O, O]              [0, 0]  \n",
              "49010                        [O, O]              [0, 0]  \n",
              "44470                           [O]                 [0]  \n",
              "5352                            [O]                 [0]  \n",
              "29298                           [O]                 [0]  \n",
              "\n",
              "[7526 rows x 4 columns]"
            ]
          },
          "execution_count": 12,
          "metadata": {},
          "output_type": "execute_result"
        }
      ],
      "source": [
        "test_df"
      ]
    },
    {
      "cell_type": "code",
      "execution_count": 13,
      "metadata": {},
      "outputs": [],
      "source": [
        "# En supposant que train_df est un DataFrame pandas avec les colonnes \"words\" et \"ner_tags\"\n",
        "train_dataset = Dataset.from_pandas(train_df)\n",
        "test_dataset=Dataset.from_pandas(test_df)\n",
        "eval_dataset = Dataset.from_pandas(eval_df)"
      ]
    },
    {
      "cell_type": "code",
      "execution_count": 15,
      "metadata": {},
      "outputs": [
        {
          "data": {
            "text/plain": [
              "{'sentence_id': 7339,\n",
              " 'tokens': ['4', '178104', '00', 'vs', '5', 'rl'],\n",
              " 'labels': ['O', 'O', 'O', 'O', 'O', 'O'],\n",
              " 'ner_tags': [0, 0, 0, 0, 0, 0],\n",
              " '__index_level_0__': 7339}"
            ]
          },
          "execution_count": 15,
          "metadata": {},
          "output_type": "execute_result"
        }
      ],
      "source": [
        "train_dataset[0]"
      ]
    },
    {
      "cell_type": "code",
      "execution_count": 16,
      "metadata": {},
      "outputs": [
        {
          "data": {
            "text/plain": [
              "{'sentence_id': 1715,\n",
              " 'tokens': ['2x', 'hey', 'song'],\n",
              " 'labels': ['O', 'O', 'O'],\n",
              " 'ner_tags': [0, 0, 0],\n",
              " '__index_level_0__': 1715}"
            ]
          },
          "execution_count": 16,
          "metadata": {},
          "output_type": "execute_result"
        }
      ],
      "source": [
        "train_dataset[25]"
      ]
    },
    {
      "cell_type": "code",
      "execution_count": 17,
      "metadata": {},
      "outputs": [
        {
          "data": {
            "text/plain": [
              "{'sentence_id': 5851,\n",
              " 'tokens': ['mr', 'd1', 'kuchai', 'son', 'bho'],\n",
              " 'labels': ['I-ORG', 'O', 'I-ORG', 'O', 'O'],\n",
              " 'ner_tags': [1, 0, 1, 0, 0],\n",
              " '__index_level_0__': 5851}"
            ]
          },
          "execution_count": 17,
          "metadata": {},
          "output_type": "execute_result"
        }
      ],
      "source": [
        "train_dataset[50]"
      ]
    },
    {
      "cell_type": "code",
      "execution_count": 18,
      "metadata": {},
      "outputs": [
        {
          "data": {
            "text/plain": [
              "{'sentence_id': 11193,\n",
              " 'tokens': ['aga', '7t9bp', 'sin', '729', '1x', 'ts', 'ieee'],\n",
              " 'labels': ['O', 'O', 'O', 'O', 'O', 'O', 'O'],\n",
              " 'ner_tags': [0, 0, 0, 0, 0, 0, 0],\n",
              " '__index_level_0__': 11193}"
            ]
          },
          "execution_count": 18,
          "metadata": {},
          "output_type": "execute_result"
        }
      ],
      "source": [
        "eval_dataset[0]"
      ]
    },
    {
      "cell_type": "code",
      "execution_count": 19,
      "metadata": {},
      "outputs": [
        {
          "data": {
            "text/plain": [
              "{'sentence_id': 4769,\n",
              " 'tokens': ['cash', 'rm', '15000'],\n",
              " 'labels': ['O', 'O', 'O'],\n",
              " 'ner_tags': [0, 0, 0],\n",
              " '__index_level_0__': 4769}"
            ]
          },
          "execution_count": 19,
          "metadata": {},
          "output_type": "execute_result"
        }
      ],
      "source": [
        "test_dataset[100]"
      ]
    },
    {
      "cell_type": "code",
      "execution_count": 20,
      "metadata": {},
      "outputs": [
        {
          "data": {
            "text/plain": [
              "{'sentence_id': 16505,\n",
              " 'tokens': ['10', 'srv', 'chg', '198'],\n",
              " 'labels': ['O', 'O', 'O', 'O'],\n",
              " 'ner_tags': [0, 0, 0, 0],\n",
              " '__index_level_0__': 16505}"
            ]
          },
          "execution_count": 20,
          "metadata": {},
          "output_type": "execute_result"
        }
      ],
      "source": [
        "test_dataset[103]"
      ]
    },
    {
      "cell_type": "markdown",
      "metadata": {},
      "source": [
        "# Tokenization"
      ]
    },
    {
      "cell_type": "code",
      "execution_count": 14,
      "metadata": {},
      "outputs": [],
      "source": [
        "# model_checkpoint =\"dslim/bert-base-NER\"\n",
        "# model_checkpoint =\"bert-base-uncased\"\n",
        "model_checkpoint='Jean-Baptiste/camembert-ner-with-dates'\n",
        "tokenizer = AutoTokenizer.from_pretrained(model_checkpoint)"
      ]
    },
    {
      "cell_type": "markdown",
      "metadata": {},
      "source": [
        "originaux"
      ]
    },
    {
      "cell_type": "code",
      "execution_count": 15,
      "metadata": {},
      "outputs": [],
      "source": [
        "#  Align the number of labels and the tokens\n",
        "def align_labels_with_tokens(labels, word_ids):\n",
        "    new_labels = []\n",
        "    current_word = None\n",
        "    for word_id in word_ids:\n",
        "        if word_id != current_word:\n",
        "            # Start of a new word!\n",
        "            current_word = word_id\n",
        "            label = -100 if word_id is None else labels[word_id]\n",
        "            new_labels.append(label)\n",
        "        elif word_id is None:\n",
        "            # Special token\n",
        "            new_labels.append(-100)\n",
        "        else:\n",
        "            # Same word as previous token\n",
        "            label = labels[word_id]\n",
        "            # If the label is B-XXX we change it to I-XXX\n",
        "            if label % 2 == 1:\n",
        "                label += 1\n",
        "            new_labels.append(label)\n",
        "\n",
        "    return new_labels"
      ]
    },
    {
      "cell_type": "code",
      "execution_count": 17,
      "metadata": {},
      "outputs": [],
      "source": [
        "def tokenize_and_align_labels(examples):\n",
        "    tokenized_inputs = tokenizer(\n",
        "        examples[\"tokens\"], truncation=True, is_split_into_words=True\n",
        "    )\n",
        "    all_labels = examples[\"ner_tags\"]\n",
        "    new_labels = []\n",
        "    for i, labels in enumerate(all_labels):\n",
        "        word_ids = tokenized_inputs.word_ids(i)\n",
        "        new_labels.append(align_labels_with_tokens(labels, word_ids))\n",
        "\n",
        "    tokenized_inputs[\"labels\"] = new_labels\n",
        "    return tokenized_inputs"
      ]
    },
    {
      "cell_type": "code",
      "execution_count": 18,
      "metadata": {},
      "outputs": [
        {
          "name": "stderr",
          "output_type": "stream",
          "text": [
            "Map:   0%|          | 0/35123 [00:00<?, ? examples/s]"
          ]
        },
        {
          "name": "stderr",
          "output_type": "stream",
          "text": [
            "Map: 100%|██████████| 35123/35123 [00:01<00:00, 32830.41 examples/s]\n"
          ]
        }
      ],
      "source": [
        "# Tokenizer tous les exemples du dataset\n",
        "tokenized_datasets_train = train_dataset.map(\n",
        "    tokenize_and_align_labels,\n",
        "    batched=True,\n",
        ")"
      ]
    },
    {
      "cell_type": "code",
      "execution_count": 19,
      "metadata": {},
      "outputs": [
        {
          "name": "stderr",
          "output_type": "stream",
          "text": [
            "Map: 100%|██████████| 7527/7527 [00:00<00:00, 24101.77 examples/s]\n"
          ]
        }
      ],
      "source": [
        "# Tokenizer tous les exemples du dataset\n",
        "tokenized_datasets_eval = eval_dataset.map(\n",
        "    tokenize_and_align_labels,\n",
        "    batched=True,\n",
        ")"
      ]
    },
    {
      "cell_type": "code",
      "execution_count": 20,
      "metadata": {},
      "outputs": [
        {
          "name": "stderr",
          "output_type": "stream",
          "text": [
            "Map:   0%|          | 0/7526 [00:00<?, ? examples/s]"
          ]
        },
        {
          "name": "stderr",
          "output_type": "stream",
          "text": [
            "Map: 100%|██████████| 7526/7526 [00:00<00:00, 28558.83 examples/s]\n"
          ]
        }
      ],
      "source": [
        "# Tokenizer tous les exemples du dataset\n",
        "tokenized_datasets_test= test_dataset.map(\n",
        "    tokenize_and_align_labels,\n",
        "    batched=True,\n",
        ")"
      ]
    },
    {
      "cell_type": "markdown",
      "metadata": {},
      "source": [
        "# Fine Tuning"
      ]
    },
    {
      "cell_type": "markdown",
      "metadata": {},
      "source": [
        "## Data Collator"
      ]
    },
    {
      "cell_type": "code",
      "execution_count": 21,
      "metadata": {},
      "outputs": [],
      "source": [
        "data_collator = DataCollatorForTokenClassification(tokenizer=tokenizer)"
      ]
    },
    {
      "cell_type": "markdown",
      "metadata": {},
      "source": [
        "## Setup Evaluation"
      ]
    },
    {
      "cell_type": "code",
      "execution_count": 22,
      "metadata": {},
      "outputs": [],
      "source": [
        "new_entity_list=['O','I-LOC','I-PER', 'I-MISC','I-ORG', 'I-DATE']"
      ]
    },
    {
      "cell_type": "code",
      "execution_count": 23,
      "metadata": {},
      "outputs": [],
      "source": [
        "metric = evaluate.load(\"seqeval\")\n",
        "\n",
        "def compute_metrics(eval_preds):\n",
        "    logits, labels = eval_preds\n",
        "    predictions = np.argmax(logits, axis=-1)\n",
        "\n",
        "    # Remove ignored index (special tokens) and convert to labels\n",
        "    true_labels = [[new_entity_list[l] for l in label if l != -100] for label in labels]\n",
        "    true_predictions = [\n",
        "        [new_entity_list[p] for (p, l) in zip(prediction, label) if l != -100]\n",
        "        for prediction, label in zip(predictions, labels)\n",
        "    ]\n",
        "    all_metrics = metric.compute(predictions=true_predictions, references=true_labels)\n",
        "    return {\n",
        "        \"precision\": all_metrics[\"overall_precision\"],\n",
        "        \"recall\": all_metrics[\"overall_recall\"],\n",
        "        \"f1\": all_metrics[\"overall_f1\"],\n",
        "        \"accuracy\": all_metrics[\"overall_accuracy\"],\n",
        "    }"
      ]
    },
    {
      "cell_type": "code",
      "execution_count": 24,
      "metadata": {},
      "outputs": [],
      "source": [
        "id2label = {i: label for i, label in enumerate(new_entity_list)}\n",
        "label2id = {v: k for k, v in id2label.items()}"
      ]
    },
    {
      "cell_type": "code",
      "execution_count": 25,
      "metadata": {},
      "outputs": [
        {
          "data": {
            "text/plain": [
              "{0: 'O', 1: 'I-LOC', 2: 'I-PER', 3: 'I-MISC', 4: 'I-ORG', 5: 'I-DATE'}"
            ]
          },
          "execution_count": 25,
          "metadata": {},
          "output_type": "execute_result"
        }
      ],
      "source": [
        "id2label"
      ]
    },
    {
      "cell_type": "code",
      "execution_count": 26,
      "metadata": {},
      "outputs": [
        {
          "data": {
            "text/plain": [
              "{'O': 0, 'I-LOC': 1, 'I-PER': 2, 'I-MISC': 3, 'I-ORG': 4, 'I-DATE': 5}"
            ]
          },
          "execution_count": 26,
          "metadata": {},
          "output_type": "execute_result"
        }
      ],
      "source": [
        "label2id"
      ]
    },
    {
      "cell_type": "markdown",
      "metadata": {},
      "source": [
        "# freez layers"
      ]
    },
    {
      "cell_type": "code",
      "execution_count": 27,
      "metadata": {},
      "outputs": [],
      "source": [
        "model = AutoModelForTokenClassification.from_pretrained(model_checkpoint)\n",
        "# Geler tous les paramètres du modèle\n",
        "for param in model.parameters():\n",
        "    param.requires_grad = False\n",
        "\n",
        "# Identifier les indices des dernières couches BertLayer que vous souhaitez fine-tuner\n",
        "# Exemple : fine-tuner les deux dernières couches de BertEncoder\n",
        "layers_to_finetune = [len(model.roberta.encoder.layer) - 1, len(model.roberta.encoder.layer) - 1]\n",
        "\n",
        "# Dé-geler les paramètres des couches spécifiées\n",
        "for i in layers_to_finetune:\n",
        "    for param in model.roberta.encoder.layer[i].parameters():\n",
        "        param.requires_grad = True"
      ]
    },
    {
      "cell_type": "code",
      "execution_count": 28,
      "metadata": {},
      "outputs": [
        {
          "data": {
            "text/plain": [
              "[11, 11]"
            ]
          },
          "execution_count": 28,
          "metadata": {},
          "output_type": "execute_result"
        }
      ],
      "source": [
        "layers_to_finetune\n"
      ]
    },
    {
      "cell_type": "code",
      "execution_count": 29,
      "metadata": {},
      "outputs": [
        {
          "data": {
            "text/plain": [
              "CamembertConfig {\n",
              "  \"_name_or_path\": \"Jean-Baptiste/camembert-ner-with-dates\",\n",
              "  \"architectures\": [\n",
              "    \"CamembertForTokenClassification\"\n",
              "  ],\n",
              "  \"attention_probs_dropout_prob\": 0.1,\n",
              "  \"bos_token_id\": 5,\n",
              "  \"classifier_dropout\": null,\n",
              "  \"eos_token_id\": 6,\n",
              "  \"gradient_checkpointing\": false,\n",
              "  \"hidden_act\": \"gelu\",\n",
              "  \"hidden_dropout_prob\": 0.1,\n",
              "  \"hidden_size\": 768,\n",
              "  \"id2label\": {\n",
              "    \"0\": \"O\",\n",
              "    \"1\": \"I-LOC\",\n",
              "    \"2\": \"I-PER\",\n",
              "    \"3\": \"I-MISC\",\n",
              "    \"4\": \"I-ORG\",\n",
              "    \"5\": \"I-DATE\"\n",
              "  },\n",
              "  \"initializer_range\": 0.02,\n",
              "  \"intermediate_size\": 3072,\n",
              "  \"label2id\": {\n",
              "    \"I-DATE\": 5,\n",
              "    \"I-LOC\": 1,\n",
              "    \"I-MISC\": 3,\n",
              "    \"I-ORG\": 4,\n",
              "    \"I-PER\": 2,\n",
              "    \"O\": 0\n",
              "  },\n",
              "  \"layer_norm_eps\": 1e-05,\n",
              "  \"max_position_embeddings\": 514,\n",
              "  \"model_type\": \"camembert\",\n",
              "  \"num_attention_heads\": 12,\n",
              "  \"num_hidden_layers\": 12,\n",
              "  \"output_past\": true,\n",
              "  \"pad_token_id\": 1,\n",
              "  \"position_embedding_type\": \"absolute\",\n",
              "  \"transformers_version\": \"4.37.0.dev0\",\n",
              "  \"type_vocab_size\": 1,\n",
              "  \"use_cache\": true,\n",
              "  \"vocab_size\": 32005\n",
              "}"
            ]
          },
          "execution_count": 29,
          "metadata": {},
          "output_type": "execute_result"
        }
      ],
      "source": [
        "model.config"
      ]
    },
    {
      "cell_type": "code",
      "execution_count": 30,
      "metadata": {},
      "outputs": [
        {
          "data": {
            "text/plain": [
              "6"
            ]
          },
          "execution_count": 30,
          "metadata": {},
          "output_type": "execute_result"
        }
      ],
      "source": [
        "model.config.num_labels"
      ]
    },
    {
      "cell_type": "markdown",
      "metadata": {},
      "source": [
        "# Look at tokenized dictionnary"
      ]
    },
    {
      "cell_type": "code",
      "execution_count": 37,
      "metadata": {},
      "outputs": [
        {
          "data": {
            "text/plain": [
              "Dataset({\n",
              "    features: ['sentence_id', 'tokens', 'labels', 'ner_tags', '__index_level_0__', 'input_ids', 'attention_mask'],\n",
              "    num_rows: 12735\n",
              "})"
            ]
          },
          "execution_count": 37,
          "metadata": {},
          "output_type": "execute_result"
        }
      ],
      "source": [
        "tokenized_datasets_train"
      ]
    },
    {
      "cell_type": "code",
      "execution_count": 38,
      "metadata": {},
      "outputs": [
        {
          "data": {
            "text/plain": [
              "Dataset({\n",
              "    features: ['sentence_id', 'tokens', 'labels', 'ner_tags', '__index_level_0__', 'input_ids', 'attention_mask'],\n",
              "    num_rows: 2730\n",
              "})"
            ]
          },
          "execution_count": 38,
          "metadata": {},
          "output_type": "execute_result"
        }
      ],
      "source": [
        "tokenized_datasets_eval"
      ]
    },
    {
      "cell_type": "code",
      "execution_count": 39,
      "metadata": {},
      "outputs": [
        {
          "data": {
            "text/plain": [
              "{'sentence_id': 7339,\n",
              " 'tokens': ['4', '178104', '00', 'vs', '5', 'rl'],\n",
              " 'labels': [-100, 0, 0, 0, 0, 0, 0, 0, 0, 0, -100],\n",
              " 'ner_tags': [0, 0, 0, 0, 0, 0],\n",
              " '__index_level_0__': 7339,\n",
              " 'input_ids': [5, 181, 458, 6893, 3225, 6701, 9908, 205, 874, 219, 6],\n",
              " 'attention_mask': [1, 1, 1, 1, 1, 1, 1, 1, 1, 1, 1]}"
            ]
          },
          "execution_count": 39,
          "metadata": {},
          "output_type": "execute_result"
        }
      ],
      "source": [
        "tokenized_datasets_train[0]"
      ]
    },
    {
      "cell_type": "code",
      "execution_count": 40,
      "metadata": {},
      "outputs": [
        {
          "data": {
            "text/plain": [
              "{'sentence_id': 9877,\n",
              " 'tokens': ['os'],\n",
              " 'labels': [-100, 0, -100],\n",
              " 'ner_tags': [0],\n",
              " '__index_level_0__': 9877,\n",
              " 'input_ids': [5, 4800, 6],\n",
              " 'attention_mask': [1, 1, 1]}"
            ]
          },
          "execution_count": 40,
          "metadata": {},
          "output_type": "execute_result"
        }
      ],
      "source": [
        "tokenized_datasets_train[2]"
      ]
    },
    {
      "cell_type": "code",
      "execution_count": 41,
      "metadata": {},
      "outputs": [
        {
          "data": {
            "text/plain": [
              "{'sentence_id': 15717,\n",
              " 'tokens': ['ac'],\n",
              " 'labels': [-100, 0, -100],\n",
              " 'ner_tags': [0],\n",
              " '__index_level_0__': 15717,\n",
              " 'input_ids': [5, 5720, 6],\n",
              " 'attention_mask': [1, 1, 1]}"
            ]
          },
          "execution_count": 41,
          "metadata": {},
          "output_type": "execute_result"
        }
      ],
      "source": [
        "tokenized_datasets_eval[2]"
      ]
    },
    {
      "cell_type": "markdown",
      "metadata": {},
      "source": [
        "# Training"
      ]
    },
    {
      "cell_type": "markdown",
      "metadata": {},
      "source": [
        "optimizers : https://huggingface.co/docs/transformers/v4.37.2/en/main_classes/trainer#transformers.TrainingArguments"
      ]
    },
    {
      "cell_type": "code",
      "execution_count": 31,
      "metadata": {},
      "outputs": [
        {
          "data": {
            "text/html": [
              "\n",
              "    <div>\n",
              "      \n",
              "      <progress value='87820' max='131730' style='width:300px; height:20px; vertical-align: middle;'></progress>\n",
              "      [ 87820/131730 1:26:58 < 43:29, 16.83 it/s, Epoch 20/30]\n",
              "    </div>\n",
              "    <table border=\"1\" class=\"dataframe\">\n",
              "  <thead>\n",
              " <tr style=\"text-align: left;\">\n",
              "      <th>Epoch</th>\n",
              "      <th>Training Loss</th>\n",
              "      <th>Validation Loss</th>\n",
              "      <th>Precision</th>\n",
              "      <th>Recall</th>\n",
              "      <th>F1</th>\n",
              "      <th>Accuracy</th>\n",
              "    </tr>\n",
              "  </thead>\n",
              "  <tbody>\n",
              "    <tr>\n",
              "      <td>1</td>\n",
              "      <td>0.296500</td>\n",
              "      <td>0.258891</td>\n",
              "      <td>0.395349</td>\n",
              "      <td>0.189163</td>\n",
              "      <td>0.255890</td>\n",
              "      <td>0.914294</td>\n",
              "    </tr>\n",
              "    <tr>\n",
              "      <td>2</td>\n",
              "      <td>0.259100</td>\n",
              "      <td>0.244793</td>\n",
              "      <td>0.628410</td>\n",
              "      <td>0.323174</td>\n",
              "      <td>0.426837</td>\n",
              "      <td>0.928506</td>\n",
              "    </tr>\n",
              "    <tr>\n",
              "      <td>3</td>\n",
              "      <td>0.196400</td>\n",
              "      <td>0.203674</td>\n",
              "      <td>0.657588</td>\n",
              "      <td>0.408805</td>\n",
              "      <td>0.504177</td>\n",
              "      <td>0.937014</td>\n",
              "    </tr>\n",
              "    <tr>\n",
              "      <td>4</td>\n",
              "      <td>0.190700</td>\n",
              "      <td>0.185499</td>\n",
              "      <td>0.734292</td>\n",
              "      <td>0.469279</td>\n",
              "      <td>0.572609</td>\n",
              "      <td>0.943936</td>\n",
              "    </tr>\n",
              "    <tr>\n",
              "      <td>5</td>\n",
              "      <td>0.186900</td>\n",
              "      <td>0.167801</td>\n",
              "      <td>0.714105</td>\n",
              "      <td>0.546202</td>\n",
              "      <td>0.618969</td>\n",
              "      <td>0.947132</td>\n",
              "    </tr>\n",
              "    <tr>\n",
              "      <td>6</td>\n",
              "      <td>0.157100</td>\n",
              "      <td>0.155955</td>\n",
              "      <td>0.753477</td>\n",
              "      <td>0.576681</td>\n",
              "      <td>0.653330</td>\n",
              "      <td>0.951824</td>\n",
              "    </tr>\n",
              "    <tr>\n",
              "      <td>7</td>\n",
              "      <td>0.165000</td>\n",
              "      <td>0.143758</td>\n",
              "      <td>0.778788</td>\n",
              "      <td>0.621674</td>\n",
              "      <td>0.691418</td>\n",
              "      <td>0.955733</td>\n",
              "    </tr>\n",
              "    <tr>\n",
              "      <td>8</td>\n",
              "      <td>0.160300</td>\n",
              "      <td>0.139849</td>\n",
              "      <td>0.811991</td>\n",
              "      <td>0.674891</td>\n",
              "      <td>0.737120</td>\n",
              "      <td>0.957757</td>\n",
              "    </tr>\n",
              "    <tr>\n",
              "      <td>9</td>\n",
              "      <td>0.149500</td>\n",
              "      <td>0.141756</td>\n",
              "      <td>0.842371</td>\n",
              "      <td>0.646347</td>\n",
              "      <td>0.731454</td>\n",
              "      <td>0.957274</td>\n",
              "    </tr>\n",
              "    <tr>\n",
              "      <td>10</td>\n",
              "      <td>0.154100</td>\n",
              "      <td>0.130431</td>\n",
              "      <td>0.824069</td>\n",
              "      <td>0.695694</td>\n",
              "      <td>0.754460</td>\n",
              "      <td>0.960079</td>\n",
              "    </tr>\n",
              "    <tr>\n",
              "      <td>11</td>\n",
              "      <td>0.144300</td>\n",
              "      <td>0.127598</td>\n",
              "      <td>0.806044</td>\n",
              "      <td>0.709724</td>\n",
              "      <td>0.754824</td>\n",
              "      <td>0.960286</td>\n",
              "    </tr>\n",
              "    <tr>\n",
              "      <td>12</td>\n",
              "      <td>0.151600</td>\n",
              "      <td>0.131674</td>\n",
              "      <td>0.860411</td>\n",
              "      <td>0.709724</td>\n",
              "      <td>0.777837</td>\n",
              "      <td>0.962103</td>\n",
              "    </tr>\n",
              "    <tr>\n",
              "      <td>13</td>\n",
              "      <td>0.143900</td>\n",
              "      <td>0.121488</td>\n",
              "      <td>0.839534</td>\n",
              "      <td>0.731495</td>\n",
              "      <td>0.781799</td>\n",
              "      <td>0.964885</td>\n",
              "    </tr>\n",
              "    <tr>\n",
              "      <td>14</td>\n",
              "      <td>0.135400</td>\n",
              "      <td>0.121288</td>\n",
              "      <td>0.821918</td>\n",
              "      <td>0.783745</td>\n",
              "      <td>0.802377</td>\n",
              "      <td>0.965897</td>\n",
              "    </tr>\n",
              "    <tr>\n",
              "      <td>15</td>\n",
              "      <td>0.130800</td>\n",
              "      <td>0.118375</td>\n",
              "      <td>0.851959</td>\n",
              "      <td>0.715530</td>\n",
              "      <td>0.777807</td>\n",
              "      <td>0.966472</td>\n",
              "    </tr>\n",
              "    <tr>\n",
              "      <td>16</td>\n",
              "      <td>0.133800</td>\n",
              "      <td>0.121748</td>\n",
              "      <td>0.865504</td>\n",
              "      <td>0.744074</td>\n",
              "      <td>0.800208</td>\n",
              "      <td>0.965943</td>\n",
              "    </tr>\n",
              "    <tr>\n",
              "      <td>17</td>\n",
              "      <td>0.143400</td>\n",
              "      <td>0.120184</td>\n",
              "      <td>0.873192</td>\n",
              "      <td>0.759555</td>\n",
              "      <td>0.812419</td>\n",
              "      <td>0.966656</td>\n",
              "    </tr>\n",
              "    <tr>\n",
              "      <td>18</td>\n",
              "      <td>0.110400</td>\n",
              "      <td>0.122000</td>\n",
              "      <td>0.875000</td>\n",
              "      <td>0.731495</td>\n",
              "      <td>0.796838</td>\n",
              "      <td>0.966196</td>\n",
              "    </tr>\n",
              "    <tr>\n",
              "      <td>19</td>\n",
              "      <td>0.112800</td>\n",
              "      <td>0.112728</td>\n",
              "      <td>0.860515</td>\n",
              "      <td>0.776004</td>\n",
              "      <td>0.816077</td>\n",
              "      <td>0.968427</td>\n",
              "    </tr>\n",
              "    <tr>\n",
              "      <td>20</td>\n",
              "      <td>0.117300</td>\n",
              "      <td>0.115152</td>\n",
              "      <td>0.867281</td>\n",
              "      <td>0.774552</td>\n",
              "      <td>0.818298</td>\n",
              "      <td>0.968542</td>\n",
              "    </tr>\n",
              "  </tbody>\n",
              "</table><p>"
            ],
            "text/plain": [
              "<IPython.core.display.HTML object>"
            ]
          },
          "metadata": {},
          "output_type": "display_data"
        },
        {
          "name": "stderr",
          "output_type": "stream",
          "text": [
            "/home/charlie/.pyenv/versions/3.10.6/envs/tata_env/lib/python3.10/site-packages/seqeval/metrics/v1.py:57: UndefinedMetricWarning: Precision and F-score are ill-defined and being set to 0.0 in labels with no predicted samples. Use `zero_division` parameter to control this behavior.\n",
            "  _warn_prf(average, modifier, msg_start, len(result))\n"
          ]
        },
        {
          "data": {
            "text/plain": [
              "TrainOutput(global_step=87820, training_loss=0.169805510791769, metrics={'train_runtime': 5219.5267, 'train_samples_per_second': 201.875, 'train_steps_per_second': 25.238, 'total_flos': 5558163164424612.0, 'train_loss': 0.169805510791769, 'epoch': 20.0})"
            ]
          },
          "execution_count": 31,
          "metadata": {},
          "output_type": "execute_result"
        }
      ],
      "source": [
        "args = TrainingArguments(\n",
        "    \"bert-finetuned-ner-11\",\n",
        "    evaluation_strategy=\"epoch\",\n",
        "    learning_rate=7e-6,\n",
        "    num_train_epochs=30,\n",
        "    weight_decay=0.02,\n",
        "    push_to_hub=False,\n",
        "    metric_for_best_model = 'f1',\n",
        "    load_best_model_at_end=True,\n",
        "    save_strategy=\"epoch\",\n",
        "    # optim='adafactor',\n",
        ")\n",
        "\n",
        "trainer = Trainer(\n",
        "    model=model,\n",
        "    args=args,\n",
        "    train_dataset=tokenized_datasets_train,\n",
        "    eval_dataset=tokenized_datasets_eval,\n",
        "    data_collator=data_collator,\n",
        "    compute_metrics=compute_metrics,\n",
        "    tokenizer=tokenizer,\n",
        "    callbacks=[EarlyStoppingCallback(early_stopping_patience=3, early_stopping_threshold=0.01)],\n",
        "\n",
        ")\n",
        "trainer.train()"
      ]
    },
    {
      "cell_type": "markdown",
      "metadata": {},
      "source": [
        "# Graphic representation"
      ]
    },
    {
      "cell_type": "markdown",
      "metadata": {},
      "source": [
        "## Confusion matrix"
      ]
    },
    {
      "cell_type": "code",
      "execution_count": 52,
      "metadata": {},
      "outputs": [
        {
          "data": {
            "text/html": [],
            "text/plain": [
              "<IPython.core.display.HTML object>"
            ]
          },
          "metadata": {},
          "output_type": "display_data"
        }
      ],
      "source": [
        "# Obtenir les prédictions\n",
        "predictions, labels, _ = trainer.predict(tokenized_datasets_test)\n",
        "predictions = np.argmax(predictions, axis=2)"
      ]
    },
    {
      "cell_type": "code",
      "execution_count": 53,
      "metadata": {},
      "outputs": [
        {
          "data": {
            "text/plain": [
              "Text(0.5, 1.0, 'Confusion Matrix après entrainnement 10')"
            ]
          },
          "execution_count": 53,
          "metadata": {},
          "output_type": "execute_result"
        },
        {
          "data": {
            "image/png": "[encoded data removed]",
            "text/plain": [
              "<Figure size 800x800 with 2 Axes>"
            ]
          },
          "metadata": {},
          "output_type": "display_data"
        }
      ],
      "source": [
        "# Aplatir les listes\n",
        "true_labels = []\n",
        "pred_labels = []\n",
        "for i, label in enumerate(labels):\n",
        "    for j, label_id in enumerate(label):\n",
        "        if label_id != -100:  # Ignorer les tokens spéciaux\n",
        "            true_labels.append(label_id)\n",
        "            pred_labels.append(predictions[i][j])\n",
        "\n",
        "# Convertir les indices en étiquettes textuelles (selon votre mapping d'indices)\n",
        "# Vous devez définir `id2label` basé sur votre modèle ou votre Tokenizer\n",
        "true_label_text = [id2label[id] for id in true_labels]\n",
        "pred_label_text = [id2label[id] for id in pred_labels]\n",
        "\n",
        "# Calculer la matrice de confusion\n",
        "conf_matrix = confusion_matrix(true_label_text, pred_label_text, labels=list(id2label.values()))\n",
        "\n",
        "# Sauvegarder le graphique Seaborn dans un fichier image (par exemple, PNG)\n",
        "plt.figure(figsize=(8, 8))\n",
        "sns.heatmap(conf_matrix, annot=True, fmt='d', cmap='Blues', xticklabels=new_entity_list, yticklabels=new_entity_list)\n",
        "plt.xlabel('Predicted')\n",
        "plt.ylabel('True')\n",
        "plt.title('Confusion Matrix après entrainnement 10')"
      ]
    },
    {
      "cell_type": "markdown",
      "metadata": {},
      "source": [
        "## Loss and Accuracy"
      ]
    },
    {
      "cell_type": "code",
      "execution_count": 35,
      "metadata": {},
      "outputs": [
        {
          "data": {
            "image/png": "[encoded data removed]",
            "text/plain": [
              "<Figure size 1000x500 with 1 Axes>"
            ]
          },
          "metadata": {},
          "output_type": "display_data"
        }
      ],
      "source": [
        "# Récupération des métriques d'entraînement\n",
        "train_metrics = trainer.state.log_history\n",
        "\n",
        "# Extraction des métriques spécifiques que vous souhaitez tracer (par exemple, la perte)\n",
        "train_loss = [metric['loss'] for metric in train_metrics if 'loss' in metric]\n",
        "plt.figure(figsize=(10, 5))\n",
        "plt.plot(train_loss, label='Training Loss', marker='o')\n",
        "\n",
        "plt.title('Training Loss')\n",
        "plt.xlabel('Epoch')\n",
        "plt.ylabel('Loss')\n",
        "plt.legend()\n",
        "plt.show()"
      ]
    },
    {
      "cell_type": "code",
      "execution_count": 36,
      "metadata": {},
      "outputs": [
        {
          "name": "stdout",
          "output_type": "stream",
          "text": [
            "eval_losses [0.2588905096054077, 0.2447931468486786, 0.20367392897605896, 0.1854986995458603, 0.1678014099597931, 0.15595509111881256, 0.14375753700733185, 0.139849454164505, 0.1417558640241623, 0.1304313689470291, 0.1275978535413742, 0.1316736787557602, 0.12148836255073547, 0.12128768116235733, 0.11837461590766907, 0.12174849212169647, 0.12018397450447083, 0.12200003862380981, 0.11272842437028885, 0.11515157669782639]\n",
            "eval_accuracies: [0.9142942556224992, 0.9285057259807754, 0.9370142114703582, 0.9439359793956675, 0.9471324104309433, 0.9518235754035782, 0.9557328795474406, 0.9577565193395575, 0.9572736052982569, 0.9600791059191464, 0.9602860690797038, 0.9621027457112634, 0.9648852504254243, 0.9658970703214828, 0.9664719679896978, 0.96594306213494, 0.9666559352435267, 0.9661960171089546, 0.968426620061629, 0.9685415995952721]\n"
          ]
        }
      ],
      "source": [
        "eval_losses = []\n",
        "eval_accuracies = []\n",
        "\n",
        "for log in trainer.state.log_history:\n",
        "    if 'eval_loss' in log and 'step' in log:  # Métriques d'entraînement\n",
        "        eval_losses.append(log['eval_loss'])\n",
        "\n",
        "    if 'eval_accuracy' in log:  # Score F1 d'évaluation\n",
        "        eval_accuracies.append(log['eval_accuracy'])\n",
        "\n",
        "# Affichage des métriques récupérées\n",
        "print(\"eval_losses\", eval_losses)\n",
        "print(\"eval_accuracies:\", eval_accuracies)"
      ]
    },
    {
      "cell_type": "code",
      "execution_count": 37,
      "metadata": {},
      "outputs": [
        {
          "data": {
            "image/png": "[encoded data removed]",
            "text/plain": [
              "<Figure size 1000x600 with 1 Axes>"
            ]
          },
          "metadata": {},
          "output_type": "display_data"
        }
      ],
      "source": [
        "train_loss = [entry[\"loss\"] for entry in train_metrics if \"loss\" in entry]\n",
        "eval_loss = [entry[\"eval_loss\"] for entry in train_metrics if \"eval_loss\" in entry]\n",
        "epochs = [entry[\"epoch\"] for entry in train_metrics if \"loss\" in entry or \"eval_loss\" in entry]\n",
        "\n",
        "# Création du graphique\n",
        "plt.figure(figsize=(10, 6))\n",
        "plt.plot(epochs[:len(train_loss)], train_loss, label='Training Loss')\n",
        "plt.plot(epochs[:len(eval_loss)], eval_loss, label='Evaluation Loss')\n",
        "plt.xlabel('Epochs')\n",
        "plt.ylabel('Loss')\n",
        "plt.title('Training vs Evaluation Loss')\n",
        "plt.legend()\n",
        "plt.show()"
      ]
    },
    {
      "cell_type": "markdown",
      "metadata": {},
      "source": [
        "# Save the model"
      ]
    },
    {
      "cell_type": "code",
      "execution_count": 38,
      "metadata": {},
      "outputs": [],
      "source": [
        "saved_model_path='custom_model-11'\n",
        "trainer.save_model(saved_model_path)"
      ]
    },
    {
      "cell_type": "markdown",
      "metadata": {},
      "source": [
        "# Evaluate"
      ]
    },
    {
      "cell_type": "code",
      "execution_count": 39,
      "metadata": {},
      "outputs": [
        {
          "data": {
            "text/html": [],
            "text/plain": [
              "<IPython.core.display.HTML object>"
            ]
          },
          "metadata": {},
          "output_type": "display_data"
        }
      ],
      "source": [
        "predictions = trainer.predict(tokenized_datasets_eval)"
      ]
    },
    {
      "cell_type": "code",
      "execution_count": 40,
      "metadata": {},
      "outputs": [
        {
          "name": "stdout",
          "output_type": "stream",
          "text": [
            "Metric          Score\n",
            "--------------  ------------------\n",
            "test_precision  86.72999999999999%\n",
            "test_recall     77.46%\n",
            "test_f1         81.83%\n",
            "test_accuracy   96.85000000000001%\n"
          ]
        }
      ],
      "source": [
        "from tabulate import tabulate\n",
        "\n",
        "metrics = ['precision', 'recall', 'f1', 'accuracy']\n",
        "prediction_results = []\n",
        "\n",
        "for key, val in predictions.metrics.items():\n",
        "    if any(item in key for item in metrics):\n",
        "        prediction_results.append([key, str(round(val,4)*100)+'%'])\n",
        "\n",
        "print(tabulate(prediction_results, headers=['Metric', 'Score']))"
      ]
    },
    {
      "cell_type": "markdown",
      "metadata": {},
      "source": [
        "# Inference"
      ]
    },
    {
      "cell_type": "code",
      "execution_count": 41,
      "metadata": {},
      "outputs": [],
      "source": [
        "inference= \"\"\"MR. D.I.¥. (KUCHAT) SDN BHD\n",
        "CO-REG:750441-W\n",
        "LOT 1851-A & 1851-B, JALAN KPB 6,\n",
        "KAWASAN PERINDUSTRIAN BALAKONG,\n",
        "43300 SERI KEMBANGAN, SELANGOR\n",
        "(GST ID No :000473792512)\n",
        "(TESCO EXTRA KAJANG)\n",
        "-TAX INVOICE-\n",
        "\n",
        "BOOSTER CABLE XH-500A +*§\n",
        "CE72 - 10\n",
        "9001620 1X 29.90 298,90\n",
        "MOTH BALLS 1506 *§\n",
        "EC21-41-71 - 10/100\n",
        "9063977 1X 2,10 2,10\n",
        "DIY GOLD TWIST DRILL 3MM *§\n",
        "LB22 - 20/1500\n",
        "9071246 1X 2,50 2,50\n",
        "HSS TWIST DRILL 6*160MM *§\n",
        "LG32-42 - 10/400\n",
        "6909906163107 1X 3.30 3,30\n",
        "\n",
        "Item(s) : 4 Qty(s) : 4\n",
        "TOTAL INCL. GSTe6K RM 37.80\n",
        "CASH RM 40.00\n",
        "CHANGE RM 2.20\n",
        "\n",
        "GST Summary Amt(RM) = Tax(RM)\n",
        "GST S@6% 35.66 2.14\n",
        "\n",
        "08-03-17 13:42 SHO1 BO28 = 12 000017473\n",
        "OPERATOR TRAINEE\n",
        "\n",
        "EXCHANGE ARE ALLOWED WITHIN\n",
        "7 DAY WITH RECEIPT.\n",
        "STRICTLY NO CASH REFUND.\n",
        "\n",
        "\n",
        "\n",
        "ee are can\"\"\""
      ]
    },
    {
      "cell_type": "code",
      "execution_count": 42,
      "metadata": {},
      "outputs": [],
      "source": [
        "token_classifier = pipeline(\n",
        "    \"token-classification\", model=saved_model_path, aggregation_strategy=\"simple\"\n",
        ")\n",
        "results = token_classifier(inference)"
      ]
    },
    {
      "cell_type": "code",
      "execution_count": 43,
      "metadata": {},
      "outputs": [
        {
          "name": "stdout",
          "output_type": "stream",
          "text": [
            "Word                                                                                                                                          Predictions\n",
            "--------------------------------------------------------------------------------------------------------------------------------------------  -------------\n",
            "MR. D.I.¥. (KUCHAT) SDN BHD CO-REG:750441-W LOT 1851-A & 1851-B, JALAN KPB 6, KAWASAN PERINDUSTRIAN BALAKONG, 43300 SERI KEMBANGAN, SELANGOR  PER\n",
            "TRA KAJANG                                                                                                                                    PER\n",
            "A                                                                                                                                             PER\n",
            "§ CE72                                                                                                                                        PER\n",
            "B                                                                                                                                             PER\n",
            "S 1506                                                                                                                                        PER\n",
            "EC21-41-71                                                                                                                                    PER\n",
            "MM                                                                                                                                            PER\n",
            "§ LB22                                                                                                                                        PER\n",
            "LG32-42                                                                                                                                       PER\n",
            "08                                                                                                                                            MISC\n",
            "-03-17                                                                                                                                        ORG\n",
            "SHO1 BO28 = 12                                                                                                                                PER\n",
            ".                                                                                                                                             DATE\n"
          ]
        }
      ],
      "source": [
        "prediction_results = []\n",
        "for each_entity in results:\n",
        "    prediction_results.append([each_entity['word'], each_entity['entity_group']])\n",
        "\n",
        "print(tabulate(prediction_results, headers=['Word', 'Predictions']))"
      ]
    }
  ],
  "metadata": {
    "kernel_info": {
      "name": "python3"
    },
    "kernelspec": {
      "display_name": "Python 3 (ipykernel)",
      "language": "python",
      "name": "python3"
    },
    "language_info": {
      "codemirror_mode": {
        "name": "ipython",
        "version": 3
      },
      "file_extension": ".py",
      "mimetype": "text/x-python",
      "name": "python",
      "nbconvert_exporter": "python",
      "pygments_lexer": "ipython3",
      "version": "3.10.6"
    },
    "microsoft": {
      "ms_spell_check": {
        "ms_spell_check_language": "en"
      }
    },
    "nteract": {
      "version": "nteract-front-end@1.0.0"
    }
  },
  "nbformat": 4,
  "nbformat_minor": 2
}
