{
 "cells": [
  {
   "cell_type": "markdown",
   "metadata": {},
   "source": [
    "# 01_ Import modules"
   ]
  },
  {
   "cell_type": "code",
   "execution_count": null,
   "metadata": {},
   "outputs": [],
   "source": [
    "import pytesseract"
   ]
  },
  {
   "cell_type": "markdown",
   "metadata": {},
   "source": [
    "# 02_ Create pipeline"
   ]
  },
  {
   "cell_type": "code",
   "execution_count": null,
   "metadata": {},
   "outputs": [],
   "source": [
    "import os\n",
    "import pytesseract\n",
    "\n",
    "img_path = '/home/e077926/buscode_2023/05_E2_tata/data/SROIE2019/train/img'\n",
    "\n",
    "for img in os.listdir(img_path):\n",
    "    # Vérifier si le fichier est une image (ajuster les extensions selon vos besoins)\n",
    "    if img.lower().endswith(('.png', '.jpg', '.jpeg')):\n",
    "        img_full_path = os.path.join(img_path, img)\n",
    "        img_name, _ = os.path.splitext(os.path.basename(img_full_path))\n",
    "\n",
    "        text = pytesseract.image_to_string(img_full_path, lang='eng')\n",
    "        \n",
    "        with open(f'/home/e077926/buscode_2023/05_E2_tata/data/SROIE2019/train/text/{img_name}.txt', 'w') as f:\n",
    "            f.write(text)\n"
   ]
  },
  {
   "cell_type": "code",
   "execution_count": null,
   "metadata": {},
   "outputs": [],
   "source": [
    "# img_path1 = '/home/e077926/buscode_2023/05_E2_tata/data/SROIE2019/train/img/X00016469619.jpg'\n",
    "# text = pytesseract.image_to_string(img_path1,lang='eng')\n",
    "# print(text)"
   ]
  }
 ],
 "metadata": {
  "language_info": {
   "name": "python"
  }
 },
 "nbformat": 4,
 "nbformat_minor": 2
}
