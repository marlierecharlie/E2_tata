{
 "cells": [
  {
   "cell_type": "markdown",
   "metadata": {},
   "source": [
    "# Load modules"
   ]
  },
  {
   "cell_type": "code",
   "execution_count": 2,
   "metadata": {},
   "outputs": [],
   "source": [
    "import os\n",
    "import pandas as pd\n",
    "import json\n",
    "import numpy as np"
   ]
  },
  {
   "cell_type": "markdown",
   "metadata": {},
   "source": [
    "# Add all datas"
   ]
  },
  {
   "cell_type": "markdown",
   "metadata": {},
   "source": [
    "## Create bbox df"
   ]
  },
  {
   "cell_type": "code",
   "execution_count": 3,
   "metadata": {},
   "outputs": [],
   "source": [
    "def create_bbox_df(input_folder):\n",
    "    df_list = []\n",
    "    for txt_file in os.listdir(input_folder):\n",
    "        # Construire le chemin complet du fichier texte\n",
    "        txt_file_path = os.path.join(input_folder, txt_file)\n",
    "\n",
    "        # Extraire l'ID du document à partir du nom du fichier sans extension\n",
    "        doc_id = os.path.splitext(txt_file)[0]\n",
    "\n",
    "        # Lire les lignes du fichier texte\n",
    "        with open(txt_file_path, 'r', encoding='ISO-8859-1') as f:\n",
    "            doc = f.readlines()\n",
    "            # Vérifier si le fichier n'est pas vide et exclure les lignes qui ne contiennent que '\\n'\n",
    "            filtered_lines = [line.strip() for line in doc if line.strip()]\n",
    "            for idx, line in enumerate(filtered_lines, start=1):\n",
    "                line = str(line)\n",
    "                line = ','.join(line.split(',')[8:])\n",
    "                if line:\n",
    "                    # Créer un DataFrame pour les lignes du fichier texte\n",
    "                    df_lines = pd.DataFrame({'value': [line]})\n",
    "\n",
    "                    # Ajouter les colonnes d'ID du document et d'ID de ligne\n",
    "                    df_lines['doc'] = doc_id\n",
    "                    df_lines['line_id'] = idx  # Utiliser l'index de la boucle comme ID de ligne\n",
    "\n",
    "                    # Ajouter ce DataFrame à la liste\n",
    "                    df_list.append(df_lines)\n",
    "\n",
    "                    # Concaténer tous les DataFrames dans la liste en un seul DataFrame\n",
    "    df = pd.concat(df_list, ignore_index=True)\n",
    "    df['value'] = df['value'].str.split()\n",
    "    # Utiliser explode pour créer une ligne pour chaque mot tout en conservant l'ID\n",
    "    df =df.explode('value', ignore_index=True)\n",
    "    return df"
   ]
  },
  {
   "cell_type": "code",
   "execution_count": 4,
   "metadata": {},
   "outputs": [
    {
     "data": {
      "text/html": [
       "<div>\n",
       "<style scoped>\n",
       "    .dataframe tbody tr th:only-of-type {\n",
       "        vertical-align: middle;\n",
       "    }\n",
       "\n",
       "    .dataframe tbody tr th {\n",
       "        vertical-align: top;\n",
       "    }\n",
       "\n",
       "    .dataframe thead th {\n",
       "        text-align: right;\n",
       "    }\n",
       "</style>\n",
       "<table border=\"1\" class=\"dataframe\">\n",
       "  <thead>\n",
       "    <tr style=\"text-align: right;\">\n",
       "      <th></th>\n",
       "      <th>value</th>\n",
       "      <th>doc</th>\n",
       "      <th>line_id</th>\n",
       "    </tr>\n",
       "  </thead>\n",
       "  <tbody>\n",
       "    <tr>\n",
       "      <th>0</th>\n",
       "      <td>TAN</td>\n",
       "      <td>X00016469612</td>\n",
       "      <td>1</td>\n",
       "    </tr>\n",
       "    <tr>\n",
       "      <th>1</th>\n",
       "      <td>WOON</td>\n",
       "      <td>X00016469612</td>\n",
       "      <td>1</td>\n",
       "    </tr>\n",
       "    <tr>\n",
       "      <th>2</th>\n",
       "      <td>YANN</td>\n",
       "      <td>X00016469612</td>\n",
       "      <td>1</td>\n",
       "    </tr>\n",
       "    <tr>\n",
       "      <th>3</th>\n",
       "      <td>BOOK</td>\n",
       "      <td>X00016469612</td>\n",
       "      <td>2</td>\n",
       "    </tr>\n",
       "    <tr>\n",
       "      <th>4</th>\n",
       "      <td>TA</td>\n",
       "      <td>X00016469612</td>\n",
       "      <td>2</td>\n",
       "    </tr>\n",
       "  </tbody>\n",
       "</table>\n",
       "</div>"
      ],
      "text/plain": [
       "  value           doc  line_id\n",
       "0   TAN  X00016469612        1\n",
       "1  WOON  X00016469612        1\n",
       "2  YANN  X00016469612        1\n",
       "3  BOOK  X00016469612        2\n",
       "4    TA  X00016469612        2"
      ]
     },
     "execution_count": 4,
     "metadata": {},
     "output_type": "execute_result"
    }
   ],
   "source": [
    "input_folder_train= '/home/e077926/buscode_2023/05_E2_tata/data/SROIE2019/train/box'\n",
    "input_folder_test='/home/e077926/buscode_2023/05_E2_tata/data/SROIE2019/test/box'\n",
    "\n",
    "bbox_values_df_train=create_bbox_df(input_folder_train)\n",
    "bbox_values_df_test=create_bbox_df(input_folder_test)\n",
    "bbox_values_df_train.head()"
   ]
  },
  {
   "cell_type": "code",
   "execution_count": 5,
   "metadata": {},
   "outputs": [
    {
     "data": {
      "text/plain": [
       "72390"
      ]
     },
     "execution_count": 5,
     "metadata": {},
     "output_type": "execute_result"
    }
   ],
   "source": [
    "len(bbox_values_df_train)"
   ]
  },
  {
   "cell_type": "markdown",
   "metadata": {},
   "source": [
    "## Create labels df"
   ]
  },
  {
   "cell_type": "code",
   "execution_count": 6,
   "metadata": {},
   "outputs": [],
   "source": [
    "def create_label_df(label_folder_path):\n",
    "    label_df = pd.DataFrame(columns=['value', 'entity', 'doc'])\n",
    "    # Parcourir les fichiers dans le dossier\n",
    "    for entity_file in os.listdir(label_folder_path):\n",
    "        file_name, _ = os.path.splitext(entity_file)\n",
    "        file_path = os.path.join(label_folder_path, entity_file)\n",
    "\n",
    "        # Charger le fichier JSON\n",
    "        with open(file_path, 'r') as f:\n",
    "            data_dict = json.load(f)\n",
    "\n",
    "            # Parcourir les clés et valeurs du dictionnaire pour créer des lignes de DataFrame\n",
    "            for k, v in data_dict.items():\n",
    "                # Ajouter les clés et valeurs au DataFrame\n",
    "                temp_df = pd.DataFrame({'value': [v], 'entity': [k], 'doc': [file_name]})\n",
    "                label_df = pd.concat([label_df, temp_df], ignore_index=True)\n",
    "\n",
    "    # Convertir la colonne 'value' au format string, si nécessaire\n",
    "    label_df['value'] = label_df['value'].astype(str)\n",
    "    label_df['value'] = label_df['value'].str.split()\n",
    "# Utiliser explode pour créer une ligne pour chaque mot tout en conservant l'ID\n",
    "    label_df =label_df.explode('value', ignore_index=True)\n",
    "    return label_df"
   ]
  },
  {
   "cell_type": "code",
   "execution_count": 7,
   "metadata": {},
   "outputs": [],
   "source": [
    "label_folder_path_train = \"/home/e077926/buscode_2023/05_E2_tata/data/SROIE2019/train/entities/\"\n",
    "label_folder_path_test = \"/home/e077926/buscode_2023/05_E2_tata/data/SROIE2019/test/entities\"\n",
    "\n",
    "bbox_labels_df_train=create_label_df(label_folder_path_train)\n",
    "bbox_labels_df_test=create_label_df(label_folder_path_test)"
   ]
  },
  {
   "cell_type": "code",
   "execution_count": 8,
   "metadata": {},
   "outputs": [
    {
     "data": {
      "text/html": [
       "<div>\n",
       "<style scoped>\n",
       "    .dataframe tbody tr th:only-of-type {\n",
       "        vertical-align: middle;\n",
       "    }\n",
       "\n",
       "    .dataframe tbody tr th {\n",
       "        vertical-align: top;\n",
       "    }\n",
       "\n",
       "    .dataframe thead th {\n",
       "        text-align: right;\n",
       "    }\n",
       "</style>\n",
       "<table border=\"1\" class=\"dataframe\">\n",
       "  <thead>\n",
       "    <tr style=\"text-align: right;\">\n",
       "      <th></th>\n",
       "      <th>value</th>\n",
       "      <th>entity</th>\n",
       "      <th>doc</th>\n",
       "    </tr>\n",
       "  </thead>\n",
       "  <tbody>\n",
       "    <tr>\n",
       "      <th>0</th>\n",
       "      <td>OJC</td>\n",
       "      <td>company</td>\n",
       "      <td>X00016469670</td>\n",
       "    </tr>\n",
       "    <tr>\n",
       "      <th>1</th>\n",
       "      <td>MARKETING</td>\n",
       "      <td>company</td>\n",
       "      <td>X00016469670</td>\n",
       "    </tr>\n",
       "    <tr>\n",
       "      <th>2</th>\n",
       "      <td>SDN</td>\n",
       "      <td>company</td>\n",
       "      <td>X00016469670</td>\n",
       "    </tr>\n",
       "    <tr>\n",
       "      <th>3</th>\n",
       "      <td>BHD</td>\n",
       "      <td>company</td>\n",
       "      <td>X00016469670</td>\n",
       "    </tr>\n",
       "    <tr>\n",
       "      <th>4</th>\n",
       "      <td>15/01/2019</td>\n",
       "      <td>date</td>\n",
       "      <td>X00016469670</td>\n",
       "    </tr>\n",
       "    <tr>\n",
       "      <th>...</th>\n",
       "      <td>...</td>\n",
       "      <td>...</td>\n",
       "      <td>...</td>\n",
       "    </tr>\n",
       "    <tr>\n",
       "      <th>6077</th>\n",
       "      <td>56100</td>\n",
       "      <td>address</td>\n",
       "      <td>X51009568881</td>\n",
       "    </tr>\n",
       "    <tr>\n",
       "      <th>6078</th>\n",
       "      <td>CHERAS,</td>\n",
       "      <td>address</td>\n",
       "      <td>X51009568881</td>\n",
       "    </tr>\n",
       "    <tr>\n",
       "      <th>6079</th>\n",
       "      <td>KUALA</td>\n",
       "      <td>address</td>\n",
       "      <td>X51009568881</td>\n",
       "    </tr>\n",
       "    <tr>\n",
       "      <th>6080</th>\n",
       "      <td>LUMPUR.</td>\n",
       "      <td>address</td>\n",
       "      <td>X51009568881</td>\n",
       "    </tr>\n",
       "    <tr>\n",
       "      <th>6081</th>\n",
       "      <td>10.40</td>\n",
       "      <td>total</td>\n",
       "      <td>X51009568881</td>\n",
       "    </tr>\n",
       "  </tbody>\n",
       "</table>\n",
       "<p>6082 rows × 3 columns</p>\n",
       "</div>"
      ],
      "text/plain": [
       "           value   entity           doc\n",
       "0            OJC  company  X00016469670\n",
       "1      MARKETING  company  X00016469670\n",
       "2            SDN  company  X00016469670\n",
       "3            BHD  company  X00016469670\n",
       "4     15/01/2019     date  X00016469670\n",
       "...          ...      ...           ...\n",
       "6077       56100  address  X51009568881\n",
       "6078     CHERAS,  address  X51009568881\n",
       "6079       KUALA  address  X51009568881\n",
       "6080     LUMPUR.  address  X51009568881\n",
       "6081       10.40    total  X51009568881\n",
       "\n",
       "[6082 rows x 3 columns]"
      ]
     },
     "execution_count": 8,
     "metadata": {},
     "output_type": "execute_result"
    }
   ],
   "source": [
    "bbox_labels_df_test"
   ]
  },
  {
   "cell_type": "markdown",
   "metadata": {},
   "source": [
    "# Bios Datas with b-box"
   ]
  },
  {
   "cell_type": "markdown",
   "metadata": {},
   "source": [
    "## Bold ner df"
   ]
  },
  {
   "cell_type": "code",
   "execution_count": 9,
   "metadata": {},
   "outputs": [],
   "source": [
    "def add_bold_entities(id_df, label_df):\n",
    "\n",
    "    new_df = pd.merge(id_df, label_df,  how='left', on = ['doc','value'])\n",
    "    new_df = new_df.reindex(columns=[\"doc\", \"line_id\", \"value\", \"entity\"])\n",
    "    grouped_counts= new_df.groupby(['doc', 'line_id', 'entity']).size().reset_index(name='count')\n",
    "    grouped_counts['max'] = grouped_counts.groupby(['doc', 'line_id'])['count'].transform('max')\n",
    "    temp_df=new_df.merge(grouped_counts, how='left', on=['doc', 'line_id', 'entity'])\n",
    "    temp_df.drop(temp_df[temp_df['count']< temp_df['max']].index, inplace = True)\n",
    "    temp_df['is_duplicate'] = temp_df.duplicated(subset=['doc', 'line_id', 'value'], keep=False)\n",
    "\n",
    "    # Filtrer pour garder uniquement les lignes qui sont des doublons\n",
    "    duplicates = temp_df[temp_df['is_duplicate']]\n",
    "\n",
    "    # Filtrer les doublons pour garder seulement ceux dont 'entity' n'apparaît pas déjà dans le même 'doc'\n",
    "    filtered_duplicates = duplicates[~duplicates['entity'].isin(duplicates.groupby(['doc', 'value'])['entity'].transform('first'))]\n",
    "\n",
    "    # Concaténer les lignes à garder avec les lignes qui ne sont pas des doublons\n",
    "    result_df = pd.concat([temp_df[~temp_df['is_duplicate']], filtered_duplicates])\n",
    "\n",
    "    # Supprimer la colonne temporaire\n",
    "    result_df = result_df.drop(columns=['is_duplicate'])\n",
    "    O_df=result_df.copy()\n",
    "    O_df['entity'] = O_df['entity'].fillna('O')\n",
    "    # Créer une nouvelle colonne pour les entités avec les suffixes\n",
    "    BIO_df=O_df.copy().reset_index()\n",
    "    bold_entity_df=BIO_df.drop(columns=['count','max', 'index'])\n",
    "    return bold_entity_df"
   ]
  },
  {
   "cell_type": "code",
   "execution_count": 10,
   "metadata": {},
   "outputs": [],
   "source": [
    "bold_df_train=add_bold_entities(bbox_values_df_train,bbox_labels_df_train)\n",
    "bold_df_test=add_bold_entities(bbox_values_df_test,bbox_labels_df_test)"
   ]
  },
  {
   "cell_type": "code",
   "execution_count": 11,
   "metadata": {},
   "outputs": [
    {
     "data": {
      "text/html": [
       "<div>\n",
       "<style scoped>\n",
       "    .dataframe tbody tr th:only-of-type {\n",
       "        vertical-align: middle;\n",
       "    }\n",
       "\n",
       "    .dataframe tbody tr th {\n",
       "        vertical-align: top;\n",
       "    }\n",
       "\n",
       "    .dataframe thead th {\n",
       "        text-align: right;\n",
       "    }\n",
       "</style>\n",
       "<table border=\"1\" class=\"dataframe\">\n",
       "  <thead>\n",
       "    <tr style=\"text-align: right;\">\n",
       "      <th></th>\n",
       "      <th>doc</th>\n",
       "      <th>line_id</th>\n",
       "      <th>value</th>\n",
       "      <th>entity</th>\n",
       "    </tr>\n",
       "  </thead>\n",
       "  <tbody>\n",
       "    <tr>\n",
       "      <th>0</th>\n",
       "      <td>X00016469612</td>\n",
       "      <td>1</td>\n",
       "      <td>TAN</td>\n",
       "      <td>O</td>\n",
       "    </tr>\n",
       "    <tr>\n",
       "      <th>1</th>\n",
       "      <td>X00016469612</td>\n",
       "      <td>1</td>\n",
       "      <td>WOON</td>\n",
       "      <td>O</td>\n",
       "    </tr>\n",
       "    <tr>\n",
       "      <th>2</th>\n",
       "      <td>X00016469612</td>\n",
       "      <td>1</td>\n",
       "      <td>YANN</td>\n",
       "      <td>O</td>\n",
       "    </tr>\n",
       "    <tr>\n",
       "      <th>3</th>\n",
       "      <td>X00016469612</td>\n",
       "      <td>2</td>\n",
       "      <td>BOOK</td>\n",
       "      <td>company</td>\n",
       "    </tr>\n",
       "    <tr>\n",
       "      <th>4</th>\n",
       "      <td>X00016469612</td>\n",
       "      <td>2</td>\n",
       "      <td>TA</td>\n",
       "      <td>company</td>\n",
       "    </tr>\n",
       "    <tr>\n",
       "      <th>...</th>\n",
       "      <td>...</td>\n",
       "      <td>...</td>\n",
       "      <td>...</td>\n",
       "      <td>...</td>\n",
       "    </tr>\n",
       "    <tr>\n",
       "      <th>71715</th>\n",
       "      <td>X51008164997</td>\n",
       "      <td>51</td>\n",
       "      <td>****</td>\n",
       "      <td>O</td>\n",
       "    </tr>\n",
       "    <tr>\n",
       "      <th>71716</th>\n",
       "      <td>X51008164998</td>\n",
       "      <td>48</td>\n",
       "      <td>****</td>\n",
       "      <td>O</td>\n",
       "    </tr>\n",
       "    <tr>\n",
       "      <th>71717</th>\n",
       "      <td>X51008164998</td>\n",
       "      <td>48</td>\n",
       "      <td>****</td>\n",
       "      <td>O</td>\n",
       "    </tr>\n",
       "    <tr>\n",
       "      <th>71718</th>\n",
       "      <td>X51008164999</td>\n",
       "      <td>65</td>\n",
       "      <td>****</td>\n",
       "      <td>O</td>\n",
       "    </tr>\n",
       "    <tr>\n",
       "      <th>71719</th>\n",
       "      <td>X51008164999</td>\n",
       "      <td>65</td>\n",
       "      <td>****</td>\n",
       "      <td>O</td>\n",
       "    </tr>\n",
       "  </tbody>\n",
       "</table>\n",
       "<p>71720 rows × 4 columns</p>\n",
       "</div>"
      ],
      "text/plain": [
       "                doc  line_id value   entity\n",
       "0      X00016469612        1   TAN        O\n",
       "1      X00016469612        1  WOON        O\n",
       "2      X00016469612        1  YANN        O\n",
       "3      X00016469612        2  BOOK  company\n",
       "4      X00016469612        2    TA  company\n",
       "...             ...      ...   ...      ...\n",
       "71715  X51008164997       51  ****        O\n",
       "71716  X51008164998       48  ****        O\n",
       "71717  X51008164998       48  ****        O\n",
       "71718  X51008164999       65  ****        O\n",
       "71719  X51008164999       65  ****        O\n",
       "\n",
       "[71720 rows x 4 columns]"
      ]
     },
     "execution_count": 11,
     "metadata": {},
     "output_type": "execute_result"
    }
   ],
   "source": [
    "bold_df_train"
   ]
  },
  {
   "cell_type": "code",
   "execution_count": 12,
   "metadata": {},
   "outputs": [
    {
     "data": {
      "text/html": [
       "<div>\n",
       "<style scoped>\n",
       "    .dataframe tbody tr th:only-of-type {\n",
       "        vertical-align: middle;\n",
       "    }\n",
       "\n",
       "    .dataframe tbody tr th {\n",
       "        vertical-align: top;\n",
       "    }\n",
       "\n",
       "    .dataframe thead th {\n",
       "        text-align: right;\n",
       "    }\n",
       "</style>\n",
       "<table border=\"1\" class=\"dataframe\">\n",
       "  <thead>\n",
       "    <tr style=\"text-align: right;\">\n",
       "      <th></th>\n",
       "      <th>doc</th>\n",
       "      <th>line_id</th>\n",
       "      <th>value</th>\n",
       "      <th>entity</th>\n",
       "    </tr>\n",
       "  </thead>\n",
       "  <tbody>\n",
       "    <tr>\n",
       "      <th>0</th>\n",
       "      <td>X00016469670</td>\n",
       "      <td>1</td>\n",
       "      <td>TAN</td>\n",
       "      <td>O</td>\n",
       "    </tr>\n",
       "    <tr>\n",
       "      <th>1</th>\n",
       "      <td>X00016469670</td>\n",
       "      <td>1</td>\n",
       "      <td>CHAY</td>\n",
       "      <td>O</td>\n",
       "    </tr>\n",
       "    <tr>\n",
       "      <th>2</th>\n",
       "      <td>X00016469670</td>\n",
       "      <td>1</td>\n",
       "      <td>YEE</td>\n",
       "      <td>O</td>\n",
       "    </tr>\n",
       "    <tr>\n",
       "      <th>3</th>\n",
       "      <td>X00016469670</td>\n",
       "      <td>2</td>\n",
       "      <td>COPY</td>\n",
       "      <td>O</td>\n",
       "    </tr>\n",
       "    <tr>\n",
       "      <th>4</th>\n",
       "      <td>X00016469670</td>\n",
       "      <td>3</td>\n",
       "      <td>OJC</td>\n",
       "      <td>company</td>\n",
       "    </tr>\n",
       "    <tr>\n",
       "      <th>...</th>\n",
       "      <td>...</td>\n",
       "      <td>...</td>\n",
       "      <td>...</td>\n",
       "      <td>...</td>\n",
       "    </tr>\n",
       "    <tr>\n",
       "      <th>39400</th>\n",
       "      <td>X51008099100</td>\n",
       "      <td>7</td>\n",
       "      <td>0</td>\n",
       "      <td>O</td>\n",
       "    </tr>\n",
       "    <tr>\n",
       "      <th>39401</th>\n",
       "      <td>X51008099100</td>\n",
       "      <td>7</td>\n",
       "      <td>0</td>\n",
       "      <td>O</td>\n",
       "    </tr>\n",
       "    <tr>\n",
       "      <th>39402</th>\n",
       "      <td>X51008099100</td>\n",
       "      <td>7</td>\n",
       "      <td>0</td>\n",
       "      <td>O</td>\n",
       "    </tr>\n",
       "    <tr>\n",
       "      <th>39403</th>\n",
       "      <td>X51009447842</td>\n",
       "      <td>14</td>\n",
       "      <td>AMT</td>\n",
       "      <td>O</td>\n",
       "    </tr>\n",
       "    <tr>\n",
       "      <th>39404</th>\n",
       "      <td>X51009447842</td>\n",
       "      <td>14</td>\n",
       "      <td>AMT</td>\n",
       "      <td>O</td>\n",
       "    </tr>\n",
       "  </tbody>\n",
       "</table>\n",
       "<p>39405 rows × 4 columns</p>\n",
       "</div>"
      ],
      "text/plain": [
       "                doc  line_id value   entity\n",
       "0      X00016469670        1   TAN        O\n",
       "1      X00016469670        1  CHAY        O\n",
       "2      X00016469670        1   YEE        O\n",
       "3      X00016469670        2  COPY        O\n",
       "4      X00016469670        3   OJC  company\n",
       "...             ...      ...   ...      ...\n",
       "39400  X51008099100        7     0        O\n",
       "39401  X51008099100        7     0        O\n",
       "39402  X51008099100        7     0        O\n",
       "39403  X51009447842       14   AMT        O\n",
       "39404  X51009447842       14   AMT        O\n",
       "\n",
       "[39405 rows x 4 columns]"
      ]
     },
     "execution_count": 12,
     "metadata": {},
     "output_type": "execute_result"
    }
   ],
   "source": [
    "bold_df_test"
   ]
  },
  {
   "cell_type": "code",
   "execution_count": null,
   "metadata": {},
   "outputs": [],
   "source": []
  },
  {
   "cell_type": "markdown",
   "metadata": {},
   "source": [
    "## BIO df"
   ]
  },
  {
   "cell_type": "code",
   "execution_count": 13,
   "metadata": {},
   "outputs": [],
   "source": [
    "def add_bio(BIO_df):\n",
    "    # Initialiser un dictionnaire pour suivre les premières occurrences d'entités par document\n",
    "    first_occurrence = {}\n",
    "    \n",
    "    for i in range(len(BIO_df)):\n",
    "        doc = BIO_df.at[i, 'doc']\n",
    "        entity = BIO_df.at[i, 'entity']\n",
    "        \n",
    "        # Ignorer les entités 'O'\n",
    "        if entity == 'O':\n",
    "            continue\n",
    "        \n",
    "        # Vérifier si l'entité a déjà été rencontrée dans ce document\n",
    "        if doc not in first_occurrence:\n",
    "            first_occurrence[doc] = {entity: True}  # Première occurrence de cette entité dans ce document\n",
    "            prefix = 'B-'\n",
    "        else:\n",
    "            # Si l'entité n'est pas dans le dictionnaire, c'est sa première occurrence\n",
    "            if entity not in first_occurrence[doc]:\n",
    "                first_occurrence[doc][entity] = True\n",
    "                prefix = 'B-'\n",
    "            else:\n",
    "                prefix = 'I-'\n",
    "        \n",
    "        BIO_df.at[i, 'entity'] = prefix + entity\n",
    "    \n",
    "    return BIO_df"
   ]
  },
  {
   "cell_type": "code",
   "execution_count": 14,
   "metadata": {},
   "outputs": [],
   "source": [
    "bio_df_test=add_bio(bold_df_test)\n",
    "bio_df_train=add_bio(bold_df_train)"
   ]
  },
  {
   "cell_type": "code",
   "execution_count": 15,
   "metadata": {},
   "outputs": [
    {
     "data": {
      "text/html": [
       "<div>\n",
       "<style scoped>\n",
       "    .dataframe tbody tr th:only-of-type {\n",
       "        vertical-align: middle;\n",
       "    }\n",
       "\n",
       "    .dataframe tbody tr th {\n",
       "        vertical-align: top;\n",
       "    }\n",
       "\n",
       "    .dataframe thead th {\n",
       "        text-align: right;\n",
       "    }\n",
       "</style>\n",
       "<table border=\"1\" class=\"dataframe\">\n",
       "  <thead>\n",
       "    <tr style=\"text-align: right;\">\n",
       "      <th></th>\n",
       "      <th>doc</th>\n",
       "      <th>line_id</th>\n",
       "      <th>value</th>\n",
       "      <th>entity</th>\n",
       "    </tr>\n",
       "  </thead>\n",
       "  <tbody>\n",
       "    <tr>\n",
       "      <th>0</th>\n",
       "      <td>X00016469612</td>\n",
       "      <td>1</td>\n",
       "      <td>TAN</td>\n",
       "      <td>O</td>\n",
       "    </tr>\n",
       "    <tr>\n",
       "      <th>1</th>\n",
       "      <td>X00016469612</td>\n",
       "      <td>1</td>\n",
       "      <td>WOON</td>\n",
       "      <td>O</td>\n",
       "    </tr>\n",
       "    <tr>\n",
       "      <th>2</th>\n",
       "      <td>X00016469612</td>\n",
       "      <td>1</td>\n",
       "      <td>YANN</td>\n",
       "      <td>O</td>\n",
       "    </tr>\n",
       "    <tr>\n",
       "      <th>3</th>\n",
       "      <td>X00016469612</td>\n",
       "      <td>2</td>\n",
       "      <td>BOOK</td>\n",
       "      <td>B-company</td>\n",
       "    </tr>\n",
       "    <tr>\n",
       "      <th>4</th>\n",
       "      <td>X00016469612</td>\n",
       "      <td>2</td>\n",
       "      <td>TA</td>\n",
       "      <td>I-company</td>\n",
       "    </tr>\n",
       "  </tbody>\n",
       "</table>\n",
       "</div>"
      ],
      "text/plain": [
       "            doc  line_id value     entity\n",
       "0  X00016469612        1   TAN          O\n",
       "1  X00016469612        1  WOON          O\n",
       "2  X00016469612        1  YANN          O\n",
       "3  X00016469612        2  BOOK  B-company\n",
       "4  X00016469612        2    TA  I-company"
      ]
     },
     "execution_count": 15,
     "metadata": {},
     "output_type": "execute_result"
    }
   ],
   "source": [
    "bio_df_train.head()"
   ]
  },
  {
   "cell_type": "code",
   "execution_count": 16,
   "metadata": {},
   "outputs": [
    {
     "data": {
      "text/plain": [
       "71720"
      ]
     },
     "execution_count": 16,
     "metadata": {},
     "output_type": "execute_result"
    }
   ],
   "source": [
    "len(bio_df_train)"
   ]
  },
  {
   "cell_type": "markdown",
   "metadata": {},
   "source": [
    "## Concat DFs"
   ]
  },
  {
   "cell_type": "code",
   "execution_count": 17,
   "metadata": {},
   "outputs": [],
   "source": [
    "bio_df=pd.concat([bio_df_train, bio_df_test], ignore_index=True)"
   ]
  },
  {
   "cell_type": "markdown",
   "metadata": {},
   "source": [
    "# Graphic View"
   ]
  },
  {
   "cell_type": "code",
   "execution_count": 18,
   "metadata": {},
   "outputs": [
    {
     "data": {
      "text/html": [
       "<div>\n",
       "<style scoped>\n",
       "    .dataframe tbody tr th:only-of-type {\n",
       "        vertical-align: middle;\n",
       "    }\n",
       "\n",
       "    .dataframe tbody tr th {\n",
       "        vertical-align: top;\n",
       "    }\n",
       "\n",
       "    .dataframe thead th {\n",
       "        text-align: right;\n",
       "    }\n",
       "</style>\n",
       "<table border=\"1\" class=\"dataframe\">\n",
       "  <thead>\n",
       "    <tr style=\"text-align: right;\">\n",
       "      <th></th>\n",
       "      <th>doc</th>\n",
       "      <th>line_id</th>\n",
       "      <th>value</th>\n",
       "      <th>entity</th>\n",
       "    </tr>\n",
       "  </thead>\n",
       "  <tbody>\n",
       "    <tr>\n",
       "      <th>0</th>\n",
       "      <td>X00016469612</td>\n",
       "      <td>1</td>\n",
       "      <td>TAN</td>\n",
       "      <td>O</td>\n",
       "    </tr>\n",
       "    <tr>\n",
       "      <th>1</th>\n",
       "      <td>X00016469612</td>\n",
       "      <td>1</td>\n",
       "      <td>WOON</td>\n",
       "      <td>O</td>\n",
       "    </tr>\n",
       "    <tr>\n",
       "      <th>2</th>\n",
       "      <td>X00016469612</td>\n",
       "      <td>1</td>\n",
       "      <td>YANN</td>\n",
       "      <td>O</td>\n",
       "    </tr>\n",
       "    <tr>\n",
       "      <th>3</th>\n",
       "      <td>X00016469612</td>\n",
       "      <td>2</td>\n",
       "      <td>BOOK</td>\n",
       "      <td>B-company</td>\n",
       "    </tr>\n",
       "    <tr>\n",
       "      <th>4</th>\n",
       "      <td>X00016469612</td>\n",
       "      <td>2</td>\n",
       "      <td>TA</td>\n",
       "      <td>I-company</td>\n",
       "    </tr>\n",
       "    <tr>\n",
       "      <th>...</th>\n",
       "      <td>...</td>\n",
       "      <td>...</td>\n",
       "      <td>...</td>\n",
       "      <td>...</td>\n",
       "    </tr>\n",
       "    <tr>\n",
       "      <th>111120</th>\n",
       "      <td>X51008099100</td>\n",
       "      <td>7</td>\n",
       "      <td>0</td>\n",
       "      <td>O</td>\n",
       "    </tr>\n",
       "    <tr>\n",
       "      <th>111121</th>\n",
       "      <td>X51008099100</td>\n",
       "      <td>7</td>\n",
       "      <td>0</td>\n",
       "      <td>O</td>\n",
       "    </tr>\n",
       "    <tr>\n",
       "      <th>111122</th>\n",
       "      <td>X51008099100</td>\n",
       "      <td>7</td>\n",
       "      <td>0</td>\n",
       "      <td>O</td>\n",
       "    </tr>\n",
       "    <tr>\n",
       "      <th>111123</th>\n",
       "      <td>X51009447842</td>\n",
       "      <td>14</td>\n",
       "      <td>AMT</td>\n",
       "      <td>O</td>\n",
       "    </tr>\n",
       "    <tr>\n",
       "      <th>111124</th>\n",
       "      <td>X51009447842</td>\n",
       "      <td>14</td>\n",
       "      <td>AMT</td>\n",
       "      <td>O</td>\n",
       "    </tr>\n",
       "  </tbody>\n",
       "</table>\n",
       "<p>111125 rows × 4 columns</p>\n",
       "</div>"
      ],
      "text/plain": [
       "                 doc  line_id value     entity\n",
       "0       X00016469612        1   TAN          O\n",
       "1       X00016469612        1  WOON          O\n",
       "2       X00016469612        1  YANN          O\n",
       "3       X00016469612        2  BOOK  B-company\n",
       "4       X00016469612        2    TA  I-company\n",
       "...              ...      ...   ...        ...\n",
       "111120  X51008099100        7     0          O\n",
       "111121  X51008099100        7     0          O\n",
       "111122  X51008099100        7     0          O\n",
       "111123  X51009447842       14   AMT          O\n",
       "111124  X51009447842       14   AMT          O\n",
       "\n",
       "[111125 rows x 4 columns]"
      ]
     },
     "execution_count": 18,
     "metadata": {},
     "output_type": "execute_result"
    }
   ],
   "source": [
    "bio_df"
   ]
  },
  {
   "cell_type": "code",
   "execution_count": 19,
   "metadata": {},
   "outputs": [
    {
     "data": {
      "text/plain": [
       "<Axes: xlabel='entity'>"
      ]
     },
     "execution_count": 19,
     "metadata": {},
     "output_type": "execute_result"
    },
    {
     "data": {
      "image/png": "[encoded data removed]",
      "text/plain": [
       "<Figure size 640x480 with 1 Axes>"
      ]
     },
     "metadata": {},
     "output_type": "display_data"
    }
   ],
   "source": [
    "bio_repartition=bio_df['entity']\n",
    "bio_repartition.value_counts().plot(kind= 'bar')"
   ]
  },
  {
   "cell_type": "code",
   "execution_count": 20,
   "metadata": {},
   "outputs": [
    {
     "data": {
      "text/plain": [
       "<Axes: xlabel='entity'>"
      ]
     },
     "execution_count": 20,
     "metadata": {},
     "output_type": "execute_result"
    },
    {
     "data": {
      "image/png": "[encoded data removed]",
      "text/plain": [
       "<Figure size 640x480 with 1 Axes>"
      ]
     },
     "metadata": {},
     "output_type": "display_data"
    }
   ],
   "source": [
    "bio_repartition_noo=bio_df[bio_df['entity'] != \"O\"].reset_index()\n",
    "bio_repartition_noo=bio_repartition_noo['entity']\n",
    "bio_repartition_noo.value_counts().plot(kind= 'bar')"
   ]
  },
  {
   "cell_type": "markdown",
   "metadata": {},
   "source": [
    "# Check at Dates and Total"
   ]
  },
  {
   "cell_type": "code",
   "execution_count": 21,
   "metadata": {},
   "outputs": [
    {
     "data": {
      "text/html": [
       "<div>\n",
       "<style scoped>\n",
       "    .dataframe tbody tr th:only-of-type {\n",
       "        vertical-align: middle;\n",
       "    }\n",
       "\n",
       "    .dataframe tbody tr th {\n",
       "        vertical-align: top;\n",
       "    }\n",
       "\n",
       "    .dataframe thead th {\n",
       "        text-align: right;\n",
       "    }\n",
       "</style>\n",
       "<table border=\"1\" class=\"dataframe\">\n",
       "  <thead>\n",
       "    <tr style=\"text-align: right;\">\n",
       "      <th></th>\n",
       "      <th>doc</th>\n",
       "      <th>line_id</th>\n",
       "      <th>value</th>\n",
       "      <th>entity</th>\n",
       "    </tr>\n",
       "  </thead>\n",
       "  <tbody>\n",
       "    <tr>\n",
       "      <th>10</th>\n",
       "      <td>X00016469612</td>\n",
       "      <td>4</td>\n",
       "      <td>NO.53</td>\n",
       "      <td>B-address</td>\n",
       "    </tr>\n",
       "    <tr>\n",
       "      <th>94</th>\n",
       "      <td>X00016469619</td>\n",
       "      <td>3</td>\n",
       "      <td>DEDAP</td>\n",
       "      <td>B-address</td>\n",
       "    </tr>\n",
       "    <tr>\n",
       "      <th>192</th>\n",
       "      <td>X00016469620</td>\n",
       "      <td>4</td>\n",
       "      <td>LOT</td>\n",
       "      <td>B-address</td>\n",
       "    </tr>\n",
       "    <tr>\n",
       "      <th>310</th>\n",
       "      <td>X00016469622</td>\n",
       "      <td>4</td>\n",
       "      <td>NO</td>\n",
       "      <td>B-address</td>\n",
       "    </tr>\n",
       "    <tr>\n",
       "      <th>421</th>\n",
       "      <td>X00016469623</td>\n",
       "      <td>4</td>\n",
       "      <td>LOT</td>\n",
       "      <td>B-address</td>\n",
       "    </tr>\n",
       "    <tr>\n",
       "      <th>...</th>\n",
       "      <td>...</td>\n",
       "      <td>...</td>\n",
       "      <td>...</td>\n",
       "      <td>...</td>\n",
       "    </tr>\n",
       "    <tr>\n",
       "      <th>110305</th>\n",
       "      <td>X51008099100</td>\n",
       "      <td>2</td>\n",
       "      <td>NO.19</td>\n",
       "      <td>B-address</td>\n",
       "    </tr>\n",
       "    <tr>\n",
       "      <th>110428</th>\n",
       "      <td>X51009008095</td>\n",
       "      <td>2</td>\n",
       "      <td>12,</td>\n",
       "      <td>B-address</td>\n",
       "    </tr>\n",
       "    <tr>\n",
       "      <th>110527</th>\n",
       "      <td>X51009447842</td>\n",
       "      <td>4</td>\n",
       "      <td>NO</td>\n",
       "      <td>B-address</td>\n",
       "    </tr>\n",
       "    <tr>\n",
       "      <th>110616</th>\n",
       "      <td>X51009453729</td>\n",
       "      <td>4</td>\n",
       "      <td>NO.32</td>\n",
       "      <td>B-address</td>\n",
       "    </tr>\n",
       "    <tr>\n",
       "      <th>110730</th>\n",
       "      <td>X51009568881</td>\n",
       "      <td>3</td>\n",
       "      <td>NO</td>\n",
       "      <td>B-address</td>\n",
       "    </tr>\n",
       "  </tbody>\n",
       "</table>\n",
       "<p>972 rows × 4 columns</p>\n",
       "</div>"
      ],
      "text/plain": [
       "                 doc  line_id  value     entity\n",
       "10      X00016469612        4  NO.53  B-address\n",
       "94      X00016469619        3  DEDAP  B-address\n",
       "192     X00016469620        4    LOT  B-address\n",
       "310     X00016469622        4     NO  B-address\n",
       "421     X00016469623        4    LOT  B-address\n",
       "...              ...      ...    ...        ...\n",
       "110305  X51008099100        2  NO.19  B-address\n",
       "110428  X51009008095        2    12,  B-address\n",
       "110527  X51009447842        4     NO  B-address\n",
       "110616  X51009453729        4  NO.32  B-address\n",
       "110730  X51009568881        3     NO  B-address\n",
       "\n",
       "[972 rows x 4 columns]"
      ]
     },
     "execution_count": 21,
     "metadata": {},
     "output_type": "execute_result"
    }
   ],
   "source": [
    "bio_df[bio_df['entity'] == 'B-address']"
   ]
  },
  {
   "cell_type": "code",
   "execution_count": 22,
   "metadata": {},
   "outputs": [
    {
     "data": {
      "text/plain": [
       "doc\n",
       "X51006619545    240\n",
       "X51005663297    233\n",
       "X51005433533    221\n",
       "X51005705760    218\n",
       "X51006389963    212\n",
       "               ... \n",
       "X51006619509     54\n",
       "X51005442388     54\n",
       "X51006008197     53\n",
       "X51008164510     43\n",
       "X51005442341     25\n",
       "Name: count, Length: 973, dtype: int64"
      ]
     },
     "execution_count": 22,
     "metadata": {},
     "output_type": "execute_result"
    }
   ],
   "source": [
    "groups = bio_df['doc'].value_counts()\n",
    "groups\n"
   ]
  },
  {
   "cell_type": "markdown",
   "metadata": {},
   "source": [
    "### Totaux"
   ]
  },
  {
   "cell_type": "code",
   "execution_count": 23,
   "metadata": {},
   "outputs": [
    {
     "data": {
      "text/html": [
       "<div>\n",
       "<style scoped>\n",
       "    .dataframe tbody tr th:only-of-type {\n",
       "        vertical-align: middle;\n",
       "    }\n",
       "\n",
       "    .dataframe tbody tr th {\n",
       "        vertical-align: top;\n",
       "    }\n",
       "\n",
       "    .dataframe thead th {\n",
       "        text-align: right;\n",
       "    }\n",
       "</style>\n",
       "<table border=\"1\" class=\"dataframe\">\n",
       "  <thead>\n",
       "    <tr style=\"text-align: right;\">\n",
       "      <th></th>\n",
       "      <th>doc</th>\n",
       "      <th>line_id</th>\n",
       "      <th>value</th>\n",
       "      <th>entity</th>\n",
       "    </tr>\n",
       "  </thead>\n",
       "  <tbody>\n",
       "    <tr>\n",
       "      <th>54</th>\n",
       "      <td>X00016469612</td>\n",
       "      <td>28</td>\n",
       "      <td>9.00</td>\n",
       "      <td>B-total</td>\n",
       "    </tr>\n",
       "    <tr>\n",
       "      <th>149</th>\n",
       "      <td>X00016469619</td>\n",
       "      <td>39</td>\n",
       "      <td>60.30</td>\n",
       "      <td>B-total</td>\n",
       "    </tr>\n",
       "    <tr>\n",
       "      <th>276</th>\n",
       "      <td>X00016469620</td>\n",
       "      <td>44</td>\n",
       "      <td>33.90</td>\n",
       "      <td>B-total</td>\n",
       "    </tr>\n",
       "    <tr>\n",
       "      <th>379</th>\n",
       "      <td>X00016469622</td>\n",
       "      <td>43</td>\n",
       "      <td>80.90</td>\n",
       "      <td>B-total</td>\n",
       "    </tr>\n",
       "    <tr>\n",
       "      <th>523</th>\n",
       "      <td>X00016469623</td>\n",
       "      <td>51</td>\n",
       "      <td>30.90</td>\n",
       "      <td>B-total</td>\n",
       "    </tr>\n",
       "    <tr>\n",
       "      <th>...</th>\n",
       "      <td>...</td>\n",
       "      <td>...</td>\n",
       "      <td>...</td>\n",
       "      <td>...</td>\n",
       "    </tr>\n",
       "    <tr>\n",
       "      <th>110390</th>\n",
       "      <td>X51008099100</td>\n",
       "      <td>38</td>\n",
       "      <td>46.90</td>\n",
       "      <td>B-total</td>\n",
       "    </tr>\n",
       "    <tr>\n",
       "      <th>110471</th>\n",
       "      <td>X51009008095</td>\n",
       "      <td>18</td>\n",
       "      <td>31.80</td>\n",
       "      <td>B-total</td>\n",
       "    </tr>\n",
       "    <tr>\n",
       "      <th>110563</th>\n",
       "      <td>X51009447842</td>\n",
       "      <td>21</td>\n",
       "      <td>0.90</td>\n",
       "      <td>B-total</td>\n",
       "    </tr>\n",
       "    <tr>\n",
       "      <th>110678</th>\n",
       "      <td>X51009453729</td>\n",
       "      <td>26</td>\n",
       "      <td>79.50</td>\n",
       "      <td>B-total</td>\n",
       "    </tr>\n",
       "    <tr>\n",
       "      <th>110785</th>\n",
       "      <td>X51009568881</td>\n",
       "      <td>28</td>\n",
       "      <td>10.40</td>\n",
       "      <td>B-total</td>\n",
       "    </tr>\n",
       "  </tbody>\n",
       "</table>\n",
       "<p>966 rows × 4 columns</p>\n",
       "</div>"
      ],
      "text/plain": [
       "                 doc  line_id  value   entity\n",
       "54      X00016469612       28   9.00  B-total\n",
       "149     X00016469619       39  60.30  B-total\n",
       "276     X00016469620       44  33.90  B-total\n",
       "379     X00016469622       43  80.90  B-total\n",
       "523     X00016469623       51  30.90  B-total\n",
       "...              ...      ...    ...      ...\n",
       "110390  X51008099100       38  46.90  B-total\n",
       "110471  X51009008095       18  31.80  B-total\n",
       "110563  X51009447842       21   0.90  B-total\n",
       "110678  X51009453729       26  79.50  B-total\n",
       "110785  X51009568881       28  10.40  B-total\n",
       "\n",
       "[966 rows x 4 columns]"
      ]
     },
     "execution_count": 23,
     "metadata": {},
     "output_type": "execute_result"
    }
   ],
   "source": [
    "bio_df[bio_df['entity'] == 'B-total']"
   ]
  },
  {
   "cell_type": "markdown",
   "metadata": {},
   "source": [
    "### Regarder les totaux en doublon"
   ]
  },
  {
   "cell_type": "code",
   "execution_count": 24,
   "metadata": {},
   "outputs": [
    {
     "data": {
      "text/html": [
       "<div>\n",
       "<style scoped>\n",
       "    .dataframe tbody tr th:only-of-type {\n",
       "        vertical-align: middle;\n",
       "    }\n",
       "\n",
       "    .dataframe tbody tr th {\n",
       "        vertical-align: top;\n",
       "    }\n",
       "\n",
       "    .dataframe thead th {\n",
       "        text-align: right;\n",
       "    }\n",
       "</style>\n",
       "<table border=\"1\" class=\"dataframe\">\n",
       "  <thead>\n",
       "    <tr style=\"text-align: right;\">\n",
       "      <th></th>\n",
       "      <th>doc</th>\n",
       "      <th>line_id</th>\n",
       "      <th>entity</th>\n",
       "      <th>value</th>\n",
       "      <th>count</th>\n",
       "    </tr>\n",
       "  </thead>\n",
       "  <tbody>\n",
       "    <tr>\n",
       "      <th>0</th>\n",
       "      <td>X00016469612</td>\n",
       "      <td>28</td>\n",
       "      <td>B-total</td>\n",
       "      <td>9.00</td>\n",
       "      <td>1</td>\n",
       "    </tr>\n",
       "    <tr>\n",
       "      <th>1</th>\n",
       "      <td>X00016469612</td>\n",
       "      <td>33</td>\n",
       "      <td>I-total</td>\n",
       "      <td>9.00</td>\n",
       "      <td>1</td>\n",
       "    </tr>\n",
       "    <tr>\n",
       "      <th>2</th>\n",
       "      <td>X00016469612</td>\n",
       "      <td>44</td>\n",
       "      <td>I-total</td>\n",
       "      <td>9.00</td>\n",
       "      <td>1</td>\n",
       "    </tr>\n",
       "    <tr>\n",
       "      <th>3</th>\n",
       "      <td>X00016469619</td>\n",
       "      <td>39</td>\n",
       "      <td>B-total</td>\n",
       "      <td>60.30</td>\n",
       "      <td>1</td>\n",
       "    </tr>\n",
       "    <tr>\n",
       "      <th>4</th>\n",
       "      <td>X00016469620</td>\n",
       "      <td>44</td>\n",
       "      <td>B-total</td>\n",
       "      <td>33.90</td>\n",
       "      <td>1</td>\n",
       "    </tr>\n",
       "    <tr>\n",
       "      <th>...</th>\n",
       "      <td>...</td>\n",
       "      <td>...</td>\n",
       "      <td>...</td>\n",
       "      <td>...</td>\n",
       "      <td>...</td>\n",
       "    </tr>\n",
       "    <tr>\n",
       "      <th>2550</th>\n",
       "      <td>X51009568881</td>\n",
       "      <td>28</td>\n",
       "      <td>B-total</td>\n",
       "      <td>10.40</td>\n",
       "      <td>1</td>\n",
       "    </tr>\n",
       "    <tr>\n",
       "      <th>2551</th>\n",
       "      <td>X51009568881</td>\n",
       "      <td>34</td>\n",
       "      <td>I-total</td>\n",
       "      <td>10.40</td>\n",
       "      <td>1</td>\n",
       "    </tr>\n",
       "    <tr>\n",
       "      <th>2552</th>\n",
       "      <td>X51009568881</td>\n",
       "      <td>36</td>\n",
       "      <td>I-total</td>\n",
       "      <td>10.40</td>\n",
       "      <td>1</td>\n",
       "    </tr>\n",
       "    <tr>\n",
       "      <th>2553</th>\n",
       "      <td>X51009568881</td>\n",
       "      <td>47</td>\n",
       "      <td>I-total</td>\n",
       "      <td>10.40</td>\n",
       "      <td>1</td>\n",
       "    </tr>\n",
       "    <tr>\n",
       "      <th>2554</th>\n",
       "      <td>X51009568881</td>\n",
       "      <td>51</td>\n",
       "      <td>I-total</td>\n",
       "      <td>10.40</td>\n",
       "      <td>1</td>\n",
       "    </tr>\n",
       "  </tbody>\n",
       "</table>\n",
       "<p>2555 rows × 5 columns</p>\n",
       "</div>"
      ],
      "text/plain": [
       "               doc  line_id   entity  value  count\n",
       "0     X00016469612       28  B-total   9.00      1\n",
       "1     X00016469612       33  I-total   9.00      1\n",
       "2     X00016469612       44  I-total   9.00      1\n",
       "3     X00016469619       39  B-total  60.30      1\n",
       "4     X00016469620       44  B-total  33.90      1\n",
       "...            ...      ...      ...    ...    ...\n",
       "2550  X51009568881       28  B-total  10.40      1\n",
       "2551  X51009568881       34  I-total  10.40      1\n",
       "2552  X51009568881       36  I-total  10.40      1\n",
       "2553  X51009568881       47  I-total  10.40      1\n",
       "2554  X51009568881       51  I-total  10.40      1\n",
       "\n",
       "[2555 rows x 5 columns]"
      ]
     },
     "execution_count": 24,
     "metadata": {},
     "output_type": "execute_result"
    }
   ],
   "source": [
    "# Étape 1: Filtrer pour obtenir uniquement les lignes avec 'B-total' et 'I-total'\n",
    "filtered_df = bio_df[bio_df['entity'].isin(['B-total', 'I-total'])]\n",
    "# Étape 2: Grouper par 'doc', 'line_id', 'entity' et compter le nombre d'occurrences\n",
    "grouped_totals = filtered_df.groupby(['doc', 'line_id', 'entity', 'value']).size().reset_index(name='count')\n",
    "grouped_totals"
   ]
  },
  {
   "cell_type": "code",
   "execution_count": 25,
   "metadata": {},
   "outputs": [],
   "source": [
    "# Créer un dictionnaire pour mémoriser les valeurs de 'B-total' par 'doc'\n",
    "b_total_values = {}\n",
    "\n",
    "# Itérer sur chaque ligne pour remplir le dictionnaire avec les valeurs de 'B-total'\n",
    "for index, row in bio_df.iterrows():\n",
    "    if row['entity'] == 'B-total':\n",
    "        if row['doc'] not in b_total_values:\n",
    "            b_total_values[row['doc']] = set()  # Utiliser un set pour éviter les duplicatas\n",
    "        b_total_values[row['doc']].add(row['value'])  # Ajouter la valeur à l'ensemble"
   ]
  },
  {
   "cell_type": "code",
   "execution_count": 26,
   "metadata": {},
   "outputs": [
    {
     "name": "stdout",
     "output_type": "stream",
     "text": [
      "Documents sans 'B-total':\n",
      "{'X51005433522', 'X51007339106', 'X51006466060', 'X51005764154', 'X51005806678', 'X51006733495', 'X51005684949'}\n"
     ]
    }
   ],
   "source": [
    "# Étape 1: Obtenir tous les documents uniques dans le DataFrame\n",
    "all_docs = set(bio_df['doc'].unique())\n",
    "\n",
    "# Étape 2: Obtenir les documents ayant des entités 'B-total' à partir de votre dictionnaire\n",
    "docs_with_b_total = set(b_total_values.keys())\n",
    "\n",
    "# Étape 3: Trouver la différence entre les deux ensembles pour identifier les documents sans 'B-total'\n",
    "docs_without_b_total = all_docs - docs_with_b_total\n",
    "\n",
    "print(\"Documents sans 'B-total':\")\n",
    "print(docs_without_b_total)\n"
   ]
  },
  {
   "cell_type": "markdown",
   "metadata": {},
   "source": [
    "Drop wrong labelized total"
   ]
  },
  {
   "cell_type": "code",
   "execution_count": 27,
   "metadata": {},
   "outputs": [
    {
     "data": {
      "text/html": [
       "<div>\n",
       "<style scoped>\n",
       "    .dataframe tbody tr th:only-of-type {\n",
       "        vertical-align: middle;\n",
       "    }\n",
       "\n",
       "    .dataframe tbody tr th {\n",
       "        vertical-align: top;\n",
       "    }\n",
       "\n",
       "    .dataframe thead th {\n",
       "        text-align: right;\n",
       "    }\n",
       "</style>\n",
       "<table border=\"1\" class=\"dataframe\">\n",
       "  <thead>\n",
       "    <tr style=\"text-align: right;\">\n",
       "      <th></th>\n",
       "      <th>doc</th>\n",
       "      <th>line_id</th>\n",
       "      <th>value</th>\n",
       "      <th>entity</th>\n",
       "    </tr>\n",
       "  </thead>\n",
       "  <tbody>\n",
       "    <tr>\n",
       "      <th>0</th>\n",
       "      <td>X00016469612</td>\n",
       "      <td>1</td>\n",
       "      <td>TAN</td>\n",
       "      <td>O</td>\n",
       "    </tr>\n",
       "    <tr>\n",
       "      <th>1</th>\n",
       "      <td>X00016469612</td>\n",
       "      <td>1</td>\n",
       "      <td>WOON</td>\n",
       "      <td>O</td>\n",
       "    </tr>\n",
       "    <tr>\n",
       "      <th>2</th>\n",
       "      <td>X00016469612</td>\n",
       "      <td>1</td>\n",
       "      <td>YANN</td>\n",
       "      <td>O</td>\n",
       "    </tr>\n",
       "    <tr>\n",
       "      <th>3</th>\n",
       "      <td>X00016469612</td>\n",
       "      <td>2</td>\n",
       "      <td>BOOK</td>\n",
       "      <td>B-company</td>\n",
       "    </tr>\n",
       "    <tr>\n",
       "      <th>4</th>\n",
       "      <td>X00016469612</td>\n",
       "      <td>2</td>\n",
       "      <td>TA</td>\n",
       "      <td>I-company</td>\n",
       "    </tr>\n",
       "  </tbody>\n",
       "</table>\n",
       "</div>"
      ],
      "text/plain": [
       "            doc  line_id value     entity\n",
       "0  X00016469612        1   TAN          O\n",
       "1  X00016469612        1  WOON          O\n",
       "2  X00016469612        1  YANN          O\n",
       "3  X00016469612        2  BOOK  B-company\n",
       "4  X00016469612        2    TA  I-company"
      ]
     },
     "execution_count": 27,
     "metadata": {},
     "output_type": "execute_result"
    }
   ],
   "source": [
    "# Filtrer bio_df pour exclure les lignes correspondant aux documents sans 'B-total'\n",
    "bio_df= bio_df[~bio_df['doc'].isin(docs_without_b_total)]\n",
    "bio_df.head()"
   ]
  },
  {
   "cell_type": "code",
   "execution_count": 28,
   "metadata": {},
   "outputs": [
    {
     "data": {
      "text/plain": [
       "110455"
      ]
     },
     "execution_count": 28,
     "metadata": {},
     "output_type": "execute_result"
    }
   ],
   "source": [
    "len(bio_df)"
   ]
  },
  {
   "cell_type": "markdown",
   "metadata": {},
   "source": [
    "Enlever les totaux en doublon "
   ]
  },
  {
   "cell_type": "code",
   "execution_count": 29,
   "metadata": {},
   "outputs": [],
   "source": [
    "# Itérer de nouveau sur le DataFrame pour identifier et remplacer les 'I-total' correspondants\n",
    "for index, row in bio_df.iterrows():\n",
    "    if row['entity'] == 'I-total' and row['doc'] in b_total_values:\n",
    "        if row['value'] in b_total_values[row['doc']]:\n",
    "            bio_df.at[index, 'entity'] = 'O'  # Remplacer l'entité par 'O'"
   ]
  },
  {
   "cell_type": "code",
   "execution_count": 30,
   "metadata": {},
   "outputs": [
    {
     "data": {
      "text/plain": [
       "110455"
      ]
     },
     "execution_count": 30,
     "metadata": {},
     "output_type": "execute_result"
    }
   ],
   "source": [
    "len(bio_df)"
   ]
  },
  {
   "cell_type": "code",
   "execution_count": 31,
   "metadata": {},
   "outputs": [
    {
     "name": "stdout",
     "output_type": "stream",
     "text": [
      "entity\n",
      "I-address    8894\n",
      "I-company    3618\n",
      "B-total       966\n",
      "B-address     965\n",
      "B-company     961\n",
      "B-date        940\n",
      "I-date        375\n",
      "I-total        53\n",
      "Name: count, dtype: int64\n"
     ]
    },
    {
     "data": {
      "image/png": "[encoded data removed]",
      "text/plain": [
       "<Figure size 640x480 with 1 Axes>"
      ]
     },
     "metadata": {},
     "output_type": "display_data"
    }
   ],
   "source": [
    "def check_entities(bio_df):\n",
    "    bio_repartition_noo=bio_df[bio_df['entity'] != \"O\"].reset_index()\n",
    "    bio_repartition_noo=bio_repartition_noo['entity']\n",
    "    bio_repartition_noo.value_counts().plot(kind= 'bar')\n",
    "    print(bio_repartition_noo.value_counts())\n",
    "\n",
    "check_entities(bio_df)"
   ]
  },
  {
   "cell_type": "code",
   "execution_count": 32,
   "metadata": {},
   "outputs": [
    {
     "data": {
      "text/html": [
       "<div>\n",
       "<style scoped>\n",
       "    .dataframe tbody tr th:only-of-type {\n",
       "        vertical-align: middle;\n",
       "    }\n",
       "\n",
       "    .dataframe tbody tr th {\n",
       "        vertical-align: top;\n",
       "    }\n",
       "\n",
       "    .dataframe thead th {\n",
       "        text-align: right;\n",
       "    }\n",
       "</style>\n",
       "<table border=\"1\" class=\"dataframe\">\n",
       "  <thead>\n",
       "    <tr style=\"text-align: right;\">\n",
       "      <th></th>\n",
       "      <th>doc</th>\n",
       "      <th>line_id</th>\n",
       "      <th>value</th>\n",
       "      <th>entity</th>\n",
       "    </tr>\n",
       "  </thead>\n",
       "  <tbody>\n",
       "    <tr>\n",
       "      <th>8767</th>\n",
       "      <td>X51005568884</td>\n",
       "      <td>20</td>\n",
       "      <td>RM</td>\n",
       "      <td>I-total</td>\n",
       "    </tr>\n",
       "    <tr>\n",
       "      <th>8770</th>\n",
       "      <td>X51005568884</td>\n",
       "      <td>22</td>\n",
       "      <td>RM</td>\n",
       "      <td>I-total</td>\n",
       "    </tr>\n",
       "    <tr>\n",
       "      <th>8773</th>\n",
       "      <td>X51005568884</td>\n",
       "      <td>24</td>\n",
       "      <td>RM</td>\n",
       "      <td>I-total</td>\n",
       "    </tr>\n",
       "    <tr>\n",
       "      <th>17153</th>\n",
       "      <td>X51005719814</td>\n",
       "      <td>39</td>\n",
       "      <td>29.70</td>\n",
       "      <td>I-total</td>\n",
       "    </tr>\n",
       "    <tr>\n",
       "      <th>17161</th>\n",
       "      <td>X51005719814</td>\n",
       "      <td>43</td>\n",
       "      <td>29.70</td>\n",
       "      <td>I-total</td>\n",
       "    </tr>\n",
       "  </tbody>\n",
       "</table>\n",
       "</div>"
      ],
      "text/plain": [
       "                doc  line_id  value   entity\n",
       "8767   X51005568884       20     RM  I-total\n",
       "8770   X51005568884       22     RM  I-total\n",
       "8773   X51005568884       24     RM  I-total\n",
       "17153  X51005719814       39  29.70  I-total\n",
       "17161  X51005719814       43  29.70  I-total"
      ]
     },
     "execution_count": 32,
     "metadata": {},
     "output_type": "execute_result"
    }
   ],
   "source": [
    "i_total_rows = bio_df[bio_df['entity'] == 'I-total']\n",
    "i_total_rows.head()"
   ]
  },
  {
   "cell_type": "markdown",
   "metadata": {},
   "source": [
    "drop touts les totaux avec RM"
   ]
  },
  {
   "cell_type": "code",
   "execution_count": 33,
   "metadata": {},
   "outputs": [],
   "source": [
    "# Appliquer le filtre correctement pour exclure les lignes spécifiques\n",
    "bio_df = bio_df[~((bio_df['entity'] == 'I-total') & (bio_df['value'] == 'RM'))]"
   ]
  },
  {
   "cell_type": "code",
   "execution_count": 34,
   "metadata": {},
   "outputs": [
    {
     "data": {
      "text/plain": [
       "110444"
      ]
     },
     "execution_count": 34,
     "metadata": {},
     "output_type": "execute_result"
    }
   ],
   "source": [
    "len(bio_df)"
   ]
  },
  {
   "cell_type": "markdown",
   "metadata": {},
   "source": [
    "voir les autres I total "
   ]
  },
  {
   "cell_type": "code",
   "execution_count": 35,
   "metadata": {},
   "outputs": [
    {
     "data": {
      "text/html": [
       "<div>\n",
       "<style scoped>\n",
       "    .dataframe tbody tr th:only-of-type {\n",
       "        vertical-align: middle;\n",
       "    }\n",
       "\n",
       "    .dataframe tbody tr th {\n",
       "        vertical-align: top;\n",
       "    }\n",
       "\n",
       "    .dataframe thead th {\n",
       "        text-align: right;\n",
       "    }\n",
       "</style>\n",
       "<table border=\"1\" class=\"dataframe\">\n",
       "  <thead>\n",
       "    <tr style=\"text-align: right;\">\n",
       "      <th></th>\n",
       "      <th>doc</th>\n",
       "      <th>line_id</th>\n",
       "      <th>value</th>\n",
       "      <th>entity</th>\n",
       "    </tr>\n",
       "  </thead>\n",
       "  <tbody>\n",
       "    <tr>\n",
       "      <th>17153</th>\n",
       "      <td>X51005719814</td>\n",
       "      <td>39</td>\n",
       "      <td>29.70</td>\n",
       "      <td>I-total</td>\n",
       "    </tr>\n",
       "    <tr>\n",
       "      <th>17161</th>\n",
       "      <td>X51005719814</td>\n",
       "      <td>43</td>\n",
       "      <td>29.70</td>\n",
       "      <td>I-total</td>\n",
       "    </tr>\n",
       "    <tr>\n",
       "      <th>17168</th>\n",
       "      <td>X51005719814</td>\n",
       "      <td>47</td>\n",
       "      <td>29.70</td>\n",
       "      <td>I-total</td>\n",
       "    </tr>\n",
       "    <tr>\n",
       "      <th>43792</th>\n",
       "      <td>X51006619341</td>\n",
       "      <td>21</td>\n",
       "      <td>8.60</td>\n",
       "      <td>I-total</td>\n",
       "    </tr>\n",
       "    <tr>\n",
       "      <th>43878</th>\n",
       "      <td>X51006619342</td>\n",
       "      <td>15</td>\n",
       "      <td>3.30</td>\n",
       "      <td>I-total</td>\n",
       "    </tr>\n",
       "  </tbody>\n",
       "</table>\n",
       "</div>"
      ],
      "text/plain": [
       "                doc  line_id  value   entity\n",
       "17153  X51005719814       39  29.70  I-total\n",
       "17161  X51005719814       43  29.70  I-total\n",
       "17168  X51005719814       47  29.70  I-total\n",
       "43792  X51006619341       21   8.60  I-total\n",
       "43878  X51006619342       15   3.30  I-total"
      ]
     },
     "execution_count": 35,
     "metadata": {},
     "output_type": "execute_result"
    }
   ],
   "source": [
    "i_total_rows = bio_df[bio_df['entity'] == 'I-total']\n",
    "i_total_rows.head()"
   ]
  },
  {
   "cell_type": "code",
   "execution_count": 36,
   "metadata": {},
   "outputs": [
    {
     "data": {
      "text/html": [
       "<div>\n",
       "<style scoped>\n",
       "    .dataframe tbody tr th:only-of-type {\n",
       "        vertical-align: middle;\n",
       "    }\n",
       "\n",
       "    .dataframe tbody tr th {\n",
       "        vertical-align: top;\n",
       "    }\n",
       "\n",
       "    .dataframe thead th {\n",
       "        text-align: right;\n",
       "    }\n",
       "</style>\n",
       "<table border=\"1\" class=\"dataframe\">\n",
       "  <thead>\n",
       "    <tr style=\"text-align: right;\">\n",
       "      <th></th>\n",
       "      <th>doc</th>\n",
       "      <th>line_id</th>\n",
       "      <th>value</th>\n",
       "      <th>entity</th>\n",
       "    </tr>\n",
       "  </thead>\n",
       "  <tbody>\n",
       "    <tr>\n",
       "      <th>17152</th>\n",
       "      <td>X51005719814</td>\n",
       "      <td>39</td>\n",
       "      <td>RM</td>\n",
       "      <td>B-total</td>\n",
       "    </tr>\n",
       "    <tr>\n",
       "      <th>43791</th>\n",
       "      <td>X51006619341</td>\n",
       "      <td>21</td>\n",
       "      <td>RM</td>\n",
       "      <td>B-total</td>\n",
       "    </tr>\n",
       "    <tr>\n",
       "      <th>43877</th>\n",
       "      <td>X51006619342</td>\n",
       "      <td>15</td>\n",
       "      <td>RM</td>\n",
       "      <td>B-total</td>\n",
       "    </tr>\n",
       "    <tr>\n",
       "      <th>43987</th>\n",
       "      <td>X51006619343</td>\n",
       "      <td>30</td>\n",
       "      <td>RM</td>\n",
       "      <td>B-total</td>\n",
       "    </tr>\n",
       "    <tr>\n",
       "      <th>45185</th>\n",
       "      <td>X51006619698</td>\n",
       "      <td>23</td>\n",
       "      <td>RM</td>\n",
       "      <td>B-total</td>\n",
       "    </tr>\n",
       "  </tbody>\n",
       "</table>\n",
       "</div>"
      ],
      "text/plain": [
       "                doc  line_id value   entity\n",
       "17152  X51005719814       39    RM  B-total\n",
       "43791  X51006619341       21    RM  B-total\n",
       "43877  X51006619342       15    RM  B-total\n",
       "43987  X51006619343       30    RM  B-total\n",
       "45185  X51006619698       23    RM  B-total"
      ]
     },
     "execution_count": 36,
     "metadata": {},
     "output_type": "execute_result"
    }
   ],
   "source": [
    "# Identifier les documents uniques qui ont 'I-total'\n",
    "docs_with_i_total = i_total_rows['doc'].unique()\n",
    "\n",
    "# Filtrer bio_df pour obtenir les lignes où 'entity' est 'B-total' dans ces documents\n",
    "b_total_rows_in_i_total_docs = bio_df[(bio_df['doc'].isin(docs_with_i_total)) & (bio_df['entity'] == 'B-total')]\n",
    "\n",
    "# Afficher ces lignes pour examiner les 'B-total' dans les documents avec 'I-total'\n",
    "b_total_rows_in_i_total_docs.head()"
   ]
  },
  {
   "cell_type": "code",
   "execution_count": 37,
   "metadata": {},
   "outputs": [],
   "source": [
    "# Identifier les documents qui ont des 'I-total'\n",
    "docs_with_i_total = i_total_rows['doc'].unique()\n",
    "\n",
    "# Boucler sur chaque document ayant 'I-total'\n",
    "for doc_id in docs_with_i_total:\n",
    "    # Trouver les index des lignes 'B-total' dans le même document\n",
    "    indexes_b_total = bio_df[(bio_df['doc'] == doc_id) & (bio_df['entity'] == 'B-total')].index\n",
    "    \n",
    "    # Supposons que vous voulez remplacer 'value' de chaque 'B-total' par une nouvelle valeur, exemple 'new_value'\n",
    "    for idx in indexes_b_total:\n",
    "        bio_df.at[idx, 'value'] = 'new_value'  # Remplacer 'new_value' par la logique appropriée de votre choix"
   ]
  },
  {
   "cell_type": "code",
   "execution_count": 38,
   "metadata": {},
   "outputs": [
    {
     "name": "stdout",
     "output_type": "stream",
     "text": [
      "entity\n",
      "I-address    8894\n",
      "I-company    3618\n",
      "B-total       966\n",
      "B-address     965\n",
      "B-company     961\n",
      "B-date        940\n",
      "I-date        375\n",
      "I-total        42\n",
      "Name: count, dtype: int64\n"
     ]
    },
    {
     "data": {
      "image/png": "[encoded data removed]",
      "text/plain": [
       "<Figure size 640x480 with 1 Axes>"
      ]
     },
     "metadata": {},
     "output_type": "display_data"
    }
   ],
   "source": [
    "check_entities(bio_df)"
   ]
  },
  {
   "cell_type": "code",
   "execution_count": 39,
   "metadata": {},
   "outputs": [],
   "source": [
    "# Filtrer pour obtenir uniquement les lignes 'I-total'\n",
    "i_total_rows = bio_df[bio_df['entity'] == 'I-total']\n",
    "\n",
    "# Identifier les duplicatas basés sur 'doc', 'value', 'entity'\n",
    "duplicated_i_total = i_total_rows.duplicated(subset=['doc', 'value', 'entity'], keep=False)\n",
    "\n",
    "# Obtenir les indices des duplicatas dans le DataFrame filtré\n",
    "duplicated_indices = i_total_rows[duplicated_i_total].index\n",
    "# Supprimer les duplicatas identifiés\n",
    "bio_df = bio_df.drop(duplicated_indices)"
   ]
  },
  {
   "cell_type": "code",
   "execution_count": 40,
   "metadata": {},
   "outputs": [
    {
     "name": "stdout",
     "output_type": "stream",
     "text": [
      "entity\n",
      "I-address    8894\n",
      "I-company    3618\n",
      "B-total       966\n",
      "B-address     965\n",
      "B-company     961\n",
      "B-date        940\n",
      "I-date        375\n",
      "I-total        17\n",
      "Name: count, dtype: int64\n"
     ]
    },
    {
     "data": {
      "image/png": "[encoded data removed]",
      "text/plain": [
       "<Figure size 640x480 with 1 Axes>"
      ]
     },
     "metadata": {},
     "output_type": "display_data"
    }
   ],
   "source": [
    "check_entities(bio_df)"
   ]
  },
  {
   "cell_type": "code",
   "execution_count": 41,
   "metadata": {},
   "outputs": [
    {
     "data": {
      "text/html": [
       "<div>\n",
       "<style scoped>\n",
       "    .dataframe tbody tr th:only-of-type {\n",
       "        vertical-align: middle;\n",
       "    }\n",
       "\n",
       "    .dataframe tbody tr th {\n",
       "        vertical-align: top;\n",
       "    }\n",
       "\n",
       "    .dataframe thead th {\n",
       "        text-align: right;\n",
       "    }\n",
       "</style>\n",
       "<table border=\"1\" class=\"dataframe\">\n",
       "  <thead>\n",
       "    <tr style=\"text-align: right;\">\n",
       "      <th></th>\n",
       "      <th>doc</th>\n",
       "      <th>line_id</th>\n",
       "      <th>value</th>\n",
       "      <th>entity</th>\n",
       "    </tr>\n",
       "  </thead>\n",
       "  <tbody>\n",
       "    <tr>\n",
       "      <th>43792</th>\n",
       "      <td>X51006619341</td>\n",
       "      <td>21</td>\n",
       "      <td>8.60</td>\n",
       "      <td>I-total</td>\n",
       "    </tr>\n",
       "    <tr>\n",
       "      <th>43988</th>\n",
       "      <td>X51006619343</td>\n",
       "      <td>30</td>\n",
       "      <td>22.90</td>\n",
       "      <td>I-total</td>\n",
       "    </tr>\n",
       "    <tr>\n",
       "      <th>45347</th>\n",
       "      <td>X51006619709</td>\n",
       "      <td>54</td>\n",
       "      <td>57.40</td>\n",
       "      <td>I-total</td>\n",
       "    </tr>\n",
       "    <tr>\n",
       "      <th>45594</th>\n",
       "      <td>X51006619765</td>\n",
       "      <td>50</td>\n",
       "      <td>64.70</td>\n",
       "      <td>I-total</td>\n",
       "    </tr>\n",
       "    <tr>\n",
       "      <th>46690</th>\n",
       "      <td>X51006620186</td>\n",
       "      <td>45</td>\n",
       "      <td>68.10</td>\n",
       "      <td>I-total</td>\n",
       "    </tr>\n",
       "    <tr>\n",
       "      <th>47095</th>\n",
       "      <td>X51006620190</td>\n",
       "      <td>24</td>\n",
       "      <td>21.50</td>\n",
       "      <td>I-total</td>\n",
       "    </tr>\n",
       "    <tr>\n",
       "      <th>50910</th>\n",
       "      <td>X51007103599</td>\n",
       "      <td>25</td>\n",
       "      <td>9.00</td>\n",
       "      <td>I-total</td>\n",
       "    </tr>\n",
       "    <tr>\n",
       "      <th>51163</th>\n",
       "      <td>X51007103641</td>\n",
       "      <td>45</td>\n",
       "      <td>34.80</td>\n",
       "      <td>I-total</td>\n",
       "    </tr>\n",
       "    <tr>\n",
       "      <th>51295</th>\n",
       "      <td>X51007103643</td>\n",
       "      <td>45</td>\n",
       "      <td>34.80</td>\n",
       "      <td>I-total</td>\n",
       "    </tr>\n",
       "    <tr>\n",
       "      <th>81346</th>\n",
       "      <td>X51005715455</td>\n",
       "      <td>16</td>\n",
       "      <td>10.60</td>\n",
       "      <td>I-total</td>\n",
       "    </tr>\n",
       "    <tr>\n",
       "      <th>99205</th>\n",
       "      <td>X51006619569</td>\n",
       "      <td>24</td>\n",
       "      <td>26.40</td>\n",
       "      <td>I-total</td>\n",
       "    </tr>\n",
       "    <tr>\n",
       "      <th>99315</th>\n",
       "      <td>X51006619570</td>\n",
       "      <td>25</td>\n",
       "      <td>30.90</td>\n",
       "      <td>I-total</td>\n",
       "    </tr>\n",
       "    <tr>\n",
       "      <th>99604</th>\n",
       "      <td>X51006619704</td>\n",
       "      <td>34</td>\n",
       "      <td>32.80</td>\n",
       "      <td>I-total</td>\n",
       "    </tr>\n",
       "    <tr>\n",
       "      <th>99951</th>\n",
       "      <td>X51006619764</td>\n",
       "      <td>35</td>\n",
       "      <td>34.40</td>\n",
       "      <td>I-total</td>\n",
       "    </tr>\n",
       "    <tr>\n",
       "      <th>100110</th>\n",
       "      <td>X51006619766</td>\n",
       "      <td>55</td>\n",
       "      <td>59.20</td>\n",
       "      <td>I-total</td>\n",
       "    </tr>\n",
       "    <tr>\n",
       "      <th>100741</th>\n",
       "      <td>X51006620175</td>\n",
       "      <td>30</td>\n",
       "      <td>26.70</td>\n",
       "      <td>I-total</td>\n",
       "    </tr>\n",
       "    <tr>\n",
       "      <th>103199</th>\n",
       "      <td>X51007103649</td>\n",
       "      <td>27</td>\n",
       "      <td>48.90</td>\n",
       "      <td>I-total</td>\n",
       "    </tr>\n",
       "  </tbody>\n",
       "</table>\n",
       "</div>"
      ],
      "text/plain": [
       "                 doc  line_id  value   entity\n",
       "43792   X51006619341       21   8.60  I-total\n",
       "43988   X51006619343       30  22.90  I-total\n",
       "45347   X51006619709       54  57.40  I-total\n",
       "45594   X51006619765       50  64.70  I-total\n",
       "46690   X51006620186       45  68.10  I-total\n",
       "47095   X51006620190       24  21.50  I-total\n",
       "50910   X51007103599       25   9.00  I-total\n",
       "51163   X51007103641       45  34.80  I-total\n",
       "51295   X51007103643       45  34.80  I-total\n",
       "81346   X51005715455       16  10.60  I-total\n",
       "99205   X51006619569       24  26.40  I-total\n",
       "99315   X51006619570       25  30.90  I-total\n",
       "99604   X51006619704       34  32.80  I-total\n",
       "99951   X51006619764       35  34.40  I-total\n",
       "100110  X51006619766       55  59.20  I-total\n",
       "100741  X51006620175       30  26.70  I-total\n",
       "103199  X51007103649       27  48.90  I-total"
      ]
     },
     "execution_count": 41,
     "metadata": {},
     "output_type": "execute_result"
    }
   ],
   "source": [
    "bio_df[bio_df['entity'] == 'I-total']"
   ]
  },
  {
   "cell_type": "code",
   "execution_count": 42,
   "metadata": {},
   "outputs": [],
   "source": [
    "i_total_docs = bio_df[bio_df['entity'] == 'I-total']"
   ]
  },
  {
   "cell_type": "code",
   "execution_count": 43,
   "metadata": {},
   "outputs": [],
   "source": [
    "for _, row in i_total_docs.iterrows():\n",
    "    doc_id = row['doc']\n",
    "    i_total_value = row['value']\n",
    "    \n",
    "    # Trouver les lignes 'B-total' dans le même document\n",
    "    b_total_rows = bio_df[(bio_df['doc'] == doc_id) & (bio_df['entity'] == 'B-total')]\n",
    "    \n",
    "    for idx, b_row in b_total_rows.iterrows():\n",
    "        # Convertir la valeur en numérique avec 'coerce' pour gérer les non-conversions\n",
    "        numeric_value = pd.to_numeric(b_row['value'], errors='coerce')\n",
    "        \n",
    "        # Vérifier si le résultat est NaN pour déterminer si la conversion a échoué (la valeur n'était pas numérique)\n",
    "        if np.isnan(numeric_value):\n",
    "            # Remplacer la valeur 'B-total' par celle de 'I-total'\n",
    "            bio_df.at[idx, 'value'] = i_total_value"
   ]
  },
  {
   "cell_type": "code",
   "execution_count": 44,
   "metadata": {},
   "outputs": [],
   "source": [
    "def drop_b_i_total_duplicates(bio_df):\n",
    "    # Étape 1: Obtenir les combinaisons uniques de `doc` et `value` pour 'B-total'\n",
    "    b_totals = bio_df[bio_df['entity'] == 'B-total'][['doc', 'value']].drop_duplicates()\n",
    "\n",
    "    # Étape 2: Identifier les 'I-total' à supprimer\n",
    "    # Cela se fait en cherchant une correspondance dans 'b_totals'\n",
    "    i_totals_to_drop = bio_df[(bio_df['entity'] == 'I-total') & \n",
    "                              bio_df[['doc', 'value']].isin(b_totals.to_dict('list')).all(axis=1)]\n",
    "    \n",
    "    # Étape 3: Supprimer ces 'I-total' du DataFrame\n",
    "    bio_df_cleaned = bio_df.drop(i_totals_to_drop.index)\n",
    "\n",
    "    return bio_df_cleaned\n",
    "bio_df=drop_b_i_total_duplicates(bio_df)"
   ]
  },
  {
   "cell_type": "code",
   "execution_count": 45,
   "metadata": {},
   "outputs": [
    {
     "name": "stdout",
     "output_type": "stream",
     "text": [
      "entity\n",
      "I-address    8894\n",
      "I-company    3618\n",
      "B-total       966\n",
      "B-address     965\n",
      "B-company     961\n",
      "B-date        940\n",
      "I-date        375\n",
      "Name: count, dtype: int64\n"
     ]
    },
    {
     "data": {
      "image/png": "[encoded data removed]",
      "text/plain": [
       "<Figure size 640x480 with 1 Axes>"
      ]
     },
     "metadata": {},
     "output_type": "display_data"
    }
   ],
   "source": [
    "check_entities(bio_df)"
   ]
  },
  {
   "cell_type": "markdown",
   "metadata": {},
   "source": [
    "## Date "
   ]
  },
  {
   "cell_type": "code",
   "execution_count": 46,
   "metadata": {},
   "outputs": [
    {
     "data": {
      "text/html": [
       "<div>\n",
       "<style scoped>\n",
       "    .dataframe tbody tr th:only-of-type {\n",
       "        vertical-align: middle;\n",
       "    }\n",
       "\n",
       "    .dataframe tbody tr th {\n",
       "        vertical-align: top;\n",
       "    }\n",
       "\n",
       "    .dataframe thead th {\n",
       "        text-align: right;\n",
       "    }\n",
       "</style>\n",
       "<table border=\"1\" class=\"dataframe\">\n",
       "  <thead>\n",
       "    <tr style=\"text-align: right;\">\n",
       "      <th></th>\n",
       "      <th>doc</th>\n",
       "      <th>line_id</th>\n",
       "      <th>value</th>\n",
       "      <th>entity</th>\n",
       "    </tr>\n",
       "  </thead>\n",
       "  <tbody>\n",
       "    <tr>\n",
       "      <th>28</th>\n",
       "      <td>X00016469612</td>\n",
       "      <td>10</td>\n",
       "      <td>25/12/2018</td>\n",
       "      <td>B-date</td>\n",
       "    </tr>\n",
       "    <tr>\n",
       "      <th>103</th>\n",
       "      <td>X00016469619</td>\n",
       "      <td>9</td>\n",
       "      <td>19/10/2018</td>\n",
       "      <td>B-date</td>\n",
       "    </tr>\n",
       "    <tr>\n",
       "      <th>283</th>\n",
       "      <td>X00016469620</td>\n",
       "      <td>49</td>\n",
       "      <td>12-01-19</td>\n",
       "      <td>B-date</td>\n",
       "    </tr>\n",
       "    <tr>\n",
       "      <th>331</th>\n",
       "      <td>X00016469622</td>\n",
       "      <td>13</td>\n",
       "      <td>25/12/2018</td>\n",
       "      <td>B-date</td>\n",
       "    </tr>\n",
       "    <tr>\n",
       "      <th>530</th>\n",
       "      <td>X00016469623</td>\n",
       "      <td>56</td>\n",
       "      <td>18-11-18</td>\n",
       "      <td>B-date</td>\n",
       "    </tr>\n",
       "    <tr>\n",
       "      <th>...</th>\n",
       "      <td>...</td>\n",
       "      <td>...</td>\n",
       "      <td>...</td>\n",
       "      <td>...</td>\n",
       "    </tr>\n",
       "    <tr>\n",
       "      <th>110539</th>\n",
       "      <td>X51009447842</td>\n",
       "      <td>8</td>\n",
       "      <td>14/03/2018</td>\n",
       "      <td>B-date</td>\n",
       "    </tr>\n",
       "    <tr>\n",
       "      <th>110639</th>\n",
       "      <td>X51009453729</td>\n",
       "      <td>10</td>\n",
       "      <td>27/03/2018</td>\n",
       "      <td>B-date</td>\n",
       "    </tr>\n",
       "    <tr>\n",
       "      <th>70900</th>\n",
       "      <td>X51009453801</td>\n",
       "      <td>13</td>\n",
       "      <td>20/03/2018</td>\n",
       "      <td>B-date</td>\n",
       "    </tr>\n",
       "    <tr>\n",
       "      <th>70990</th>\n",
       "      <td>X51009453804</td>\n",
       "      <td>10</td>\n",
       "      <td>27/03/2018</td>\n",
       "      <td>B-date</td>\n",
       "    </tr>\n",
       "    <tr>\n",
       "      <th>110752</th>\n",
       "      <td>X51009568881</td>\n",
       "      <td>9</td>\n",
       "      <td>21/09/2017</td>\n",
       "      <td>B-date</td>\n",
       "    </tr>\n",
       "  </tbody>\n",
       "</table>\n",
       "<p>1315 rows × 4 columns</p>\n",
       "</div>"
      ],
      "text/plain": [
       "                 doc  line_id       value  entity\n",
       "28      X00016469612       10  25/12/2018  B-date\n",
       "103     X00016469619        9  19/10/2018  B-date\n",
       "283     X00016469620       49    12-01-19  B-date\n",
       "331     X00016469622       13  25/12/2018  B-date\n",
       "530     X00016469623       56    18-11-18  B-date\n",
       "...              ...      ...         ...     ...\n",
       "110539  X51009447842        8  14/03/2018  B-date\n",
       "110639  X51009453729       10  27/03/2018  B-date\n",
       "70900   X51009453801       13  20/03/2018  B-date\n",
       "70990   X51009453804       10  27/03/2018  B-date\n",
       "110752  X51009568881        9  21/09/2017  B-date\n",
       "\n",
       "[1315 rows x 4 columns]"
      ]
     },
     "execution_count": 46,
     "metadata": {},
     "output_type": "execute_result"
    }
   ],
   "source": [
    "def get_b_date_and_i_date(bio_df):\n",
    "    # Filtrer pour obtenir uniquement les lignes où 'entity' est 'I-date' ou 'B-date'\n",
    "    date_entities = bio_df[bio_df['entity'].isin(['I-date', 'B-date'])]\n",
    "\n",
    "    # Optionnellement, trier par 'doc' pour regrouper les entités par document\n",
    "    date_entities_sorted = date_entities.sort_values(by=['doc'])\n",
    "    return date_entities_sorted\n",
    "\n",
    "date_entities_sorted=get_b_date_and_i_date(bio_df)\n",
    "date_entities_sorted"
   ]
  },
  {
   "cell_type": "code",
   "execution_count": 47,
   "metadata": {},
   "outputs": [],
   "source": [
    "def drop_duplicates_dates_and_keep_b(bio_df):\n",
    "    b_totals = bio_df[bio_df['entity'] == 'B-date'][['doc', 'value']].drop_duplicates()\n",
    "\n",
    "    # Étape 2: Identifier les 'I-total' à supprimer\n",
    "    # Cela se fait en cherchant une correspondance dans 'b_totals'\n",
    "    i_totals_to_drop = bio_df[(bio_df['entity'] == 'I-date') & \n",
    "                              bio_df[['doc', 'value']].isin(b_totals.to_dict('list')).all(axis=1)]\n",
    "    \n",
    "    # Étape 3: Supprimer ces 'I-total' du DataFrame\n",
    "    bio_df= bio_df.drop(i_totals_to_drop.index)\n",
    "    \n",
    "    return bio_df\n",
    "bio_df=drop_duplicates_dates_and_keep_b(bio_df)"
   ]
  },
  {
   "cell_type": "code",
   "execution_count": 48,
   "metadata": {},
   "outputs": [
    {
     "data": {
      "text/html": [
       "<div>\n",
       "<style scoped>\n",
       "    .dataframe tbody tr th:only-of-type {\n",
       "        vertical-align: middle;\n",
       "    }\n",
       "\n",
       "    .dataframe tbody tr th {\n",
       "        vertical-align: top;\n",
       "    }\n",
       "\n",
       "    .dataframe thead th {\n",
       "        text-align: right;\n",
       "    }\n",
       "</style>\n",
       "<table border=\"1\" class=\"dataframe\">\n",
       "  <thead>\n",
       "    <tr style=\"text-align: right;\">\n",
       "      <th></th>\n",
       "      <th>doc</th>\n",
       "      <th>line_id</th>\n",
       "      <th>value</th>\n",
       "      <th>entity</th>\n",
       "    </tr>\n",
       "  </thead>\n",
       "  <tbody>\n",
       "    <tr>\n",
       "      <th>28</th>\n",
       "      <td>X00016469612</td>\n",
       "      <td>10</td>\n",
       "      <td>25/12/2018</td>\n",
       "      <td>B-date</td>\n",
       "    </tr>\n",
       "    <tr>\n",
       "      <th>103</th>\n",
       "      <td>X00016469619</td>\n",
       "      <td>9</td>\n",
       "      <td>19/10/2018</td>\n",
       "      <td>B-date</td>\n",
       "    </tr>\n",
       "    <tr>\n",
       "      <th>283</th>\n",
       "      <td>X00016469620</td>\n",
       "      <td>49</td>\n",
       "      <td>12-01-19</td>\n",
       "      <td>B-date</td>\n",
       "    </tr>\n",
       "    <tr>\n",
       "      <th>331</th>\n",
       "      <td>X00016469622</td>\n",
       "      <td>13</td>\n",
       "      <td>25/12/2018</td>\n",
       "      <td>B-date</td>\n",
       "    </tr>\n",
       "    <tr>\n",
       "      <th>530</th>\n",
       "      <td>X00016469623</td>\n",
       "      <td>56</td>\n",
       "      <td>18-11-18</td>\n",
       "      <td>B-date</td>\n",
       "    </tr>\n",
       "    <tr>\n",
       "      <th>...</th>\n",
       "      <td>...</td>\n",
       "      <td>...</td>\n",
       "      <td>...</td>\n",
       "      <td>...</td>\n",
       "    </tr>\n",
       "    <tr>\n",
       "      <th>110539</th>\n",
       "      <td>X51009447842</td>\n",
       "      <td>8</td>\n",
       "      <td>14/03/2018</td>\n",
       "      <td>B-date</td>\n",
       "    </tr>\n",
       "    <tr>\n",
       "      <th>110639</th>\n",
       "      <td>X51009453729</td>\n",
       "      <td>10</td>\n",
       "      <td>27/03/2018</td>\n",
       "      <td>B-date</td>\n",
       "    </tr>\n",
       "    <tr>\n",
       "      <th>70900</th>\n",
       "      <td>X51009453801</td>\n",
       "      <td>13</td>\n",
       "      <td>20/03/2018</td>\n",
       "      <td>B-date</td>\n",
       "    </tr>\n",
       "    <tr>\n",
       "      <th>70990</th>\n",
       "      <td>X51009453804</td>\n",
       "      <td>10</td>\n",
       "      <td>27/03/2018</td>\n",
       "      <td>B-date</td>\n",
       "    </tr>\n",
       "    <tr>\n",
       "      <th>110752</th>\n",
       "      <td>X51009568881</td>\n",
       "      <td>9</td>\n",
       "      <td>21/09/2017</td>\n",
       "      <td>B-date</td>\n",
       "    </tr>\n",
       "  </tbody>\n",
       "</table>\n",
       "<p>1091 rows × 4 columns</p>\n",
       "</div>"
      ],
      "text/plain": [
       "                 doc  line_id       value  entity\n",
       "28      X00016469612       10  25/12/2018  B-date\n",
       "103     X00016469619        9  19/10/2018  B-date\n",
       "283     X00016469620       49    12-01-19  B-date\n",
       "331     X00016469622       13  25/12/2018  B-date\n",
       "530     X00016469623       56    18-11-18  B-date\n",
       "...              ...      ...         ...     ...\n",
       "110539  X51009447842        8  14/03/2018  B-date\n",
       "110639  X51009453729       10  27/03/2018  B-date\n",
       "70900   X51009453801       13  20/03/2018  B-date\n",
       "70990   X51009453804       10  27/03/2018  B-date\n",
       "110752  X51009568881        9  21/09/2017  B-date\n",
       "\n",
       "[1091 rows x 4 columns]"
      ]
     },
     "execution_count": 48,
     "metadata": {},
     "output_type": "execute_result"
    }
   ],
   "source": [
    "date_entities_sorted_1=get_b_date_and_i_date(bio_df)\n",
    "date_entities_sorted_1"
   ]
  },
  {
   "cell_type": "code",
   "execution_count": 49,
   "metadata": {},
   "outputs": [
    {
     "name": "stdout",
     "output_type": "stream",
     "text": [
      "entity\n",
      "I-address    8894\n",
      "I-company    3618\n",
      "B-total       966\n",
      "B-address     965\n",
      "B-company     961\n",
      "B-date        940\n",
      "I-date        151\n",
      "Name: count, dtype: int64\n"
     ]
    },
    {
     "data": {
      "image/png": "[encoded data removed]",
      "text/plain": [
       "<Figure size 640x480 with 1 Axes>"
      ]
     },
     "metadata": {},
     "output_type": "display_data"
    }
   ],
   "source": [
    "check_entities(bio_df)"
   ]
  },
  {
   "cell_type": "markdown",
   "metadata": {},
   "source": [
    "quels documents n'ont pas de B_date?"
   ]
  },
  {
   "cell_type": "code",
   "execution_count": 50,
   "metadata": {},
   "outputs": [
    {
     "name": "stdout",
     "output_type": "stream",
     "text": [
      "Documents sans 'B-date': {'X51005200931', 'X51006389894', 'X51006414674', 'X51006679216', 'X51006335547', 'X51006414519', 'X51005719917', 'X51006466055', 'X51005749912', 'X51006619869', 'X51006388081', 'X51005724552', 'X51005230621', 'X51006620192', 'X51005719874', 'X51006414675', 'X51006327960', 'X51008142038', 'X51006619545', 'X51005447850', 'X51006913074', 'X51005568887', 'X51005587261', 'X51005719902', 'X51006328345', 'X51006401869'}\n"
     ]
    }
   ],
   "source": [
    "# Étape 1: Trouver tous les documents uniques\n",
    "all_docs = set(bio_df['doc'].unique())\n",
    "\n",
    "# Étape 2: Trouver les documents qui contiennent au moins une 'B-date'\n",
    "docs_with_b_date = set(bio_df[bio_df['entity'] == 'B-date']['doc'].unique())\n",
    "\n",
    "# Étape 3: Identifier les documents sans 'B-date'\n",
    "docs_without_b_date = all_docs - docs_with_b_date\n",
    "\n",
    "# Afficher les documents sans 'B-date'\n",
    "print(\"Documents sans 'B-date':\", docs_without_b_date)"
   ]
  },
  {
   "cell_type": "code",
   "execution_count": 51,
   "metadata": {},
   "outputs": [
    {
     "data": {
      "text/plain": [
       "26"
      ]
     },
     "execution_count": 51,
     "metadata": {},
     "output_type": "execute_result"
    }
   ],
   "source": [
    "len(docs_without_b_date)"
   ]
  },
  {
   "cell_type": "markdown",
   "metadata": {},
   "source": [
    "drop toutes les documents qui n'ont pa sde dates "
   ]
  },
  {
   "cell_type": "code",
   "execution_count": 52,
   "metadata": {},
   "outputs": [],
   "source": [
    "bio_df= bio_df[~bio_df['doc'].isin(docs_without_b_date)]"
   ]
  },
  {
   "cell_type": "code",
   "execution_count": 53,
   "metadata": {},
   "outputs": [
    {
     "name": "stdout",
     "output_type": "stream",
     "text": [
      "entity\n",
      "I-address    8596\n",
      "I-company    3534\n",
      "B-date        940\n",
      "B-total       940\n",
      "B-address     939\n",
      "B-company     935\n",
      "I-date        151\n",
      "Name: count, dtype: int64\n"
     ]
    },
    {
     "data": {
      "image/png": "[encoded data removed]",
      "text/plain": [
       "<Figure size 640x480 with 1 Axes>"
      ]
     },
     "metadata": {},
     "output_type": "display_data"
    }
   ],
   "source": [
    "check_entities(bio_df)"
   ]
  },
  {
   "cell_type": "markdown",
   "metadata": {},
   "source": [
    "## Adress"
   ]
  },
  {
   "cell_type": "markdown",
   "metadata": {},
   "source": [
    "adresses avec des O au milieu"
   ]
  },
  {
   "cell_type": "code",
   "execution_count": 54,
   "metadata": {},
   "outputs": [
    {
     "name": "stdout",
     "output_type": "stream",
     "text": [
      "Documents avec 'O' au milieu d'une séquence d'adresse: 36\n"
     ]
    }
   ],
   "source": [
    "docs_with_o_in_address = set()\n",
    "for doc in bio_df['doc'].unique():\n",
    "    doc_df = bio_df[bio_df['doc'] == doc]\n",
    "    prev_entity = \"\"\n",
    "    for i, row in doc_df.iterrows():\n",
    "        if prev_entity == 'B-address' and row['entity'] == 'O':\n",
    "            # Vérifier si le prochain non 'O' est un 'I-address'\n",
    "            next_rows = doc_df[(doc_df['line_id'] > row['line_id']) & (doc_df['entity'] != 'O')]\n",
    "            if not next_rows.empty and next_rows.iloc[0]['entity'].startswith('I-address'):\n",
    "                docs_with_o_in_address.add(doc)\n",
    "                break  # Arrêtez de chercher dans ce document après avoir trouvé une séquence\n",
    "        prev_entity = row['entity'] if row['entity'] != 'O' else prev_entity\n",
    "\n",
    "# Afficher les résultats\n",
    "print(f\"Documents avec 'O' au milieu d'une séquence d'adresse: {len(docs_with_o_in_address)}\")"
   ]
  },
  {
   "cell_type": "code",
   "execution_count": 55,
   "metadata": {},
   "outputs": [
    {
     "name": "stderr",
     "output_type": "stream",
     "text": [
      "/tmp/ipykernel_14117/1002020370.py:12: FutureWarning: Setting an item of incompatible dtype is deprecated and will raise in a future error of pandas. Value 'True' has dtype incompatible with float64, please explicitly cast to a compatible dtype first.\n",
      "  bio_df.loc[indexes[j], 'temp_mark'] = True\n",
      "/tmp/ipykernel_14117/1002020370.py:12: FutureWarning: Setting an item of incompatible dtype is deprecated and will raise in a future error of pandas. Value 'True' has dtype incompatible with float64, please explicitly cast to a compatible dtype first.\n",
      "  bio_df.loc[indexes[j], 'temp_mark'] = True\n",
      "/tmp/ipykernel_14117/1002020370.py:12: FutureWarning: Setting an item of incompatible dtype is deprecated and will raise in a future error of pandas. Value 'True' has dtype incompatible with float64, please explicitly cast to a compatible dtype first.\n",
      "  bio_df.loc[indexes[j], 'temp_mark'] = True\n",
      "/tmp/ipykernel_14117/1002020370.py:12: FutureWarning: Setting an item of incompatible dtype is deprecated and will raise in a future error of pandas. Value 'True' has dtype incompatible with float64, please explicitly cast to a compatible dtype first.\n",
      "  bio_df.loc[indexes[j], 'temp_mark'] = True\n",
      "/tmp/ipykernel_14117/1002020370.py:12: FutureWarning: Setting an item of incompatible dtype is deprecated and will raise in a future error of pandas. Value 'True' has dtype incompatible with float64, please explicitly cast to a compatible dtype first.\n",
      "  bio_df.loc[indexes[j], 'temp_mark'] = True\n",
      "/tmp/ipykernel_14117/1002020370.py:12: FutureWarning: Setting an item of incompatible dtype is deprecated and will raise in a future error of pandas. Value 'True' has dtype incompatible with float64, please explicitly cast to a compatible dtype first.\n",
      "  bio_df.loc[indexes[j], 'temp_mark'] = True\n",
      "/tmp/ipykernel_14117/1002020370.py:12: FutureWarning: Setting an item of incompatible dtype is deprecated and will raise in a future error of pandas. Value 'True' has dtype incompatible with float64, please explicitly cast to a compatible dtype first.\n",
      "  bio_df.loc[indexes[j], 'temp_mark'] = True\n",
      "/tmp/ipykernel_14117/1002020370.py:12: FutureWarning: Setting an item of incompatible dtype is deprecated and will raise in a future error of pandas. Value 'True' has dtype incompatible with float64, please explicitly cast to a compatible dtype first.\n",
      "  bio_df.loc[indexes[j], 'temp_mark'] = True\n",
      "/tmp/ipykernel_14117/1002020370.py:12: FutureWarning: Setting an item of incompatible dtype is deprecated and will raise in a future error of pandas. Value 'True' has dtype incompatible with float64, please explicitly cast to a compatible dtype first.\n",
      "  bio_df.loc[indexes[j], 'temp_mark'] = True\n",
      "/tmp/ipykernel_14117/1002020370.py:12: FutureWarning: Setting an item of incompatible dtype is deprecated and will raise in a future error of pandas. Value 'True' has dtype incompatible with float64, please explicitly cast to a compatible dtype first.\n",
      "  bio_df.loc[indexes[j], 'temp_mark'] = True\n",
      "/tmp/ipykernel_14117/1002020370.py:12: FutureWarning: Setting an item of incompatible dtype is deprecated and will raise in a future error of pandas. Value 'True' has dtype incompatible with float64, please explicitly cast to a compatible dtype first.\n",
      "  bio_df.loc[indexes[j], 'temp_mark'] = True\n",
      "/tmp/ipykernel_14117/1002020370.py:12: FutureWarning: Setting an item of incompatible dtype is deprecated and will raise in a future error of pandas. Value 'True' has dtype incompatible with float64, please explicitly cast to a compatible dtype first.\n",
      "  bio_df.loc[indexes[j], 'temp_mark'] = True\n",
      "/tmp/ipykernel_14117/1002020370.py:12: FutureWarning: Setting an item of incompatible dtype is deprecated and will raise in a future error of pandas. Value 'True' has dtype incompatible with float64, please explicitly cast to a compatible dtype first.\n",
      "  bio_df.loc[indexes[j], 'temp_mark'] = True\n",
      "/tmp/ipykernel_14117/1002020370.py:12: FutureWarning: Setting an item of incompatible dtype is deprecated and will raise in a future error of pandas. Value 'True' has dtype incompatible with float64, please explicitly cast to a compatible dtype first.\n",
      "  bio_df.loc[indexes[j], 'temp_mark'] = True\n",
      "/tmp/ipykernel_14117/1002020370.py:12: FutureWarning: Setting an item of incompatible dtype is deprecated and will raise in a future error of pandas. Value 'True' has dtype incompatible with float64, please explicitly cast to a compatible dtype first.\n",
      "  bio_df.loc[indexes[j], 'temp_mark'] = True\n",
      "/tmp/ipykernel_14117/1002020370.py:12: FutureWarning: Setting an item of incompatible dtype is deprecated and will raise in a future error of pandas. Value 'True' has dtype incompatible with float64, please explicitly cast to a compatible dtype first.\n",
      "  bio_df.loc[indexes[j], 'temp_mark'] = True\n",
      "/tmp/ipykernel_14117/1002020370.py:12: FutureWarning: Setting an item of incompatible dtype is deprecated and will raise in a future error of pandas. Value 'True' has dtype incompatible with float64, please explicitly cast to a compatible dtype first.\n",
      "  bio_df.loc[indexes[j], 'temp_mark'] = True\n",
      "/tmp/ipykernel_14117/1002020370.py:12: FutureWarning: Setting an item of incompatible dtype is deprecated and will raise in a future error of pandas. Value 'True' has dtype incompatible with float64, please explicitly cast to a compatible dtype first.\n",
      "  bio_df.loc[indexes[j], 'temp_mark'] = True\n",
      "/tmp/ipykernel_14117/1002020370.py:12: FutureWarning: Setting an item of incompatible dtype is deprecated and will raise in a future error of pandas. Value 'True' has dtype incompatible with float64, please explicitly cast to a compatible dtype first.\n",
      "  bio_df.loc[indexes[j], 'temp_mark'] = True\n",
      "/tmp/ipykernel_14117/1002020370.py:12: FutureWarning: Setting an item of incompatible dtype is deprecated and will raise in a future error of pandas. Value 'True' has dtype incompatible with float64, please explicitly cast to a compatible dtype first.\n",
      "  bio_df.loc[indexes[j], 'temp_mark'] = True\n",
      "/tmp/ipykernel_14117/1002020370.py:12: FutureWarning: Setting an item of incompatible dtype is deprecated and will raise in a future error of pandas. Value 'True' has dtype incompatible with float64, please explicitly cast to a compatible dtype first.\n",
      "  bio_df.loc[indexes[j], 'temp_mark'] = True\n",
      "/tmp/ipykernel_14117/1002020370.py:12: FutureWarning: Setting an item of incompatible dtype is deprecated and will raise in a future error of pandas. Value 'True' has dtype incompatible with float64, please explicitly cast to a compatible dtype first.\n",
      "  bio_df.loc[indexes[j], 'temp_mark'] = True\n",
      "/tmp/ipykernel_14117/1002020370.py:12: FutureWarning: Setting an item of incompatible dtype is deprecated and will raise in a future error of pandas. Value 'True' has dtype incompatible with float64, please explicitly cast to a compatible dtype first.\n",
      "  bio_df.loc[indexes[j], 'temp_mark'] = True\n",
      "/tmp/ipykernel_14117/1002020370.py:12: FutureWarning: Setting an item of incompatible dtype is deprecated and will raise in a future error of pandas. Value 'True' has dtype incompatible with float64, please explicitly cast to a compatible dtype first.\n",
      "  bio_df.loc[indexes[j], 'temp_mark'] = True\n",
      "/tmp/ipykernel_14117/1002020370.py:12: FutureWarning: Setting an item of incompatible dtype is deprecated and will raise in a future error of pandas. Value 'True' has dtype incompatible with float64, please explicitly cast to a compatible dtype first.\n",
      "  bio_df.loc[indexes[j], 'temp_mark'] = True\n",
      "/tmp/ipykernel_14117/1002020370.py:12: FutureWarning: Setting an item of incompatible dtype is deprecated and will raise in a future error of pandas. Value 'True' has dtype incompatible with float64, please explicitly cast to a compatible dtype first.\n",
      "  bio_df.loc[indexes[j], 'temp_mark'] = True\n",
      "/tmp/ipykernel_14117/1002020370.py:12: FutureWarning: Setting an item of incompatible dtype is deprecated and will raise in a future error of pandas. Value 'True' has dtype incompatible with float64, please explicitly cast to a compatible dtype first.\n",
      "  bio_df.loc[indexes[j], 'temp_mark'] = True\n",
      "/tmp/ipykernel_14117/1002020370.py:12: FutureWarning: Setting an item of incompatible dtype is deprecated and will raise in a future error of pandas. Value 'True' has dtype incompatible with float64, please explicitly cast to a compatible dtype first.\n",
      "  bio_df.loc[indexes[j], 'temp_mark'] = True\n",
      "/tmp/ipykernel_14117/1002020370.py:12: FutureWarning: Setting an item of incompatible dtype is deprecated and will raise in a future error of pandas. Value 'True' has dtype incompatible with float64, please explicitly cast to a compatible dtype first.\n",
      "  bio_df.loc[indexes[j], 'temp_mark'] = True\n",
      "/tmp/ipykernel_14117/1002020370.py:12: FutureWarning: Setting an item of incompatible dtype is deprecated and will raise in a future error of pandas. Value 'True' has dtype incompatible with float64, please explicitly cast to a compatible dtype first.\n",
      "  bio_df.loc[indexes[j], 'temp_mark'] = True\n",
      "/tmp/ipykernel_14117/1002020370.py:12: FutureWarning: Setting an item of incompatible dtype is deprecated and will raise in a future error of pandas. Value 'True' has dtype incompatible with float64, please explicitly cast to a compatible dtype first.\n",
      "  bio_df.loc[indexes[j], 'temp_mark'] = True\n",
      "/tmp/ipykernel_14117/1002020370.py:12: FutureWarning: Setting an item of incompatible dtype is deprecated and will raise in a future error of pandas. Value 'True' has dtype incompatible with float64, please explicitly cast to a compatible dtype first.\n",
      "  bio_df.loc[indexes[j], 'temp_mark'] = True\n",
      "/tmp/ipykernel_14117/1002020370.py:12: FutureWarning: Setting an item of incompatible dtype is deprecated and will raise in a future error of pandas. Value 'True' has dtype incompatible with float64, please explicitly cast to a compatible dtype first.\n",
      "  bio_df.loc[indexes[j], 'temp_mark'] = True\n",
      "/tmp/ipykernel_14117/1002020370.py:12: FutureWarning: Setting an item of incompatible dtype is deprecated and will raise in a future error of pandas. Value 'True' has dtype incompatible with float64, please explicitly cast to a compatible dtype first.\n",
      "  bio_df.loc[indexes[j], 'temp_mark'] = True\n",
      "/tmp/ipykernel_14117/1002020370.py:12: FutureWarning: Setting an item of incompatible dtype is deprecated and will raise in a future error of pandas. Value 'True' has dtype incompatible with float64, please explicitly cast to a compatible dtype first.\n",
      "  bio_df.loc[indexes[j], 'temp_mark'] = True\n",
      "/tmp/ipykernel_14117/1002020370.py:12: FutureWarning: Setting an item of incompatible dtype is deprecated and will raise in a future error of pandas. Value 'True' has dtype incompatible with float64, please explicitly cast to a compatible dtype first.\n",
      "  bio_df.loc[indexes[j], 'temp_mark'] = True\n",
      "/tmp/ipykernel_14117/1002020370.py:12: FutureWarning: Setting an item of incompatible dtype is deprecated and will raise in a future error of pandas. Value 'True' has dtype incompatible with float64, please explicitly cast to a compatible dtype first.\n",
      "  bio_df.loc[indexes[j], 'temp_mark'] = True\n",
      "/tmp/ipykernel_14117/1002020370.py:12: FutureWarning: Setting an item of incompatible dtype is deprecated and will raise in a future error of pandas. Value 'True' has dtype incompatible with float64, please explicitly cast to a compatible dtype first.\n",
      "  bio_df.loc[indexes[j], 'temp_mark'] = True\n",
      "/tmp/ipykernel_14117/1002020370.py:12: FutureWarning: Setting an item of incompatible dtype is deprecated and will raise in a future error of pandas. Value 'True' has dtype incompatible with float64, please explicitly cast to a compatible dtype first.\n",
      "  bio_df.loc[indexes[j], 'temp_mark'] = True\n",
      "/tmp/ipykernel_14117/1002020370.py:12: FutureWarning: Setting an item of incompatible dtype is deprecated and will raise in a future error of pandas. Value 'True' has dtype incompatible with float64, please explicitly cast to a compatible dtype first.\n",
      "  bio_df.loc[indexes[j], 'temp_mark'] = True\n",
      "/tmp/ipykernel_14117/1002020370.py:12: FutureWarning: Setting an item of incompatible dtype is deprecated and will raise in a future error of pandas. Value 'True' has dtype incompatible with float64, please explicitly cast to a compatible dtype first.\n",
      "  bio_df.loc[indexes[j], 'temp_mark'] = True\n"
     ]
    },
    {
     "data": {
      "text/html": [
       "<div>\n",
       "<style scoped>\n",
       "    .dataframe tbody tr th:only-of-type {\n",
       "        vertical-align: middle;\n",
       "    }\n",
       "\n",
       "    .dataframe tbody tr th {\n",
       "        vertical-align: top;\n",
       "    }\n",
       "\n",
       "    .dataframe thead th {\n",
       "        text-align: right;\n",
       "    }\n",
       "</style>\n",
       "<table border=\"1\" class=\"dataframe\">\n",
       "  <thead>\n",
       "    <tr style=\"text-align: right;\">\n",
       "      <th></th>\n",
       "      <th>doc</th>\n",
       "      <th>line_id</th>\n",
       "      <th>value</th>\n",
       "      <th>entity</th>\n",
       "    </tr>\n",
       "  </thead>\n",
       "  <tbody>\n",
       "    <tr>\n",
       "      <th>0</th>\n",
       "      <td>X00016469612</td>\n",
       "      <td>1</td>\n",
       "      <td>TAN</td>\n",
       "      <td>O</td>\n",
       "    </tr>\n",
       "    <tr>\n",
       "      <th>1</th>\n",
       "      <td>X00016469612</td>\n",
       "      <td>1</td>\n",
       "      <td>WOON</td>\n",
       "      <td>O</td>\n",
       "    </tr>\n",
       "    <tr>\n",
       "      <th>2</th>\n",
       "      <td>X00016469612</td>\n",
       "      <td>1</td>\n",
       "      <td>YANN</td>\n",
       "      <td>O</td>\n",
       "    </tr>\n",
       "    <tr>\n",
       "      <th>3</th>\n",
       "      <td>X00016469612</td>\n",
       "      <td>2</td>\n",
       "      <td>BOOK</td>\n",
       "      <td>B-company</td>\n",
       "    </tr>\n",
       "    <tr>\n",
       "      <th>4</th>\n",
       "      <td>X00016469612</td>\n",
       "      <td>2</td>\n",
       "      <td>TA</td>\n",
       "      <td>I-company</td>\n",
       "    </tr>\n",
       "    <tr>\n",
       "      <th>...</th>\n",
       "      <td>...</td>\n",
       "      <td>...</td>\n",
       "      <td>...</td>\n",
       "      <td>...</td>\n",
       "    </tr>\n",
       "    <tr>\n",
       "      <th>111120</th>\n",
       "      <td>X51008099100</td>\n",
       "      <td>7</td>\n",
       "      <td>0</td>\n",
       "      <td>O</td>\n",
       "    </tr>\n",
       "    <tr>\n",
       "      <th>111121</th>\n",
       "      <td>X51008099100</td>\n",
       "      <td>7</td>\n",
       "      <td>0</td>\n",
       "      <td>O</td>\n",
       "    </tr>\n",
       "    <tr>\n",
       "      <th>111122</th>\n",
       "      <td>X51008099100</td>\n",
       "      <td>7</td>\n",
       "      <td>0</td>\n",
       "      <td>O</td>\n",
       "    </tr>\n",
       "    <tr>\n",
       "      <th>111123</th>\n",
       "      <td>X51009447842</td>\n",
       "      <td>14</td>\n",
       "      <td>AMT</td>\n",
       "      <td>O</td>\n",
       "    </tr>\n",
       "    <tr>\n",
       "      <th>111124</th>\n",
       "      <td>X51009447842</td>\n",
       "      <td>14</td>\n",
       "      <td>AMT</td>\n",
       "      <td>O</td>\n",
       "    </tr>\n",
       "  </tbody>\n",
       "</table>\n",
       "<p>107051 rows × 4 columns</p>\n",
       "</div>"
      ],
      "text/plain": [
       "                 doc  line_id value     entity\n",
       "0       X00016469612        1   TAN          O\n",
       "1       X00016469612        1  WOON          O\n",
       "2       X00016469612        1  YANN          O\n",
       "3       X00016469612        2  BOOK  B-company\n",
       "4       X00016469612        2    TA  I-company\n",
       "...              ...      ...   ...        ...\n",
       "111120  X51008099100        7     0          O\n",
       "111121  X51008099100        7     0          O\n",
       "111122  X51008099100        7     0          O\n",
       "111123  X51009447842       14   AMT          O\n",
       "111124  X51009447842       14   AMT          O\n",
       "\n",
       "[107051 rows x 4 columns]"
      ]
     },
     "execution_count": 55,
     "metadata": {},
     "output_type": "execute_result"
    }
   ],
   "source": [
    "def update_o_to_i_address_in_sequence(bio_df):\n",
    "    docs = bio_df['doc'].unique()  # Obtenir tous les documents uniques\n",
    "    for doc in docs:\n",
    "        doc_df = bio_df[bio_df['doc'] == doc]  # Filtrer par document\n",
    "        indexes = doc_df.index\n",
    "        for i in range(len(indexes)):\n",
    "            if doc_df.loc[indexes[i], 'entity'] == 'B-address':\n",
    "                # Trouver la prochaine entité qui n'est pas 'O' après un 'B-address'\n",
    "                for j in range(i + 1, len(indexes)):\n",
    "                    if doc_df.loc[indexes[j], 'entity'] == 'O':\n",
    "                        # Marquer l'index si c'est 'O'\n",
    "                        bio_df.loc[indexes[j], 'temp_mark'] = True\n",
    "                    elif doc_df.loc[indexes[j], 'entity'].startswith('I-address'):\n",
    "                        # Si on trouve 'I-address' après 'O', mettre à jour tous les 'O' marqués en 'I-address'\n",
    "                        bio_df.loc[indexes[i:j], 'entity'] = bio_df.loc[indexes[i:j], 'entity'].apply(lambda x: 'I-address' if x == 'O' else x)\n",
    "                        bio_df.drop(columns=['temp_mark'], inplace=True, errors='ignore')  # Nettoyer la colonne temporaire\n",
    "                        break  # Sortir de la boucle interne une fois la mise à jour effectuée\n",
    "                    else:\n",
    "                        # Si une autre entité est trouvée, réinitialiser les marques et sortir de la boucle\n",
    "                        bio_df.drop(columns=['temp_mark'], inplace=True, errors='ignore')  # Nettoyer la colonne temporaire\n",
    "                        break\n",
    "\n",
    "    return bio_df\n",
    "\n",
    "# Appliquer la fonction pour mettre à jour les 'O' en 'I-address' dans les séquences d'adresse\n",
    "bio_df = update_o_to_i_address_in_sequence(bio_df)\n",
    "bio_df"
   ]
  },
  {
   "cell_type": "code",
   "execution_count": 56,
   "metadata": {},
   "outputs": [
    {
     "name": "stdout",
     "output_type": "stream",
     "text": [
      "entity\n",
      "I-address    8653\n",
      "I-company    3534\n",
      "B-date        940\n",
      "B-total       940\n",
      "B-address     939\n",
      "B-company     935\n",
      "I-date        151\n",
      "Name: count, dtype: int64\n"
     ]
    },
    {
     "data": {
      "image/png": "[encoded data removed]",
      "text/plain": [
       "<Figure size 640x480 with 1 Axes>"
      ]
     },
     "metadata": {},
     "output_type": "display_data"
    }
   ],
   "source": [
    "check_entities(bio_df)"
   ]
  },
  {
   "cell_type": "markdown",
   "metadata": {},
   "source": [
    "est ce qu'il y a plusieur groupes de b adress dans un même document ?"
   ]
  },
  {
   "cell_type": "code",
   "execution_count": 57,
   "metadata": {},
   "outputs": [
    {
     "name": "stdout",
     "output_type": "stream",
     "text": [
      "Documents avec plusieurs 'B-address': {}\n"
     ]
    }
   ],
   "source": [
    "# Initialiser un dictionnaire pour conserver le compte des 'B-address' par document\n",
    "b_address_counts = {}\n",
    "\n",
    "# Grouper le DataFrame par 'doc' et itérer sur chaque groupe\n",
    "for doc, group in bio_df.groupby('doc'):\n",
    "    # Compter le nombre de 'B-address' dans ce document\n",
    "    b_address_count = (group['entity'] == 'B-address').sum()\n",
    "    # Stocker le compte dans le dictionnaire\n",
    "    b_address_counts[doc] = b_address_count\n",
    "\n",
    "# Identifier les documents avec plusieurs 'B-address'\n",
    "docs_with_multiple_b_address = {doc: count for doc, count in b_address_counts.items() if count > 1}\n",
    "\n",
    "print(\"Documents avec plusieurs 'B-address':\", docs_with_multiple_b_address)"
   ]
  },
  {
   "cell_type": "code",
   "execution_count": 58,
   "metadata": {},
   "outputs": [
    {
     "name": "stdout",
     "output_type": "stream",
     "text": [
      "entity\n",
      "I-address    8653\n",
      "I-company    3534\n",
      "B-date        940\n",
      "B-total       940\n",
      "B-address     939\n",
      "B-company     935\n",
      "I-date        151\n",
      "Name: count, dtype: int64\n"
     ]
    },
    {
     "data": {
      "image/png": "[encoded data removed]",
      "text/plain": [
       "<Figure size 640x480 with 1 Axes>"
      ]
     },
     "metadata": {},
     "output_type": "display_data"
    }
   ],
   "source": [
    "check_entities(bio_df)"
   ]
  },
  {
   "cell_type": "markdown",
   "metadata": {},
   "source": [
    "## Compagny "
   ]
  },
  {
   "cell_type": "markdown",
   "metadata": {},
   "source": [
    "compagny avec des O au  mileu dans un doc"
   ]
  },
  {
   "cell_type": "code",
   "execution_count": 59,
   "metadata": {},
   "outputs": [
    {
     "name": "stdout",
     "output_type": "stream",
     "text": [
      "Documents avec 'O' au milieu d'une séquence d'adresse: 0\n"
     ]
    }
   ],
   "source": [
    "docs_with_o_in_compagny = set()\n",
    "for doc in bio_df['doc'].unique():\n",
    "    doc_df = bio_df[bio_df['doc'] == doc]\n",
    "    prev_entity = \"\"\n",
    "    for i, row in doc_df.iterrows():\n",
    "        if prev_entity == 'B-compagny' and row['entity'] == 'O':\n",
    "           \n",
    "            next_rows = doc_df[(doc_df['line_id'] > row['line_id']) & (doc_df['entity'] != 'O')]\n",
    "            if not next_rows.empty and next_rows.iloc[0]['entity'].startswith('I-compagny'):\n",
    "                docs_with_o_in_compagny.add(doc)\n",
    "                break  # Arrêtez de chercher dans ce document après avoir trouvé une séquence\n",
    "        prev_entity = row['entity'] if row['entity'] != 'O' else prev_entity\n",
    "\n",
    "# Afficher les résultats\n",
    "print(f\"Documents avec 'O' au milieu d'une séquence d'adresse: {len(docs_with_o_in_compagny)}\")"
   ]
  },
  {
   "cell_type": "markdown",
   "metadata": {},
   "source": [
    "est ce qu'il y a plusieur groupes de b compagny dans un même document ?"
   ]
  },
  {
   "cell_type": "code",
   "execution_count": 60,
   "metadata": {},
   "outputs": [
    {
     "name": "stdout",
     "output_type": "stream",
     "text": [
      "Documents avec plusieurs 'B-compagny': {}\n"
     ]
    }
   ],
   "source": [
    "b_address_counts = {}\n",
    "\n",
    "# Grouper le DataFrame par 'doc' et itérer sur chaque groupe\n",
    "for doc, group in bio_df.groupby('doc'):\n",
    "    # Compter le nombre de 'B-address' dans ce document\n",
    "    b_address_count = (group['entity'] == 'B-compagny').sum()\n",
    "    # Stocker le compte dans le dictionnaire\n",
    "    b_address_counts[doc] = b_address_count\n",
    "\n",
    "# Identifier les documents avec plusieurs 'B-address'\n",
    "docs_with_multiple_b_address = {doc: count for doc, count in b_address_counts.items() if count > 1}\n",
    "\n",
    "print(\"Documents avec plusieurs 'B-compagny':\", docs_with_multiple_b_address)"
   ]
  },
  {
   "cell_type": "markdown",
   "metadata": {},
   "source": [
    "drop les documents qui n'ont pas de B-compagny"
   ]
  },
  {
   "cell_type": "code",
   "execution_count": 61,
   "metadata": {},
   "outputs": [],
   "source": [
    "docs_with_b_company = set(bio_df[bio_df['entity'] == 'B-company']['doc'].unique())\n",
    "# Filtrer le DataFrame pour inclure seulement les lignes des documents avec 'B-company'\n",
    "bio_df = bio_df[bio_df['doc'].isin(docs_with_b_company)]"
   ]
  },
  {
   "cell_type": "markdown",
   "metadata": {},
   "source": [
    "regarder le doc qui n'a pas de compagny et d'adress"
   ]
  },
  {
   "cell_type": "code",
   "execution_count": 62,
   "metadata": {},
   "outputs": [
    {
     "name": "stdout",
     "output_type": "stream",
     "text": [
      "Documents sans entités d'adresse: {'X51005663280'}\n"
     ]
    }
   ],
   "source": [
    "# Identifier les documents qui contiennent des entités d'adresse ('B-address' ou 'I-address')\n",
    "docs_with_address = set(bio_df[bio_df['entity'].isin(['B-address', 'I-address'])]['doc'].unique())\n",
    "# Trouver tous les documents uniques dans le DataFrame\n",
    "all_docs = set(bio_df['doc'].unique())\n",
    "\n",
    "# Identifier les documents sans entités d'adresse\n",
    "docs_without_address = all_docs - docs_with_address\n",
    "\n",
    "# Afficher les documents sans entités d'adresse\n",
    "print(\"Documents sans entités d'adresse:\", docs_without_address)"
   ]
  },
  {
   "cell_type": "markdown",
   "metadata": {},
   "source": [
    "le drop"
   ]
  },
  {
   "cell_type": "code",
   "execution_count": 63,
   "metadata": {},
   "outputs": [],
   "source": [
    "# Filtrer le DataFrame pour exclure les lignes où 'doc' est 'X51005663280'\n",
    "bio_df = bio_df[bio_df['doc'] != 'X51005663280']"
   ]
  },
  {
   "cell_type": "code",
   "execution_count": 64,
   "metadata": {},
   "outputs": [
    {
     "name": "stdout",
     "output_type": "stream",
     "text": [
      "entity\n",
      "I-address    8610\n",
      "I-company    3531\n",
      "B-company     934\n",
      "B-address     934\n",
      "B-date        934\n",
      "B-total       934\n",
      "I-date        149\n",
      "Name: count, dtype: int64\n"
     ]
    },
    {
     "data": {
      "image/png": "[encoded data removed]",
      "text/plain": [
       "<Figure size 640x480 with 1 Axes>"
      ]
     },
     "metadata": {},
     "output_type": "display_data"
    }
   ],
   "source": [
    "check_entities(bio_df)"
   ]
  },
  {
   "cell_type": "markdown",
   "metadata": {},
   "source": [
    "# Save df "
   ]
  },
  {
   "cell_type": "code",
   "execution_count": 65,
   "metadata": {},
   "outputs": [],
   "source": [
    "bio_df.to_csv('/home/e077926/buscode_2023/05_E2_tata/data/cleaned_raw_bbox_df.csv')"
   ]
  }
 ],
 "metadata": {
  "kernelspec": {
   "display_name": "tata_env",
   "language": "python",
   "name": "python3"
  },
  "language_info": {
   "codemirror_mode": {
    "name": "ipython",
    "version": 3
   },
   "file_extension": ".py",
   "mimetype": "text/x-python",
   "name": "python",
   "nbconvert_exporter": "python",
   "pygments_lexer": "ipython3",
   "version": "3.10.12"
  }
 },
 "nbformat": 4,
 "nbformat_minor": 2
}
