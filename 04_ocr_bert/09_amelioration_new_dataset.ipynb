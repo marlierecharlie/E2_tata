{
  "cells": [
    {
      "cell_type": "markdown",
      "metadata": {},
      "source": [
        "https://github.com/oya163/bert-llm/blob/master/CyberSecurityNER/cyber_security_ner.ipynb"
      ]
    },
    {
      "cell_type": "markdown",
      "metadata": {},
      "source": [
        "# Load modules"
      ]
    },
    {
      "cell_type": "code",
      "execution_count": 1,
      "metadata": {},
      "outputs": [
        {
          "name": "stderr",
          "output_type": "stream",
          "text": [
            "/anaconda/envs/e2_env/lib/python3.10/site-packages/tqdm/auto.py:21: TqdmWarning: IProgress not found. Please update jupyter and ipywidgets. See https://ipywidgets.readthedocs.io/en/stable/user_install.html\n",
            "  from .autonotebook import tqdm as notebook_tqdm\n"
          ]
        }
      ],
      "source": [
        "from sklearn.preprocessing import LabelEncoder\n",
        "from transformers import TrainingArguments, Trainer, EarlyStoppingCallback\n",
        "import pandas as pd\n",
        "from sklearn.metrics import confusion_matrix\n",
        "import numpy as np\n",
        "import matplotlib.pyplot as plt\n",
        "from matplotlib.ticker import MaxNLocator\n",
        "import seaborn as sns\n",
        "from transformers import pipeline\n",
        "# from seqeval.metrics import classification_report"
      ]
    },
    {
      "cell_type": "markdown",
      "metadata": {},
      "source": [
        "# 01 Load my data"
      ]
    },
    {
      "cell_type": "code",
      "execution_count": 2,
      "metadata": {},
      "outputs": [
        {
          "data": {
            "text/html": [
              "<div>\n",
              "<style scoped>\n",
              "    .dataframe tbody tr th:only-of-type {\n",
              "        vertical-align: middle;\n",
              "    }\n",
              "\n",
              "    .dataframe tbody tr th {\n",
              "        vertical-align: top;\n",
              "    }\n",
              "\n",
              "    .dataframe thead th {\n",
              "        text-align: right;\n",
              "    }\n",
              "</style>\n",
              "<table border=\"1\" class=\"dataframe\">\n",
              "  <thead>\n",
              "    <tr style=\"text-align: right;\">\n",
              "      <th></th>\n",
              "      <th>doc</th>\n",
              "      <th>line_id</th>\n",
              "      <th>value</th>\n",
              "      <th>entity</th>\n",
              "    </tr>\n",
              "  </thead>\n",
              "  <tbody>\n",
              "    <tr>\n",
              "      <th>0</th>\n",
              "      <td>X00016469612</td>\n",
              "      <td>1</td>\n",
              "      <td>TAN</td>\n",
              "      <td>O</td>\n",
              "    </tr>\n",
              "    <tr>\n",
              "      <th>1</th>\n",
              "      <td>X00016469612</td>\n",
              "      <td>1</td>\n",
              "      <td>WOON</td>\n",
              "      <td>O</td>\n",
              "    </tr>\n",
              "    <tr>\n",
              "      <th>2</th>\n",
              "      <td>X00016469612</td>\n",
              "      <td>1</td>\n",
              "      <td>YANN</td>\n",
              "      <td>O</td>\n",
              "    </tr>\n",
              "    <tr>\n",
              "      <th>3</th>\n",
              "      <td>X00016469612</td>\n",
              "      <td>2</td>\n",
              "      <td>BOOK</td>\n",
              "      <td>company-B</td>\n",
              "    </tr>\n",
              "    <tr>\n",
              "      <th>4</th>\n",
              "      <td>X00016469612</td>\n",
              "      <td>2</td>\n",
              "      <td>TA</td>\n",
              "      <td>company-I</td>\n",
              "    </tr>\n",
              "  </tbody>\n",
              "</table>\n",
              "</div>"
            ],
            "text/plain": [
              "            doc  line_id value     entity\n",
              "0  X00016469612        1   TAN          O\n",
              "1  X00016469612        1  WOON          O\n",
              "2  X00016469612        1  YANN          O\n",
              "3  X00016469612        2  BOOK  company-B\n",
              "4  X00016469612        2    TA  company-I"
            ]
          },
          "execution_count": 2,
          "metadata": {},
          "output_type": "execute_result"
        }
      ],
      "source": [
        "df=pd.read_csv('/bio_from_bbox_df.csv')\n",
        "df.drop(columns=['Unnamed: 0'], inplace=True)\n",
        "df.head()"
      ]
    },
    {
      "cell_type": "markdown",
      "metadata": {},
      "source": [
        "## Change entity labels"
      ]
    },
    {
      "cell_type": "code",
      "execution_count": 3,
      "metadata": {},
      "outputs": [],
      "source": [
        "entity_list=df['entity'].unique().tolist()"
      ]
    },
    {
      "cell_type": "code",
      "execution_count": 4,
      "metadata": {},
      "outputs": [
        {
          "data": {
            "text/plain": [
              "['O',\n",
              " 'company-B',\n",
              " 'company-I',\n",
              " 'address-B',\n",
              " 'address-I',\n",
              " 'date-B',\n",
              " 'total-B',\n",
              " 'total-I',\n",
              " 'date-I']"
            ]
          },
          "execution_count": 4,
          "metadata": {},
          "output_type": "execute_result"
        }
      ],
      "source": [
        "entity_list"
      ]
    },
    {
      "cell_type": "code",
      "execution_count": 5,
      "metadata": {},
      "outputs": [
        {
          "data": {
            "text/html": [
              "<div>\n",
              "<style scoped>\n",
              "    .dataframe tbody tr th:only-of-type {\n",
              "        vertical-align: middle;\n",
              "    }\n",
              "\n",
              "    .dataframe tbody tr th {\n",
              "        vertical-align: top;\n",
              "    }\n",
              "\n",
              "    .dataframe thead th {\n",
              "        text-align: right;\n",
              "    }\n",
              "</style>\n",
              "<table border=\"1\" class=\"dataframe\">\n",
              "  <thead>\n",
              "    <tr style=\"text-align: right;\">\n",
              "      <th></th>\n",
              "      <th>doc</th>\n",
              "      <th>line_id</th>\n",
              "      <th>value</th>\n",
              "      <th>entity</th>\n",
              "    </tr>\n",
              "  </thead>\n",
              "  <tbody>\n",
              "    <tr>\n",
              "      <th>0</th>\n",
              "      <td>X00016469612</td>\n",
              "      <td>1</td>\n",
              "      <td>TAN</td>\n",
              "      <td>O</td>\n",
              "    </tr>\n",
              "    <tr>\n",
              "      <th>1</th>\n",
              "      <td>X00016469612</td>\n",
              "      <td>1</td>\n",
              "      <td>WOON</td>\n",
              "      <td>O</td>\n",
              "    </tr>\n",
              "    <tr>\n",
              "      <th>2</th>\n",
              "      <td>X00016469612</td>\n",
              "      <td>1</td>\n",
              "      <td>YANN</td>\n",
              "      <td>O</td>\n",
              "    </tr>\n",
              "    <tr>\n",
              "      <th>3</th>\n",
              "      <td>X00016469612</td>\n",
              "      <td>2</td>\n",
              "      <td>BOOK</td>\n",
              "      <td>B-company</td>\n",
              "    </tr>\n",
              "    <tr>\n",
              "      <th>4</th>\n",
              "      <td>X00016469612</td>\n",
              "      <td>2</td>\n",
              "      <td>TA</td>\n",
              "      <td>I-company</td>\n",
              "    </tr>\n",
              "  </tbody>\n",
              "</table>\n",
              "</div>"
            ],
            "text/plain": [
              "            doc  line_id value     entity\n",
              "0  X00016469612        1   TAN          O\n",
              "1  X00016469612        1  WOON          O\n",
              "2  X00016469612        1  YANN          O\n",
              "3  X00016469612        2  BOOK  B-company\n",
              "4  X00016469612        2    TA  I-company"
            ]
          },
          "execution_count": 5,
          "metadata": {},
          "output_type": "execute_result"
        }
      ],
      "source": [
        "entity_list=df['entity'].unique().tolist()\n",
        "new_entity_list=['O','B-company','I-company','B-address','I-address','B-date','B-total','I-total','I-date']\n",
        "\n",
        "df['entity']=df['entity'].replace(entity_list, new_entity_list)\n",
        "df.head()"
      ]
    },
    {
      "cell_type": "code",
      "execution_count": 6,
      "metadata": {},
      "outputs": [],
      "source": [
        "label_list = ['O','B-company','I-company','B-address','I-address','B-date', 'I-date','B-total','I-total']"
      ]
    },
    {
      "cell_type": "markdown",
      "metadata": {},
      "source": [
        "# Encode lines"
      ]
    },
    {
      "cell_type": "code",
      "execution_count": 7,
      "metadata": {},
      "outputs": [],
      "source": [
        "df['sentence_id'] = df['doc'] + df['line_id'].astype(str)\n",
        "df[\"sentence_id\"] = LabelEncoder().fit_transform(df[\"sentence_id\"] )"
      ]
    },
    {
      "cell_type": "markdown",
      "metadata": {},
      "source": [
        "## Add ner_tags"
      ]
    },
    {
      "cell_type": "code",
      "execution_count": 8,
      "metadata": {},
      "outputs": [
        {
          "name": "stderr",
          "output_type": "stream",
          "text": [
            "/tmp/ipykernel_51916/632884496.py:3: FutureWarning: Downcasting behavior in `replace` is deprecated and will be removed in a future version. To retain the old behavior, explicitly call `result.infer_objects(copy=False)`. To opt-in to the future behavior, set `pd.set_option('future.no_silent_downcasting', True)`\n",
            "  df['ner_tag']=df['entity'].replace(new_entity_list, ner_tag)\n"
          ]
        },
        {
          "data": {
            "text/html": [
              "<div>\n",
              "<style scoped>\n",
              "    .dataframe tbody tr th:only-of-type {\n",
              "        vertical-align: middle;\n",
              "    }\n",
              "\n",
              "    .dataframe tbody tr th {\n",
              "        vertical-align: top;\n",
              "    }\n",
              "\n",
              "    .dataframe thead th {\n",
              "        text-align: right;\n",
              "    }\n",
              "</style>\n",
              "<table border=\"1\" class=\"dataframe\">\n",
              "  <thead>\n",
              "    <tr style=\"text-align: right;\">\n",
              "      <th></th>\n",
              "      <th>doc</th>\n",
              "      <th>line_id</th>\n",
              "      <th>value</th>\n",
              "      <th>entity</th>\n",
              "      <th>sentence_id</th>\n",
              "      <th>ner_tag</th>\n",
              "    </tr>\n",
              "  </thead>\n",
              "  <tbody>\n",
              "    <tr>\n",
              "      <th>0</th>\n",
              "      <td>X00016469612</td>\n",
              "      <td>1</td>\n",
              "      <td>TAN</td>\n",
              "      <td>O</td>\n",
              "      <td>0</td>\n",
              "      <td>0</td>\n",
              "    </tr>\n",
              "    <tr>\n",
              "      <th>1</th>\n",
              "      <td>X00016469612</td>\n",
              "      <td>1</td>\n",
              "      <td>WOON</td>\n",
              "      <td>O</td>\n",
              "      <td>0</td>\n",
              "      <td>0</td>\n",
              "    </tr>\n",
              "    <tr>\n",
              "      <th>2</th>\n",
              "      <td>X00016469612</td>\n",
              "      <td>1</td>\n",
              "      <td>YANN</td>\n",
              "      <td>O</td>\n",
              "      <td>0</td>\n",
              "      <td>0</td>\n",
              "    </tr>\n",
              "    <tr>\n",
              "      <th>3</th>\n",
              "      <td>X00016469612</td>\n",
              "      <td>2</td>\n",
              "      <td>BOOK</td>\n",
              "      <td>B-company</td>\n",
              "      <td>11</td>\n",
              "      <td>1</td>\n",
              "    </tr>\n",
              "    <tr>\n",
              "      <th>4</th>\n",
              "      <td>X00016469612</td>\n",
              "      <td>2</td>\n",
              "      <td>TA</td>\n",
              "      <td>I-company</td>\n",
              "      <td>11</td>\n",
              "      <td>2</td>\n",
              "    </tr>\n",
              "  </tbody>\n",
              "</table>\n",
              "</div>"
            ],
            "text/plain": [
              "            doc  line_id value     entity  sentence_id  ner_tag\n",
              "0  X00016469612        1   TAN          O            0        0\n",
              "1  X00016469612        1  WOON          O            0        0\n",
              "2  X00016469612        1  YANN          O            0        0\n",
              "3  X00016469612        2  BOOK  B-company           11        1\n",
              "4  X00016469612        2    TA  I-company           11        2"
            ]
          },
          "execution_count": 8,
          "metadata": {},
          "output_type": "execute_result"
        }
      ],
      "source": [
        "ner_tag = list(range(0,9))\n",
        "\n",
        "df['ner_tag']=df['entity'].replace(new_entity_list, ner_tag)\n",
        "df.head()"
      ]
    },
    {
      "cell_type": "code",
      "execution_count": 9,
      "metadata": {},
      "outputs": [
        {
          "data": {
            "text/html": [
              "<div>\n",
              "<style scoped>\n",
              "    .dataframe tbody tr th:only-of-type {\n",
              "        vertical-align: middle;\n",
              "    }\n",
              "\n",
              "    .dataframe tbody tr th {\n",
              "        vertical-align: top;\n",
              "    }\n",
              "\n",
              "    .dataframe thead th {\n",
              "        text-align: right;\n",
              "    }\n",
              "</style>\n",
              "<table border=\"1\" class=\"dataframe\">\n",
              "  <thead>\n",
              "    <tr style=\"text-align: right;\">\n",
              "      <th></th>\n",
              "      <th>sentence_id</th>\n",
              "      <th>tokens</th>\n",
              "      <th>labels</th>\n",
              "      <th>ner_tags</th>\n",
              "    </tr>\n",
              "  </thead>\n",
              "  <tbody>\n",
              "    <tr>\n",
              "      <th>0</th>\n",
              "      <td>0</td>\n",
              "      <td>TAN</td>\n",
              "      <td>O</td>\n",
              "      <td>0</td>\n",
              "    </tr>\n",
              "    <tr>\n",
              "      <th>1</th>\n",
              "      <td>0</td>\n",
              "      <td>WOON</td>\n",
              "      <td>O</td>\n",
              "      <td>0</td>\n",
              "    </tr>\n",
              "    <tr>\n",
              "      <th>2</th>\n",
              "      <td>0</td>\n",
              "      <td>YANN</td>\n",
              "      <td>O</td>\n",
              "      <td>0</td>\n",
              "    </tr>\n",
              "    <tr>\n",
              "      <th>3</th>\n",
              "      <td>11</td>\n",
              "      <td>BOOK</td>\n",
              "      <td>B-company</td>\n",
              "      <td>1</td>\n",
              "    </tr>\n",
              "    <tr>\n",
              "      <th>4</th>\n",
              "      <td>11</td>\n",
              "      <td>TA</td>\n",
              "      <td>I-company</td>\n",
              "      <td>2</td>\n",
              "    </tr>\n",
              "  </tbody>\n",
              "</table>\n",
              "</div>"
            ],
            "text/plain": [
              "   sentence_id tokens     labels  ner_tags\n",
              "0            0    TAN          O         0\n",
              "1            0   WOON          O         0\n",
              "2            0   YANN          O         0\n",
              "3           11   BOOK  B-company         1\n",
              "4           11     TA  I-company         2"
            ]
          },
          "execution_count": 9,
          "metadata": {},
          "output_type": "execute_result"
        }
      ],
      "source": [
        "df['doc']=df['doc'].astype(str)\n",
        "df['sentence_id']=df['sentence_id'].astype(int)\n",
        "df['tokens']=df['value'].astype(str)\n",
        "df['ner_tags']=df['ner_tag'].astype(int)\n",
        "df['labels']=df['entity'].astype(str)\n",
        "\n",
        "df=df[[\"sentence_id\", \"tokens\", \"labels\", \"ner_tags\"]]\n",
        "\n",
        "df.head()"
      ]
    },
    {
      "cell_type": "markdown",
      "metadata": {},
      "source": [
        "# Create dataset df"
      ]
    },
    {
      "cell_type": "code",
      "execution_count": 10,
      "metadata": {},
      "outputs": [],
      "source": [
        "# Réorganiser les données\n",
        "grouped_df = df.groupby('sentence_id').agg({\n",
        "    'tokens': list,\n",
        "    'labels': list,\n",
        "    'ner_tags': list,\n",
        "}).reset_index()\n",
        "\n",
        "# Renommer la colonne id\n",
        "grouped_df.rename(columns={'id': 'sentence_id'}, inplace=True)"
      ]
    },
    {
      "cell_type": "code",
      "execution_count": 11,
      "metadata": {},
      "outputs": [
        {
          "data": {
            "text/html": [
              "<div>\n",
              "<style scoped>\n",
              "    .dataframe tbody tr th:only-of-type {\n",
              "        vertical-align: middle;\n",
              "    }\n",
              "\n",
              "    .dataframe tbody tr th {\n",
              "        vertical-align: top;\n",
              "    }\n",
              "\n",
              "    .dataframe thead th {\n",
              "        text-align: right;\n",
              "    }\n",
              "</style>\n",
              "<table border=\"1\" class=\"dataframe\">\n",
              "  <thead>\n",
              "    <tr style=\"text-align: right;\">\n",
              "      <th></th>\n",
              "      <th>sentence_id</th>\n",
              "      <th>tokens</th>\n",
              "      <th>labels</th>\n",
              "      <th>ner_tags</th>\n",
              "    </tr>\n",
              "  </thead>\n",
              "  <tbody>\n",
              "    <tr>\n",
              "      <th>0</th>\n",
              "      <td>0</td>\n",
              "      <td>[TAN, WOON, YANN]</td>\n",
              "      <td>[O, O, O]</td>\n",
              "      <td>[0, 0, 0]</td>\n",
              "    </tr>\n",
              "    <tr>\n",
              "      <th>1</th>\n",
              "      <td>1</td>\n",
              "      <td>[25/12/2018, 8:13:39, PM]</td>\n",
              "      <td>[B-date, O, O]</td>\n",
              "      <td>[5, 0, 0]</td>\n",
              "    </tr>\n",
              "    <tr>\n",
              "      <th>2</th>\n",
              "      <td>2</td>\n",
              "      <td>[CASHIER:]</td>\n",
              "      <td>[O]</td>\n",
              "      <td>[0]</td>\n",
              "    </tr>\n",
              "    <tr>\n",
              "      <th>3</th>\n",
              "      <td>3</td>\n",
              "      <td>[MANIS]</td>\n",
              "      <td>[O]</td>\n",
              "      <td>[0]</td>\n",
              "    </tr>\n",
              "    <tr>\n",
              "      <th>4</th>\n",
              "      <td>4</td>\n",
              "      <td>[MEMBER:]</td>\n",
              "      <td>[O]</td>\n",
              "      <td>[0]</td>\n",
              "    </tr>\n",
              "  </tbody>\n",
              "</table>\n",
              "</div>"
            ],
            "text/plain": [
              "   sentence_id                     tokens          labels   ner_tags\n",
              "0            0          [TAN, WOON, YANN]       [O, O, O]  [0, 0, 0]\n",
              "1            1  [25/12/2018, 8:13:39, PM]  [B-date, O, O]  [5, 0, 0]\n",
              "2            2                 [CASHIER:]             [O]        [0]\n",
              "3            3                    [MANIS]             [O]        [0]\n",
              "4            4                  [MEMBER:]             [O]        [0]"
            ]
          },
          "execution_count": 11,
          "metadata": {},
          "output_type": "execute_result"
        }
      ],
      "source": [
        "grouped_df.head()"
      ]
    },
    {
      "cell_type": "code",
      "execution_count": 12,
      "metadata": {},
      "outputs": [],
      "source": [
        "grouped_df.to_csv('/home/azureuser/cloudfiles/code/Users/charlie.marliere/E2/data/training_from_bbox_df')"
      ]
    },
    {
      "cell_type": "markdown",
      "metadata": {},
      "source": [
        "# Split"
      ]
    },
    {
      "cell_type": "code",
      "execution_count": 13,
      "metadata": {},
      "outputs": [],
      "source": [
        "from sklearn.model_selection import train_test_split\n",
        "train_df, test_val_df = train_test_split(grouped_df, test_size=0.3)\n",
        "test_df, eval_df = train_test_split(test_val_df, test_size=0.5)"
      ]
    },
    {
      "cell_type": "code",
      "execution_count": 14,
      "metadata": {},
      "outputs": [],
      "source": [
        "from datasets import Dataset\n",
        "\n",
        "# En supposant que train_df est un DataFrame pandas avec les colonnes \"words\" et \"ner_tags\"\n",
        "train_dataset = Dataset.from_pandas(train_df)\n",
        "test_dataset=Dataset.from_pandas(test_df)\n",
        "eval_dataset = Dataset.from_pandas(eval_df)"
      ]
    },
    {
      "cell_type": "code",
      "execution_count": 15,
      "metadata": {},
      "outputs": [
        {
          "data": {
            "text/html": [
              "<div>\n",
              "<style scoped>\n",
              "    .dataframe tbody tr th:only-of-type {\n",
              "        vertical-align: middle;\n",
              "    }\n",
              "\n",
              "    .dataframe tbody tr th {\n",
              "        vertical-align: top;\n",
              "    }\n",
              "\n",
              "    .dataframe thead th {\n",
              "        text-align: right;\n",
              "    }\n",
              "</style>\n",
              "<table border=\"1\" class=\"dataframe\">\n",
              "  <thead>\n",
              "    <tr style=\"text-align: right;\">\n",
              "      <th></th>\n",
              "      <th>sentence_id</th>\n",
              "      <th>tokens</th>\n",
              "      <th>labels</th>\n",
              "      <th>ner_tags</th>\n",
              "    </tr>\n",
              "  </thead>\n",
              "  <tbody>\n",
              "    <tr>\n",
              "      <th>1199</th>\n",
              "      <td>1199</td>\n",
              "      <td>[SYL, ROASTED, DELIGHTS, SDN., BHD.]</td>\n",
              "      <td>[B-company, I-company, I-company, I-company, I...</td>\n",
              "      <td>[1, 2, 2, 2, 2]</td>\n",
              "    </tr>\n",
              "    <tr>\n",
              "      <th>7259</th>\n",
              "      <td>7259</td>\n",
              "      <td>[0.30]</td>\n",
              "      <td>[O]</td>\n",
              "      <td>[0]</td>\n",
              "    </tr>\n",
              "    <tr>\n",
              "      <th>26878</th>\n",
              "      <td>26878</td>\n",
              "      <td>[1., 2000-0063]</td>\n",
              "      <td>[O, O]</td>\n",
              "      <td>[0, 0]</td>\n",
              "    </tr>\n",
              "    <tr>\n",
              "      <th>11936</th>\n",
              "      <td>11936</td>\n",
              "      <td>[0.01]</td>\n",
              "      <td>[O]</td>\n",
              "      <td>[0]</td>\n",
              "    </tr>\n",
              "    <tr>\n",
              "      <th>17553</th>\n",
              "      <td>17553</td>\n",
              "      <td>[DES]</td>\n",
              "      <td>[O]</td>\n",
              "      <td>[0]</td>\n",
              "    </tr>\n",
              "    <tr>\n",
              "      <th>...</th>\n",
              "      <td>...</td>\n",
              "      <td>...</td>\n",
              "      <td>...</td>\n",
              "      <td>...</td>\n",
              "    </tr>\n",
              "    <tr>\n",
              "      <th>11207</th>\n",
              "      <td>11207</td>\n",
              "      <td>[DOC, NO.]</td>\n",
              "      <td>[O, O]</td>\n",
              "      <td>[0, 0]</td>\n",
              "    </tr>\n",
              "    <tr>\n",
              "      <th>27713</th>\n",
              "      <td>27713</td>\n",
              "      <td>[0.40]</td>\n",
              "      <td>[O]</td>\n",
              "      <td>[0]</td>\n",
              "    </tr>\n",
              "    <tr>\n",
              "      <th>3688</th>\n",
              "      <td>3688</td>\n",
              "      <td>[99, SPEED, MART, S/B, (519537-X)]</td>\n",
              "      <td>[B-company, I-company, I-company, I-company, O]</td>\n",
              "      <td>[1, 2, 2, 2, 0]</td>\n",
              "    </tr>\n",
              "    <tr>\n",
              "      <th>16324</th>\n",
              "      <td>16324</td>\n",
              "      <td>[12/04/2018, 18:18]</td>\n",
              "      <td>[B-date, O]</td>\n",
              "      <td>[5, 0]</td>\n",
              "    </tr>\n",
              "    <tr>\n",
              "      <th>10074</th>\n",
              "      <td>10074</td>\n",
              "      <td>[ROUNDING, ADJUSTMENT, RM]</td>\n",
              "      <td>[O, O, O]</td>\n",
              "      <td>[0, 0, 0]</td>\n",
              "    </tr>\n",
              "  </tbody>\n",
              "</table>\n",
              "<p>23532 rows × 4 columns</p>\n",
              "</div>"
            ],
            "text/plain": [
              "       sentence_id                                tokens  \\\n",
              "1199          1199  [SYL, ROASTED, DELIGHTS, SDN., BHD.]   \n",
              "7259          7259                                [0.30]   \n",
              "26878        26878                       [1., 2000-0063]   \n",
              "11936        11936                                [0.01]   \n",
              "17553        17553                                 [DES]   \n",
              "...            ...                                   ...   \n",
              "11207        11207                            [DOC, NO.]   \n",
              "27713        27713                                [0.40]   \n",
              "3688          3688    [99, SPEED, MART, S/B, (519537-X)]   \n",
              "16324        16324                   [12/04/2018, 18:18]   \n",
              "10074        10074            [ROUNDING, ADJUSTMENT, RM]   \n",
              "\n",
              "                                                  labels         ner_tags  \n",
              "1199   [B-company, I-company, I-company, I-company, I...  [1, 2, 2, 2, 2]  \n",
              "7259                                                 [O]              [0]  \n",
              "26878                                             [O, O]           [0, 0]  \n",
              "11936                                                [O]              [0]  \n",
              "17553                                                [O]              [0]  \n",
              "...                                                  ...              ...  \n",
              "11207                                             [O, O]           [0, 0]  \n",
              "27713                                                [O]              [0]  \n",
              "3688     [B-company, I-company, I-company, I-company, O]  [1, 2, 2, 2, 0]  \n",
              "16324                                        [B-date, O]           [5, 0]  \n",
              "10074                                          [O, O, O]        [0, 0, 0]  \n",
              "\n",
              "[23532 rows x 4 columns]"
            ]
          },
          "execution_count": 15,
          "metadata": {},
          "output_type": "execute_result"
        }
      ],
      "source": [
        "train_df"
      ]
    },
    {
      "cell_type": "code",
      "execution_count": 16,
      "metadata": {},
      "outputs": [
        {
          "data": {
            "text/plain": [
              "{'sentence_id': 1199,\n",
              " 'tokens': ['SYL', 'ROASTED', 'DELIGHTS', 'SDN.', 'BHD.'],\n",
              " 'labels': ['B-company', 'I-company', 'I-company', 'I-company', 'I-company'],\n",
              " 'ner_tags': [1, 2, 2, 2, 2],\n",
              " '__index_level_0__': 1199}"
            ]
          },
          "execution_count": 16,
          "metadata": {},
          "output_type": "execute_result"
        }
      ],
      "source": [
        "train_dataset[0]"
      ]
    },
    {
      "cell_type": "code",
      "execution_count": 17,
      "metadata": {},
      "outputs": [
        {
          "data": {
            "text/plain": [
              "{'sentence_id': 8492,\n",
              " 'tokens': ['GST', 'SUMMARY'],\n",
              " 'labels': ['O', 'O'],\n",
              " 'ner_tags': [0, 0],\n",
              " '__index_level_0__': 8492}"
            ]
          },
          "execution_count": 17,
          "metadata": {},
          "output_type": "execute_result"
        }
      ],
      "source": [
        "eval_dataset[0]"
      ]
    },
    {
      "cell_type": "code",
      "execution_count": 18,
      "metadata": {},
      "outputs": [
        {
          "data": {
            "text/plain": [
              "{'sentence_id': 26006,\n",
              " 'tokens': ['TOTAL'],\n",
              " 'labels': ['O'],\n",
              " 'ner_tags': [0],\n",
              " '__index_level_0__': 26006}"
            ]
          },
          "execution_count": 18,
          "metadata": {},
          "output_type": "execute_result"
        }
      ],
      "source": [
        "test_dataset[100]"
      ]
    },
    {
      "cell_type": "markdown",
      "metadata": {},
      "source": [
        "# Tokenization"
      ]
    },
    {
      "cell_type": "code",
      "execution_count": 19,
      "metadata": {},
      "outputs": [],
      "source": [
        "from transformers import AutoTokenizer\n",
        "model_checkpoint =\"dslim/bert-base-NER\"\n",
        "tokenizer = AutoTokenizer.from_pretrained(model_checkpoint)"
      ]
    },
    {
      "cell_type": "code",
      "execution_count": 20,
      "metadata": {},
      "outputs": [],
      "source": [
        "#  Align the number of labels and the tokens\n",
        "def align_labels_with_tokens(labels, word_ids):\n",
        "    new_labels = []\n",
        "    current_word = None\n",
        "    for word_id in word_ids:\n",
        "        if word_id != current_word:\n",
        "            # Start of a new word!\n",
        "            current_word = word_id\n",
        "            label = -100 if word_id is None else labels[word_id]\n",
        "            new_labels.append(label)\n",
        "        elif word_id is None:\n",
        "            # Special token\n",
        "            new_labels.append(-100)\n",
        "        else:\n",
        "            # Same word as previous token\n",
        "            label = labels[word_id]\n",
        "            # If the label is B-XXX we change it to I-XXX\n",
        "            if label % 2 == 1:\n",
        "                label += 1\n",
        "            new_labels.append(label)\n",
        "\n",
        "    return new_labels"
      ]
    },
    {
      "cell_type": "code",
      "execution_count": 21,
      "metadata": {},
      "outputs": [],
      "source": [
        "\n",
        "def tokenize_and_align_labels(examples):\n",
        "    tokenized_inputs = tokenizer(\n",
        "        examples[\"tokens\"], truncation=True, is_split_into_words=True\n",
        "    )\n",
        "    all_labels = examples[\"ner_tags\"]\n",
        "    new_labels = []\n",
        "    for i, labels in enumerate(all_labels):\n",
        "        word_ids = tokenized_inputs.word_ids(i)\n",
        "        new_labels.append(align_labels_with_tokens(labels, word_ids))\n",
        "\n",
        "    tokenized_inputs[\"labels\"] = new_labels\n",
        "    return tokenized_inputs"
      ]
    },
    {
      "cell_type": "code",
      "execution_count": 22,
      "metadata": {},
      "outputs": [
        {
          "name": "stderr",
          "output_type": "stream",
          "text": [
            "Map:  85%|███████████████████████████████████████████████████████████████████████████████████████████████████████████████████████████████████████████████████████████████████████████████████████████████████████████████████████████████████████████████████████████████████████████████████████████████████████████████████████████████████████████████████████████████████████████████████████████████████████████████████████████████████████████████████████████████████████████████████████████████████████████████████████████████████████████████████████████████████████████████████████████████████████████████████████████████████████████████████████████████████████████████████████████████████████████████████████████████████████████████████████████████████████████████████████████████████████████████████████████████▊                                                                                                                                             | 20000/23532 [00:00<00:00, 39883.86 examples/s]"
          ]
        },
        {
          "name": "stderr",
          "output_type": "stream",
          "text": [
            "Map: 100%|█████████████████████████████████████████████████████████████████████████████████████████████████████████████████████████████████████████████████████████████████████████████████████████████████████████████████████████████████████████████████████████████████████████████████████████████████████████████████████████████████████████████████████████████████████████████████████████████████████████████████████████████████████████████████████████████████████████████████████████████████████████████████████████████████████████████████████████████████████████████████████████████████████████████████████████████████████████████████████████████████████████████████████████████████████████████████████████████████████████████████████████████████████████████████████████████████████████████████████████████████████████████████████████████████████████████████████████████████████████████████████████████████████████████████████████████████████████████| 23532/23532 [00:00<00:00, 40829.93 examples/s]\n"
          ]
        }
      ],
      "source": [
        "# Tokenizer tous les exemples du dataset\n",
        "tokenized_datasets_train = train_dataset.map(\n",
        "    tokenize_and_align_labels,\n",
        "    batched=True,\n",
        ")"
      ]
    },
    {
      "cell_type": "code",
      "execution_count": 23,
      "metadata": {},
      "outputs": [
        {
          "name": "stderr",
          "output_type": "stream",
          "text": [
            "Map: 100%|███████████████████████████████████████████████████████████████████████████████████████████████████████████████████████████████████████████████████████████████████████████████████████████████████████████████████████████████████████████████████████████████████████████████████████████████████████████████████████████████████████████████████████████████████████████████████████████████████████████████████████████████████████████████████████████████████████████████████████████████████████████████████████████████████████████████████████████████████████████████████████████████████████████████████████████████████████████████████████████████████████████████████████████████████████████████████████████████████████████████████████████████████████████████████████████████████████████████████████████████████████████████████████████████████████████████████████████████████████████████████████████████████████████████████████████████████████████████| 5043/5043 [00:00<00:00, 47285.36 examples/s]\n"
          ]
        }
      ],
      "source": [
        "# Tokenizer tous les exemples du dataset\n",
        "tokenized_datasets_eval = eval_dataset.map(\n",
        "    tokenize_and_align_labels,\n",
        "    batched=True,\n",
        ")"
      ]
    },
    {
      "cell_type": "code",
      "execution_count": 24,
      "metadata": {},
      "outputs": [
        {
          "name": "stderr",
          "output_type": "stream",
          "text": [
            "Map: 100%|███████████████████████████████████████████████████████████████████████████████████████████████████████████████████████████████████████████████████████████████████████████████████████████████████████████████████████████████████████████████████████████████████████████████████████████████████████████████████████████████████████████████████████████████████████████████████████████████████████████████████████████████████████████████████████████████████████████████████████████████████████████████████████████████████████████████████████████████████████████████████████████████████████████████████████████████████████████████████████████████████████████████████████████████████████████████████████████████████████████████████████████████████████████████████████████████████████████████████████████████████████████████████████████████████████████████████████████████████████████████████████████████████████████████████████████████████████████████| 5043/5043 [00:00<00:00, 22485.15 examples/s]\n"
          ]
        }
      ],
      "source": [
        "# Tokenizer tous les exemples du dataset\n",
        "tokenized_datasets_test= test_dataset.map(\n",
        "    tokenize_and_align_labels,\n",
        "    batched=True,\n",
        ")"
      ]
    },
    {
      "cell_type": "markdown",
      "metadata": {},
      "source": [
        "# Fine Tuning"
      ]
    },
    {
      "cell_type": "markdown",
      "metadata": {},
      "source": [
        "## Data Collator"
      ]
    },
    {
      "cell_type": "code",
      "execution_count": 25,
      "metadata": {},
      "outputs": [],
      "source": [
        "from transformers import DataCollatorForTokenClassification\n",
        "\n",
        "data_collator = DataCollatorForTokenClassification(tokenizer=tokenizer)"
      ]
    },
    {
      "cell_type": "markdown",
      "metadata": {},
      "source": [
        "## Setup Evaluation"
      ]
    },
    {
      "cell_type": "code",
      "execution_count": 26,
      "metadata": {},
      "outputs": [],
      "source": [
        "import evaluate\n",
        "import numpy as np\n",
        "\n",
        "metric = evaluate.load(\"seqeval\")\n",
        "\n",
        "\n",
        "def compute_metrics(eval_preds):\n",
        "    logits, labels = eval_preds\n",
        "    predictions = np.argmax(logits, axis=-1)\n",
        "\n",
        "    # Remove ignored index (special tokens) and convert to labels\n",
        "    true_labels = [[new_entity_list[l] for l in label if l != -100] for label in labels]\n",
        "    true_predictions = [\n",
        "        [new_entity_list[p] for (p, l) in zip(prediction, label) if l != -100]\n",
        "        for prediction, label in zip(predictions, labels)\n",
        "    ]\n",
        "    all_metrics = metric.compute(predictions=true_predictions, references=true_labels)\n",
        "    return {\n",
        "        \"precision\": all_metrics[\"overall_precision\"],\n",
        "        \"recall\": all_metrics[\"overall_recall\"],\n",
        "        \"f1\": all_metrics[\"overall_f1\"],\n",
        "        \"accuracy\": all_metrics[\"overall_accuracy\"],\n",
        "    }"
      ]
    },
    {
      "cell_type": "code",
      "execution_count": 27,
      "metadata": {},
      "outputs": [],
      "source": [
        "id2label = {i: label for i, label in enumerate(label_list)}\n",
        "label2id = {v: k for k, v in id2label.items()}"
      ]
    },
    {
      "cell_type": "code",
      "execution_count": 28,
      "metadata": {},
      "outputs": [
        {
          "data": {
            "text/plain": [
              "{0: 'O',\n",
              " 1: 'B-company',\n",
              " 2: 'I-company',\n",
              " 3: 'B-address',\n",
              " 4: 'I-address',\n",
              " 5: 'B-date',\n",
              " 6: 'I-date',\n",
              " 7: 'B-total',\n",
              " 8: 'I-total'}"
            ]
          },
          "execution_count": 28,
          "metadata": {},
          "output_type": "execute_result"
        }
      ],
      "source": [
        "id2label"
      ]
    },
    {
      "cell_type": "code",
      "execution_count": 29,
      "metadata": {},
      "outputs": [
        {
          "data": {
            "text/plain": [
              "{'O': 0,\n",
              " 'B-company': 1,\n",
              " 'I-company': 2,\n",
              " 'B-address': 3,\n",
              " 'I-address': 4,\n",
              " 'B-date': 5,\n",
              " 'I-date': 6,\n",
              " 'B-total': 7,\n",
              " 'I-total': 8}"
            ]
          },
          "execution_count": 29,
          "metadata": {},
          "output_type": "execute_result"
        }
      ],
      "source": [
        "label2id"
      ]
    },
    {
      "cell_type": "code",
      "execution_count": 30,
      "metadata": {},
      "outputs": [],
      "source": [
        "from transformers import AutoModelForTokenClassification\n",
        "\n",
        "model = AutoModelForTokenClassification.from_pretrained(\n",
        "    model_checkpoint,\n",
        "    id2label=id2label,\n",
        "    label2id=label2id,\n",
        ")"
      ]
    },
    {
      "cell_type": "code",
      "execution_count": 31,
      "metadata": {},
      "outputs": [
        {
          "data": {
            "text/plain": [
              "9"
            ]
          },
          "execution_count": 31,
          "metadata": {},
          "output_type": "execute_result"
        }
      ],
      "source": [
        "model.config.num_labels"
      ]
    },
    {
      "cell_type": "markdown",
      "metadata": {},
      "source": [
        "# Look at tokenized dictionnary"
      ]
    },
    {
      "cell_type": "code",
      "execution_count": 32,
      "metadata": {},
      "outputs": [
        {
          "data": {
            "text/plain": [
              "Dataset({\n",
              "    features: ['sentence_id', 'tokens', 'labels', 'ner_tags', '__index_level_0__', 'input_ids', 'token_type_ids', 'attention_mask'],\n",
              "    num_rows: 23532\n",
              "})"
            ]
          },
          "execution_count": 32,
          "metadata": {},
          "output_type": "execute_result"
        }
      ],
      "source": [
        "tokenized_datasets_train"
      ]
    },
    {
      "cell_type": "code",
      "execution_count": 33,
      "metadata": {},
      "outputs": [
        {
          "data": {
            "text/plain": [
              "Dataset({\n",
              "    features: ['sentence_id', 'tokens', 'labels', 'ner_tags', '__index_level_0__', 'input_ids', 'token_type_ids', 'attention_mask'],\n",
              "    num_rows: 5043\n",
              "})"
            ]
          },
          "execution_count": 33,
          "metadata": {},
          "output_type": "execute_result"
        }
      ],
      "source": [
        "tokenized_datasets_eval"
      ]
    },
    {
      "cell_type": "code",
      "execution_count": 34,
      "metadata": {},
      "outputs": [
        {
          "data": {
            "text/plain": [
              "{'sentence_id': 1199,\n",
              " 'tokens': ['SYL', 'ROASTED', 'DELIGHTS', 'SDN.', 'BHD.'],\n",
              " 'labels': [-100, 1, 2, 2, 2, 2, 2, 2, 2, 2, 2, 2, 2, 2, 2, 2, 2, 2, 2, -100],\n",
              " 'ner_tags': [1, 2, 2, 2, 2],\n",
              " '__index_level_0__': 1199,\n",
              " 'input_ids': [101,\n",
              "  156,\n",
              "  3663,\n",
              "  2162,\n",
              "  155,\n",
              "  23579,\n",
              "  9272,\n",
              "  10069,\n",
              "  18581,\n",
              "  2162,\n",
              "  23413,\n",
              "  18784,\n",
              "  1708,\n",
              "  19416,\n",
              "  2249,\n",
              "  119,\n",
              "  139,\n",
              "  23527,\n",
              "  119,\n",
              "  102],\n",
              " 'token_type_ids': [0,\n",
              "  0,\n",
              "  0,\n",
              "  0,\n",
              "  0,\n",
              "  0,\n",
              "  0,\n",
              "  0,\n",
              "  0,\n",
              "  0,\n",
              "  0,\n",
              "  0,\n",
              "  0,\n",
              "  0,\n",
              "  0,\n",
              "  0,\n",
              "  0,\n",
              "  0,\n",
              "  0,\n",
              "  0],\n",
              " 'attention_mask': [1,\n",
              "  1,\n",
              "  1,\n",
              "  1,\n",
              "  1,\n",
              "  1,\n",
              "  1,\n",
              "  1,\n",
              "  1,\n",
              "  1,\n",
              "  1,\n",
              "  1,\n",
              "  1,\n",
              "  1,\n",
              "  1,\n",
              "  1,\n",
              "  1,\n",
              "  1,\n",
              "  1,\n",
              "  1]}"
            ]
          },
          "execution_count": 34,
          "metadata": {},
          "output_type": "execute_result"
        }
      ],
      "source": [
        "tokenized_datasets_train[0]"
      ]
    },
    {
      "cell_type": "code",
      "execution_count": 35,
      "metadata": {},
      "outputs": [
        {
          "data": {
            "text/plain": [
              "{'sentence_id': 26878,\n",
              " 'tokens': ['1.', '2000-0063'],\n",
              " 'labels': [-100, 0, 0, 0, 0, 0, 0, 0, -100],\n",
              " 'ner_tags': [0, 0],\n",
              " '__index_level_0__': 26878,\n",
              " 'input_ids': [101, 122, 119, 1539, 118, 3135, 1545, 1495, 102],\n",
              " 'token_type_ids': [0, 0, 0, 0, 0, 0, 0, 0, 0],\n",
              " 'attention_mask': [1, 1, 1, 1, 1, 1, 1, 1, 1]}"
            ]
          },
          "execution_count": 35,
          "metadata": {},
          "output_type": "execute_result"
        }
      ],
      "source": [
        "tokenized_datasets_train[2]"
      ]
    },
    {
      "cell_type": "code",
      "execution_count": 36,
      "metadata": {},
      "outputs": [
        {
          "data": {
            "text/plain": [
              "{'sentence_id': 11609,\n",
              " 'tokens': ['DESCRIPTION'],\n",
              " 'labels': [-100, 0, 0, 0, 0, 0, 0, -100],\n",
              " 'ner_tags': [0],\n",
              " '__index_level_0__': 11609,\n",
              " 'input_ids': [101, 18581, 10844, 20595, 2101, 21669, 11414, 102],\n",
              " 'token_type_ids': [0, 0, 0, 0, 0, 0, 0, 0],\n",
              " 'attention_mask': [1, 1, 1, 1, 1, 1, 1, 1]}"
            ]
          },
          "execution_count": 36,
          "metadata": {},
          "output_type": "execute_result"
        }
      ],
      "source": [
        "tokenized_datasets_eval[2]"
      ]
    },
    {
      "cell_type": "markdown",
      "metadata": {},
      "source": [
        "# Training"
      ]
    },
    {
      "cell_type": "markdown",
      "metadata": {},
      "source": [
        "Obligée d'augmenter le lergning rate car sinon l'apprentissage aurait prisau moins une journée peut-être d'avantage=> très couteux"
      ]
    },
    {
      "cell_type": "code",
      "execution_count": 37,
      "metadata": {},
      "outputs": [
        {
          "name": "stderr",
          "output_type": "stream",
          "text": [
            "/anaconda/envs/e2_env/lib/python3.10/site-packages/torch/cuda/__init__.py:138: UserWarning: CUDA initialization: The NVIDIA driver on your system is too old (found version 11040). Please update your GPU driver by downloading and installing a new version from the URL: http://www.nvidia.com/Download/index.aspx Alternatively, go to: https://pytorch.org to install a PyTorch version that has been compiled with your version of the CUDA driver. (Triggered internally at ../c10/cuda/CUDAFunctions.cpp:108.)\n",
            "  return torch._C._cuda_getDeviceCount() > 0\n",
            "/anaconda/envs/e2_env/lib/python3.10/site-packages/transformers/optimization.py:407: FutureWarning: This implementation of AdamW is deprecated and will be removed in a future version. Use the PyTorch implementation torch.optim.AdamW instead, or set `no_deprecation_warning=True` to disable this warning\n",
            "  warnings.warn(\n",
            "You're using a BertTokenizerFast tokenizer. Please note that with a fast tokenizer, using the `__call__` method is faster than using a method to encode the text followed by a call to the `pad` method to get a padded encoding.\n"
          ]
        },
        {
          "data": {
            "text/html": [
              "\n",
              "    <div>\n",
              "      \n",
              "      <progress value='2' max='58840' style='width:300px; height:20px; vertical-align: middle;'></progress>\n",
              "      [    2/58840 : < :, Epoch 0.00/20]\n",
              "    </div>\n",
              "    <table border=\"1\" class=\"dataframe\">\n",
              "  <thead>\n",
              " <tr style=\"text-align: left;\">\n",
              "      <th>Step</th>\n",
              "      <th>Training Loss</th>\n",
              "      <th>Validation Loss</th>\n",
              "    </tr>\n",
              "  </thead>\n",
              "  <tbody>\n",
              "  </tbody>\n",
              "</table><p>"
            ],
            "text/plain": [
              "<IPython.core.display.HTML object>"
            ]
          },
          "metadata": {},
          "output_type": "display_data"
        },
        {
          "data": {
            "text/plain": [
              "TrainOutput(global_step=3000, training_loss=0.25168970998128254, metrics={'train_runtime': 1216.1434, 'train_samples_per_second': 386.994, 'train_steps_per_second': 48.382, 'total_flos': 218839675598280.0, 'train_loss': 0.25168970998128254, 'epoch': 1.02})"
            ]
          },
          "execution_count": 37,
          "metadata": {},
          "output_type": "execute_result"
        }
      ],
      "source": [
        "args = TrainingArguments(\n",
        "    \"bert-finetuned-ner-9\",\n",
        "    evaluation_strategy=\"steps\",\n",
        "    learning_rate=5e-6,\n",
        "    num_train_epochs=20,\n",
        "    weight_decay=0.02,\n",
        "    push_to_hub=False,\n",
        "    metric_for_best_model = 'recall',\n",
        "    load_best_model_at_end=True,\n",
        "    save_strategy=\"steps\"\n",
        ")\n",
        "\n",
        "trainer = Trainer(\n",
        "    model=model,\n",
        "    args=args,\n",
        "    train_dataset=tokenized_datasets_train,\n",
        "    eval_dataset=tokenized_datasets_eval,\n",
        "    data_collator=data_collator,\n",
        "    compute_metrics=compute_metrics,\n",
        "    tokenizer=tokenizer,\n",
        "    callbacks=[EarlyStoppingCallback(early_stopping_patience=3, early_stopping_threshold=0.01)],\n",
        "    \n",
        ")\n",
        "trainer.train()"
      ]
    },
    {
      "cell_type": "markdown",
      "metadata": {},
      "source": [
        "# Graphic representation"
      ]
    },
    {
      "cell_type": "markdown",
      "metadata": {},
      "source": [
        "## Confusion matrix"
      ]
    },
    {
      "cell_type": "code",
      "execution_count": 38,
      "metadata": {},
      "outputs": [
        {
          "data": {
            "text/html": [],
            "text/plain": [
              "<IPython.core.display.HTML object>"
            ]
          },
          "metadata": {},
          "output_type": "display_data"
        }
      ],
      "source": [
        "# Obtenir les prédictions\n",
        "predictions, labels, _ = trainer.predict(tokenized_datasets_test)\n",
        "predictions = np.argmax(predictions, axis=2)"
      ]
    },
    {
      "cell_type": "code",
      "execution_count": 39,
      "metadata": {},
      "outputs": [
        {
          "data": {
            "text/plain": [
              "Text(0.5, 1.0, 'Confusion Matrix après entrainnement 9')"
            ]
          },
          "execution_count": 39,
          "metadata": {},
          "output_type": "execute_result"
        },
        {
          "data": {
            "image/png": "[encoded data removed]",
            "text/plain": [
              "<Figure size 800x800 with 2 Axes>"
            ]
          },
          "metadata": {},
          "output_type": "display_data"
        }
      ],
      "source": [
        "# Aplatir les listes\n",
        "true_labels = []\n",
        "pred_labels = []\n",
        "for i, label in enumerate(labels):\n",
        "    for j, label_id in enumerate(label):\n",
        "        if label_id != -100:  # Ignorer les tokens spéciaux\n",
        "            true_labels.append(label_id)\n",
        "            pred_labels.append(predictions[i][j])\n",
        "\n",
        "# Convertir les indices en étiquettes textuelles (selon votre mapping d'indices)\n",
        "# Vous devez définir `id2label` basé sur votre modèle ou votre Tokenizer\n",
        "true_label_text = [id2label[id] for id in true_labels]\n",
        "pred_label_text = [id2label[id] for id in pred_labels]\n",
        "\n",
        "# Calculer la matrice de confusion\n",
        "conf_matrix = confusion_matrix(true_label_text, pred_label_text, labels=list(id2label.values()))\n",
        "\n",
        "# Sauvegarder le graphique Seaborn dans un fichier image (par exemple, PNG)\n",
        "plt.figure(figsize=(8, 8))\n",
        "sns.heatmap(conf_matrix, annot=True, fmt='d', cmap='Blues', xticklabels=label_list, yticklabels=label_list)\n",
        "plt.xlabel('Predicted')\n",
        "plt.ylabel('True')\n",
        "plt.title('Confusion Matrix après entrainnement 9')"
      ]
    },
    {
      "cell_type": "markdown",
      "metadata": {},
      "source": [
        "## Loss and Accuracy"
      ]
    },
    {
      "cell_type": "code",
      "execution_count": 40,
      "metadata": {},
      "outputs": [
        {
          "data": {
            "image/png": "[encoded data removed]",
            "text/plain": [
              "<Figure size 1000x500 with 1 Axes>"
            ]
          },
          "metadata": {},
          "output_type": "display_data"
        }
      ],
      "source": [
        "# Récupération des métriques d'entraînement\n",
        "train_metrics = trainer.state.log_history\n",
        "\n",
        "# Extraction des métriques spécifiques que vous souhaitez tracer (par exemple, la perte)\n",
        "train_loss = [metric['loss'] for metric in train_metrics if 'loss' in metric]\n",
        "plt.figure(figsize=(10, 5))\n",
        "plt.plot(train_loss, label='Training Loss', marker='o')\n",
        "\n",
        "plt.title('Training and Validation Loss')\n",
        "plt.xlabel('Epoch')\n",
        "plt.ylabel('Loss')\n",
        "plt.legend()\n",
        "plt.show()"
      ]
    },
    {
      "cell_type": "code",
      "execution_count": 41,
      "metadata": {},
      "outputs": [
        {
          "name": "stdout",
          "output_type": "stream",
          "text": [
            "eval_losses [0.2912714183330536, 0.19705525040626526, 0.20816993713378906, 0.1778768002986908, 0.16687718033790588, 0.16303814947605133]\n",
            "eval_accuracies: [0.9272685948065231, 0.9417580544349111, 0.9391442695607705, 0.9504517302119438, 0.9539462469458492, 0.9577532814364452]\n"
          ]
        }
      ],
      "source": [
        "eval_losses = []\n",
        "eval_accuracies = []\n",
        "\n",
        "for log in trainer.state.log_history:\n",
        "    if 'eval_loss' in log and 'step' in log:  # Métriques d'entraînement\n",
        "        eval_losses.append(log['eval_loss'])\n",
        "   \n",
        "    if 'eval_accuracy' in log:  # Score F1 d'évaluation\n",
        "        eval_accuracies.append(log['eval_accuracy'])\n",
        "\n",
        "# Affichage des métriques récupérées\n",
        "print(\"eval_losses\", eval_losses)\n",
        "print(\"eval_accuracies:\", eval_accuracies)"
      ]
    },
    {
      "cell_type": "code",
      "execution_count": 42,
      "metadata": {},
      "outputs": [
        {
          "data": {
            "image/png": "[encoded data removed]",
            "text/plain": [
              "<Figure size 1000x600 with 1 Axes>"
            ]
          },
          "metadata": {},
          "output_type": "display_data"
        }
      ],
      "source": [
        "import matplotlib.pyplot as plt\n",
        "from matplotlib.ticker import MaxNLocator\n",
        "\n",
        "steps = range(1, len(eval_losses) + 1)\n",
        "\n",
        "plt.figure(figsize=(10, 6))\n",
        "plt.plot(steps, eval_losses, label='Loss', marker='o')\n",
        "plt.plot(steps, eval_accuracies, label='Accuracy', marker='o')\n",
        "plt.title('Loss d\\'entraînement et de validation par époque')\n",
        "plt.xlabel('Steps')\n",
        "plt.ylabel('Value')\n",
        "plt.legend()\n",
        "\n",
        "# Configuration pour forcer l'axe des x à utiliser des entiers\n",
        "# plt.gca().xaxis.set_major_locator(MaxNLocator(integer=True))\n",
        "\n",
        "plt.show()"
      ]
    },
    {
      "cell_type": "markdown",
      "metadata": {},
      "source": [
        "# Save the model"
      ]
    },
    {
      "cell_type": "code",
      "execution_count": 48,
      "metadata": {},
      "outputs": [],
      "source": [
        "saved_model_path='custom_model-9'\n",
        "trainer.save_model(saved_model_path)"
      ]
    },
    {
      "cell_type": "markdown",
      "metadata": {},
      "source": [
        "# Evaluate"
      ]
    },
    {
      "cell_type": "code",
      "execution_count": 49,
      "metadata": {},
      "outputs": [
        {
          "data": {
            "text/html": [
              "\n",
              "    <div>\n",
              "      \n",
              "      <progress value='5' max='631' style='width:300px; height:20px; vertical-align: middle;'></progress>\n",
              "      [  5/631 00:00 < 00:38, 16.10 it/s]\n",
              "    </div>\n",
              "    "
            ],
            "text/plain": [
              "<IPython.core.display.HTML object>"
            ]
          },
          "metadata": {},
          "output_type": "display_data"
        }
      ],
      "source": [
        "predictions = trainer.predict(tokenized_datasets_eval)"
      ]
    },
    {
      "cell_type": "code",
      "execution_count": 50,
      "metadata": {},
      "outputs": [
        {
          "name": "stdout",
          "output_type": "stream",
          "text": [
            "Metric          Score\n",
            "--------------  ------------------\n",
            "test_precision  56.21000000000001%\n",
            "test_recall     82.85%\n",
            "test_f1         66.97999999999999%\n",
            "test_accuracy   93.91000000000001%\n"
          ]
        }
      ],
      "source": [
        "from tabulate import tabulate\n",
        "\n",
        "metrics = ['precision', 'recall', 'f1', 'accuracy']\n",
        "prediction_results = []\n",
        "\n",
        "for key, val in predictions.metrics.items():\n",
        "    if any(item in key for item in metrics):\n",
        "        prediction_results.append([key, str(round(val,4)*100)+'%'])\n",
        "\n",
        "print(tabulate(prediction_results, headers=['Metric', 'Score']))"
      ]
    },
    {
      "cell_type": "markdown",
      "metadata": {},
      "source": [
        "# Inference"
      ]
    },
    {
      "cell_type": "code",
      "execution_count": 51,
      "metadata": {},
      "outputs": [],
      "source": [
        "inference= \"\"\"MR. D.I.¥. (KUCHAT) SDN BHD\n",
        "CO-REG:750441-W\n",
        "LOT 1851-A & 1851-B, JALAN KPB 6,\n",
        "KAWASAN PERINDUSTRIAN BALAKONG,\n",
        "43300 SERI KEMBANGAN, SELANGOR\n",
        "(GST ID No :000473792512)\n",
        "(TESCO EXTRA KAJANG)\n",
        "-TAX INVOICE-\n",
        "\n",
        "BOOSTER CABLE XH-500A +*§\n",
        "CE72 - 10\n",
        "9001620 1X 29.90 298,90\n",
        "MOTH BALLS 1506 *§\n",
        "EC21-41-71 - 10/100\n",
        "9063977 1X 2,10 2,10\n",
        "DIY GOLD TWIST DRILL 3MM *§\n",
        "LB22 - 20/1500\n",
        "9071246 1X 2,50 2,50\n",
        "HSS TWIST DRILL 6*160MM *§\n",
        "LG32-42 - 10/400\n",
        "6909906163107 1X 3.30 3,30\n",
        "\n",
        "Item(s) : 4 Qty(s) : 4\n",
        "TOTAL INCL. GSTe6K RM 37.80\n",
        "CASH RM 40.00\n",
        "CHANGE RM 2.20\n",
        "\n",
        "GST Summary Amt(RM) = Tax(RM)\n",
        "GST S@6% 35.66 2.14\n",
        "\n",
        "08-03-17 13:42 SHO1 BO28 = 12 000017473\n",
        "OPERATOR TRAINEE\n",
        "\n",
        "EXCHANGE ARE ALLOWED WITHIN\n",
        "7 DAY WITH RECEIPT.\n",
        "STRICTLY NO CASH REFUND.\n",
        "\n",
        " \n",
        "\n",
        "ee are can\"\"\""
      ]
    },
    {
      "cell_type": "code",
      "execution_count": 52,
      "metadata": {},
      "outputs": [],
      "source": [
        "token_classifier = pipeline(\n",
        "    \"token-classification\", model=saved_model_path, aggregation_strategy=\"simple\"\n",
        ")\n",
        "results = token_classifier(inference)"
      ]
    },
    {
      "cell_type": "code",
      "execution_count": 53,
      "metadata": {},
      "outputs": [
        {
          "name": "stdout",
          "output_type": "stream",
          "text": [
            "Word                                                                  Predictions\n",
            "--------------------------------------------------------------------  -------------\n",
            "I                                                                     address\n",
            "LOT 1851                                                              address\n",
            "A                                                                     address\n",
            "1851                                                                  address\n",
            "B, JALAN KPB 6, KAWASAN PERINDUSTRIAN BALAKONG, 43300 SERI KEMBANGAN  address\n",
            "SELANG                                                                address\n"
          ]
        }
      ],
      "source": [
        "\n",
        "prediction_results = []\n",
        "for each_entity in results:\n",
        "    prediction_results.append([each_entity['word'], each_entity['entity_group']])\n",
        "\n",
        "print(tabulate(prediction_results, headers=['Word', 'Predictions']))"
      ]
    }
  ],
  "metadata": {
    "kernelspec": {
      "display_name": "tata_env",
      "language": "python",
      "name": "python3"
    },
    "language_info": {
      "codemirror_mode": {
        "name": "ipython",
        "version": 3
      },
      "file_extension": ".py",
      "mimetype": "text/x-python",
      "name": "python",
      "nbconvert_exporter": "python",
      "pygments_lexer": "ipython3",
      "version": "3.1.0"
    },
    "microsoft": {
      "ms_spell_check": {
        "ms_spell_check_language": "en"
      }
    },
    "nteract": {
      "version": "nteract-front-end@1.0.0"
    }
  },
  "nbformat": 4,
  "nbformat_minor": 2
}
