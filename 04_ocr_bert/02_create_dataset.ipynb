{
 "cells": [
  {
   "cell_type": "markdown",
   "metadata": {},
   "source": [
    "# 01 Create values df"
   ]
  },
  {
   "cell_type": "code",
   "execution_count": null,
   "metadata": {},
   "outputs": [],
   "source": [
    "import os\n",
    "import pandas as pd\n",
    "\n",
    "txt_data_path = \"/home/e077926/buscode_2023/05_E2_tata/data/SROIE2019/train/text\"\n",
    "df_list = []\n",
    "\n",
    "for txt_file in os.listdir(txt_data_path):\n",
    "    # Construire le chemin complet du fichier texte\n",
    "    txt_file_path = os.path.join(txt_data_path, txt_file)\n",
    "\n",
    "    # Extraire l'ID du document à partir du nom du fichier sans extension\n",
    "    doc_id = os.path.splitext(txt_file)[0]\n",
    "\n",
    "    # Lire les lignes du fichier texte\n",
    "    with open(txt_file_path, 'r') as f:\n",
    "        lines = f.readlines()\n",
    "\n",
    "    # Créer un DataFrame pour les lignes du fichier texte\n",
    "    df_lines = pd.DataFrame({'text_lines': lines})\n",
    "\n",
    "    # Ajouter les colonnes d'ID du document et d'ID de ligne\n",
    "    df_lines['doc_id'] = doc_id\n",
    "    df_lines['line_id'] = df_lines.index + 1  # Index + 1 pour obtenir l'ID de ligne\n",
    "\n",
    "    # Ajouter ce DataFrame à la liste\n",
    "    df_list.append(df_lines)\n",
    "\n",
    "# Concaténer tous les DataFrames dans la liste en un seul DataFrame\n",
    "df = pd.concat(df_list, ignore_index=True)"
   ]
  },
  {
   "cell_type": "code",
   "execution_count": null,
   "metadata": {},
   "outputs": [],
   "source": [
    "df.tail()"
   ]
  },
  {
   "cell_type": "code",
   "execution_count": null,
   "metadata": {},
   "outputs": [],
   "source": [
    "# df.to_csv('/home/e077926/buscode_2023/05_E2_tata/data/receipt_raw_df.csv')"
   ]
  }
 ],
 "metadata": {
  "language_info": {
   "name": "python"
  }
 },
 "nbformat": 4,
 "nbformat_minor": 2
}
