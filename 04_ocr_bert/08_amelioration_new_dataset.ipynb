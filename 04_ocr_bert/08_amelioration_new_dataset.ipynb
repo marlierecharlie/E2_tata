{
  "cells": [
    {
      "cell_type": "markdown",
      "metadata": {},
      "source": [
        "https://github.com/oya163/bert-llm/blob/master/CyberSecurityNER/cyber_security_ner.ipynb"
      ]
    },
    {
      "cell_type": "markdown",
      "metadata": {},
      "source": [
        "# Load modules"
      ]
    },
    {
      "cell_type": "code",
      "execution_count": 90,
      "metadata": {},
      "outputs": [],
      "source": [
        "from sklearn.preprocessing import LabelEncoder\n",
        "from transformers import TrainingArguments, Trainer, EarlyStoppingCallback\n",
        "import pandas as pd\n",
        "from sklearn.metrics import confusion_matrix\n",
        "import numpy as np\n",
        "import matplotlib.pyplot as plt\n",
        "from matplotlib.ticker import MaxNLocator\n",
        "import seaborn as sns\n",
        "from transformers import pipeline\n",
        "# from seqeval.metrics import classification_report"
      ]
    },
    {
      "cell_type": "markdown",
      "metadata": {},
      "source": [
        "# 01 Load my data"
      ]
    },
    {
      "cell_type": "code",
      "execution_count": 39,
      "metadata": {},
      "outputs": [
        {
          "data": {
            "text/html": [
              "<div>\n",
              "<style scoped>\n",
              "    .dataframe tbody tr th:only-of-type {\n",
              "        vertical-align: middle;\n",
              "    }\n",
              "\n",
              "    .dataframe tbody tr th {\n",
              "        vertical-align: top;\n",
              "    }\n",
              "\n",
              "    .dataframe thead th {\n",
              "        text-align: right;\n",
              "    }\n",
              "</style>\n",
              "<table border=\"1\" class=\"dataframe\">\n",
              "  <thead>\n",
              "    <tr style=\"text-align: right;\">\n",
              "      <th></th>\n",
              "      <th>doc</th>\n",
              "      <th>line_id</th>\n",
              "      <th>value</th>\n",
              "      <th>entity</th>\n",
              "    </tr>\n",
              "  </thead>\n",
              "  <tbody>\n",
              "    <tr>\n",
              "      <th>0</th>\n",
              "      <td>X00016469612</td>\n",
              "      <td>1</td>\n",
              "      <td>TAN</td>\n",
              "      <td>O</td>\n",
              "    </tr>\n",
              "    <tr>\n",
              "      <th>1</th>\n",
              "      <td>X00016469612</td>\n",
              "      <td>1</td>\n",
              "      <td>WOON</td>\n",
              "      <td>O</td>\n",
              "    </tr>\n",
              "    <tr>\n",
              "      <th>2</th>\n",
              "      <td>X00016469612</td>\n",
              "      <td>1</td>\n",
              "      <td>YANN</td>\n",
              "      <td>O</td>\n",
              "    </tr>\n",
              "    <tr>\n",
              "      <th>3</th>\n",
              "      <td>X00016469612</td>\n",
              "      <td>2</td>\n",
              "      <td>BOOK</td>\n",
              "      <td>company-B</td>\n",
              "    </tr>\n",
              "    <tr>\n",
              "      <th>4</th>\n",
              "      <td>X00016469612</td>\n",
              "      <td>2</td>\n",
              "      <td>TA</td>\n",
              "      <td>company-I</td>\n",
              "    </tr>\n",
              "  </tbody>\n",
              "</table>\n",
              "</div>"
            ],
            "text/plain": [
              "            doc  line_id value     entity\n",
              "0  X00016469612        1   TAN          O\n",
              "1  X00016469612        1  WOON          O\n",
              "2  X00016469612        1  YANN          O\n",
              "3  X00016469612        2  BOOK  company-B\n",
              "4  X00016469612        2    TA  company-I"
            ]
          },
          "execution_count": 39,
          "metadata": {},
          "output_type": "execute_result"
        }
      ],
      "source": [
        "df=pd.read_csv('/bio_from_bbox_df.csv')\n",
        "df.drop(columns=['Unnamed: 0'], inplace=True)\n",
        "df.head()"
      ]
    },
    {
      "cell_type": "markdown",
      "metadata": {},
      "source": [
        "## Change entity labels"
      ]
    },
    {
      "cell_type": "code",
      "execution_count": 40,
      "metadata": {},
      "outputs": [],
      "source": [
        "entity_list=df['entity'].unique().tolist()"
      ]
    },
    {
      "cell_type": "code",
      "execution_count": 41,
      "metadata": {},
      "outputs": [
        {
          "data": {
            "text/plain": [
              "['O',\n",
              " 'company-B',\n",
              " 'company-I',\n",
              " 'address-B',\n",
              " 'address-I',\n",
              " 'date-B',\n",
              " 'total-B',\n",
              " 'total-I',\n",
              " 'date-I']"
            ]
          },
          "execution_count": 41,
          "metadata": {},
          "output_type": "execute_result"
        }
      ],
      "source": [
        "entity_list"
      ]
    },
    {
      "cell_type": "code",
      "execution_count": 42,
      "metadata": {},
      "outputs": [
        {
          "data": {
            "text/html": [
              "<div>\n",
              "<style scoped>\n",
              "    .dataframe tbody tr th:only-of-type {\n",
              "        vertical-align: middle;\n",
              "    }\n",
              "\n",
              "    .dataframe tbody tr th {\n",
              "        vertical-align: top;\n",
              "    }\n",
              "\n",
              "    .dataframe thead th {\n",
              "        text-align: right;\n",
              "    }\n",
              "</style>\n",
              "<table border=\"1\" class=\"dataframe\">\n",
              "  <thead>\n",
              "    <tr style=\"text-align: right;\">\n",
              "      <th></th>\n",
              "      <th>doc</th>\n",
              "      <th>line_id</th>\n",
              "      <th>value</th>\n",
              "      <th>entity</th>\n",
              "    </tr>\n",
              "  </thead>\n",
              "  <tbody>\n",
              "    <tr>\n",
              "      <th>0</th>\n",
              "      <td>X00016469612</td>\n",
              "      <td>1</td>\n",
              "      <td>TAN</td>\n",
              "      <td>O</td>\n",
              "    </tr>\n",
              "    <tr>\n",
              "      <th>1</th>\n",
              "      <td>X00016469612</td>\n",
              "      <td>1</td>\n",
              "      <td>WOON</td>\n",
              "      <td>O</td>\n",
              "    </tr>\n",
              "    <tr>\n",
              "      <th>2</th>\n",
              "      <td>X00016469612</td>\n",
              "      <td>1</td>\n",
              "      <td>YANN</td>\n",
              "      <td>O</td>\n",
              "    </tr>\n",
              "    <tr>\n",
              "      <th>3</th>\n",
              "      <td>X00016469612</td>\n",
              "      <td>2</td>\n",
              "      <td>BOOK</td>\n",
              "      <td>B-company</td>\n",
              "    </tr>\n",
              "    <tr>\n",
              "      <th>4</th>\n",
              "      <td>X00016469612</td>\n",
              "      <td>2</td>\n",
              "      <td>TA</td>\n",
              "      <td>I-company</td>\n",
              "    </tr>\n",
              "  </tbody>\n",
              "</table>\n",
              "</div>"
            ],
            "text/plain": [
              "            doc  line_id value     entity\n",
              "0  X00016469612        1   TAN          O\n",
              "1  X00016469612        1  WOON          O\n",
              "2  X00016469612        1  YANN          O\n",
              "3  X00016469612        2  BOOK  B-company\n",
              "4  X00016469612        2    TA  I-company"
            ]
          },
          "execution_count": 42,
          "metadata": {},
          "output_type": "execute_result"
        }
      ],
      "source": [
        "entity_list=df['entity'].unique().tolist()\n",
        "new_entity_list=['O','B-company','I-company','B-address','I-address','B-date','B-total','I-total','I-date']\n",
        "\n",
        "df['entity']=df['entity'].replace(entity_list, new_entity_list)\n",
        "df.head()"
      ]
    },
    {
      "cell_type": "code",
      "execution_count": 43,
      "metadata": {},
      "outputs": [],
      "source": [
        "label_list = ['O','B-company','I-company','B-address','I-address','B-date', 'I-date','B-total','I-total']"
      ]
    },
    {
      "cell_type": "markdown",
      "metadata": {},
      "source": [
        "# Encode lines"
      ]
    },
    {
      "cell_type": "code",
      "execution_count": 44,
      "metadata": {},
      "outputs": [],
      "source": [
        "df['sentence_id'] = df['doc'] + df['line_id'].astype(str)\n",
        "df[\"sentence_id\"] = LabelEncoder().fit_transform(df[\"sentence_id\"] )"
      ]
    },
    {
      "cell_type": "markdown",
      "metadata": {},
      "source": [
        "## Add ner_tags"
      ]
    },
    {
      "cell_type": "code",
      "execution_count": 45,
      "metadata": {},
      "outputs": [
        {
          "name": "stderr",
          "output_type": "stream",
          "text": [
            "/tmp/ipykernel_19025/632884496.py:3: FutureWarning: Downcasting behavior in `replace` is deprecated and will be removed in a future version. To retain the old behavior, explicitly call `result.infer_objects(copy=False)`. To opt-in to the future behavior, set `pd.set_option('future.no_silent_downcasting', True)`\n",
            "  df['ner_tag']=df['entity'].replace(new_entity_list, ner_tag)\n"
          ]
        },
        {
          "data": {
            "text/html": [
              "<div>\n",
              "<style scoped>\n",
              "    .dataframe tbody tr th:only-of-type {\n",
              "        vertical-align: middle;\n",
              "    }\n",
              "\n",
              "    .dataframe tbody tr th {\n",
              "        vertical-align: top;\n",
              "    }\n",
              "\n",
              "    .dataframe thead th {\n",
              "        text-align: right;\n",
              "    }\n",
              "</style>\n",
              "<table border=\"1\" class=\"dataframe\">\n",
              "  <thead>\n",
              "    <tr style=\"text-align: right;\">\n",
              "      <th></th>\n",
              "      <th>doc</th>\n",
              "      <th>line_id</th>\n",
              "      <th>value</th>\n",
              "      <th>entity</th>\n",
              "      <th>sentence_id</th>\n",
              "      <th>ner_tag</th>\n",
              "    </tr>\n",
              "  </thead>\n",
              "  <tbody>\n",
              "    <tr>\n",
              "      <th>0</th>\n",
              "      <td>X00016469612</td>\n",
              "      <td>1</td>\n",
              "      <td>TAN</td>\n",
              "      <td>O</td>\n",
              "      <td>0</td>\n",
              "      <td>0</td>\n",
              "    </tr>\n",
              "    <tr>\n",
              "      <th>1</th>\n",
              "      <td>X00016469612</td>\n",
              "      <td>1</td>\n",
              "      <td>WOON</td>\n",
              "      <td>O</td>\n",
              "      <td>0</td>\n",
              "      <td>0</td>\n",
              "    </tr>\n",
              "    <tr>\n",
              "      <th>2</th>\n",
              "      <td>X00016469612</td>\n",
              "      <td>1</td>\n",
              "      <td>YANN</td>\n",
              "      <td>O</td>\n",
              "      <td>0</td>\n",
              "      <td>0</td>\n",
              "    </tr>\n",
              "    <tr>\n",
              "      <th>3</th>\n",
              "      <td>X00016469612</td>\n",
              "      <td>2</td>\n",
              "      <td>BOOK</td>\n",
              "      <td>B-company</td>\n",
              "      <td>11</td>\n",
              "      <td>1</td>\n",
              "    </tr>\n",
              "    <tr>\n",
              "      <th>4</th>\n",
              "      <td>X00016469612</td>\n",
              "      <td>2</td>\n",
              "      <td>TA</td>\n",
              "      <td>I-company</td>\n",
              "      <td>11</td>\n",
              "      <td>2</td>\n",
              "    </tr>\n",
              "  </tbody>\n",
              "</table>\n",
              "</div>"
            ],
            "text/plain": [
              "            doc  line_id value     entity  sentence_id  ner_tag\n",
              "0  X00016469612        1   TAN          O            0        0\n",
              "1  X00016469612        1  WOON          O            0        0\n",
              "2  X00016469612        1  YANN          O            0        0\n",
              "3  X00016469612        2  BOOK  B-company           11        1\n",
              "4  X00016469612        2    TA  I-company           11        2"
            ]
          },
          "execution_count": 45,
          "metadata": {},
          "output_type": "execute_result"
        }
      ],
      "source": [
        "ner_tag = list(range(0,9))\n",
        "\n",
        "df['ner_tag']=df['entity'].replace(new_entity_list, ner_tag)\n",
        "df.head()"
      ]
    },
    {
      "cell_type": "code",
      "execution_count": 46,
      "metadata": {},
      "outputs": [
        {
          "data": {
            "text/html": [
              "<div>\n",
              "<style scoped>\n",
              "    .dataframe tbody tr th:only-of-type {\n",
              "        vertical-align: middle;\n",
              "    }\n",
              "\n",
              "    .dataframe tbody tr th {\n",
              "        vertical-align: top;\n",
              "    }\n",
              "\n",
              "    .dataframe thead th {\n",
              "        text-align: right;\n",
              "    }\n",
              "</style>\n",
              "<table border=\"1\" class=\"dataframe\">\n",
              "  <thead>\n",
              "    <tr style=\"text-align: right;\">\n",
              "      <th></th>\n",
              "      <th>sentence_id</th>\n",
              "      <th>tokens</th>\n",
              "      <th>labels</th>\n",
              "      <th>ner_tags</th>\n",
              "    </tr>\n",
              "  </thead>\n",
              "  <tbody>\n",
              "    <tr>\n",
              "      <th>0</th>\n",
              "      <td>0</td>\n",
              "      <td>TAN</td>\n",
              "      <td>O</td>\n",
              "      <td>0</td>\n",
              "    </tr>\n",
              "    <tr>\n",
              "      <th>1</th>\n",
              "      <td>0</td>\n",
              "      <td>WOON</td>\n",
              "      <td>O</td>\n",
              "      <td>0</td>\n",
              "    </tr>\n",
              "    <tr>\n",
              "      <th>2</th>\n",
              "      <td>0</td>\n",
              "      <td>YANN</td>\n",
              "      <td>O</td>\n",
              "      <td>0</td>\n",
              "    </tr>\n",
              "    <tr>\n",
              "      <th>3</th>\n",
              "      <td>11</td>\n",
              "      <td>BOOK</td>\n",
              "      <td>B-company</td>\n",
              "      <td>1</td>\n",
              "    </tr>\n",
              "    <tr>\n",
              "      <th>4</th>\n",
              "      <td>11</td>\n",
              "      <td>TA</td>\n",
              "      <td>I-company</td>\n",
              "      <td>2</td>\n",
              "    </tr>\n",
              "  </tbody>\n",
              "</table>\n",
              "</div>"
            ],
            "text/plain": [
              "   sentence_id tokens     labels  ner_tags\n",
              "0            0    TAN          O         0\n",
              "1            0   WOON          O         0\n",
              "2            0   YANN          O         0\n",
              "3           11   BOOK  B-company         1\n",
              "4           11     TA  I-company         2"
            ]
          },
          "execution_count": 46,
          "metadata": {},
          "output_type": "execute_result"
        }
      ],
      "source": [
        "df['doc']=df['doc'].astype(str)\n",
        "df['sentence_id']=df['sentence_id'].astype(int)\n",
        "df['tokens']=df['value'].astype(str)\n",
        "df['ner_tags']=df['ner_tag'].astype(int)\n",
        "df['labels']=df['entity'].astype(str)\n",
        "\n",
        "df=df[[\"sentence_id\", \"tokens\", \"labels\", \"ner_tags\"]]\n",
        "\n",
        "df.head()"
      ]
    },
    {
      "cell_type": "markdown",
      "metadata": {},
      "source": [
        "# Create dataset df"
      ]
    },
    {
      "cell_type": "code",
      "execution_count": 47,
      "metadata": {},
      "outputs": [],
      "source": [
        "# Réorganiser les données\n",
        "grouped_df = df.groupby('sentence_id').agg({\n",
        "    'tokens': list,\n",
        "    'labels': list,\n",
        "    'ner_tags': list,\n",
        "}).reset_index()\n",
        "\n",
        "# Renommer la colonne id\n",
        "grouped_df.rename(columns={'id': 'sentence_id'}, inplace=True)"
      ]
    },
    {
      "cell_type": "code",
      "execution_count": 48,
      "metadata": {},
      "outputs": [
        {
          "data": {
            "text/html": [
              "<div>\n",
              "<style scoped>\n",
              "    .dataframe tbody tr th:only-of-type {\n",
              "        vertical-align: middle;\n",
              "    }\n",
              "\n",
              "    .dataframe tbody tr th {\n",
              "        vertical-align: top;\n",
              "    }\n",
              "\n",
              "    .dataframe thead th {\n",
              "        text-align: right;\n",
              "    }\n",
              "</style>\n",
              "<table border=\"1\" class=\"dataframe\">\n",
              "  <thead>\n",
              "    <tr style=\"text-align: right;\">\n",
              "      <th></th>\n",
              "      <th>sentence_id</th>\n",
              "      <th>tokens</th>\n",
              "      <th>labels</th>\n",
              "      <th>ner_tags</th>\n",
              "    </tr>\n",
              "  </thead>\n",
              "  <tbody>\n",
              "    <tr>\n",
              "      <th>0</th>\n",
              "      <td>0</td>\n",
              "      <td>[TAN, WOON, YANN]</td>\n",
              "      <td>[O, O, O]</td>\n",
              "      <td>[0, 0, 0]</td>\n",
              "    </tr>\n",
              "    <tr>\n",
              "      <th>1</th>\n",
              "      <td>1</td>\n",
              "      <td>[25/12/2018, 8:13:39, PM]</td>\n",
              "      <td>[B-date, O, O]</td>\n",
              "      <td>[5, 0, 0]</td>\n",
              "    </tr>\n",
              "    <tr>\n",
              "      <th>2</th>\n",
              "      <td>2</td>\n",
              "      <td>[CASHIER:]</td>\n",
              "      <td>[O]</td>\n",
              "      <td>[0]</td>\n",
              "    </tr>\n",
              "    <tr>\n",
              "      <th>3</th>\n",
              "      <td>3</td>\n",
              "      <td>[MANIS]</td>\n",
              "      <td>[O]</td>\n",
              "      <td>[0]</td>\n",
              "    </tr>\n",
              "    <tr>\n",
              "      <th>4</th>\n",
              "      <td>4</td>\n",
              "      <td>[MEMBER:]</td>\n",
              "      <td>[O]</td>\n",
              "      <td>[0]</td>\n",
              "    </tr>\n",
              "  </tbody>\n",
              "</table>\n",
              "</div>"
            ],
            "text/plain": [
              "   sentence_id                     tokens          labels   ner_tags\n",
              "0            0          [TAN, WOON, YANN]       [O, O, O]  [0, 0, 0]\n",
              "1            1  [25/12/2018, 8:13:39, PM]  [B-date, O, O]  [5, 0, 0]\n",
              "2            2                 [CASHIER:]             [O]        [0]\n",
              "3            3                    [MANIS]             [O]        [0]\n",
              "4            4                  [MEMBER:]             [O]        [0]"
            ]
          },
          "execution_count": 48,
          "metadata": {},
          "output_type": "execute_result"
        }
      ],
      "source": [
        "grouped_df.head()"
      ]
    },
    {
      "cell_type": "code",
      "execution_count": 49,
      "metadata": {},
      "outputs": [],
      "source": [
        "grouped_df.to_csv('/home/azureuser/cloudfiles/code/Users/charlie.marliere/E2/data/training_from_bbox_df')"
      ]
    },
    {
      "cell_type": "markdown",
      "metadata": {},
      "source": [
        "# Split"
      ]
    },
    {
      "cell_type": "code",
      "execution_count": 50,
      "metadata": {},
      "outputs": [],
      "source": [
        "from sklearn.model_selection import train_test_split\n",
        "train_df, test_val_df = train_test_split(grouped_df, test_size=0.3)\n",
        "test_df, eval_df = train_test_split(test_val_df, test_size=0.5)"
      ]
    },
    {
      "cell_type": "code",
      "execution_count": 51,
      "metadata": {},
      "outputs": [],
      "source": [
        "from datasets import Dataset\n",
        "\n",
        "# En supposant que train_df est un DataFrame pandas avec les colonnes \"words\" et \"ner_tags\"\n",
        "train_dataset = Dataset.from_pandas(train_df)\n",
        "test_dataset=Dataset.from_pandas(test_df)\n",
        "eval_dataset = Dataset.from_pandas(eval_df)"
      ]
    },
    {
      "cell_type": "code",
      "execution_count": 52,
      "metadata": {},
      "outputs": [
        {
          "data": {
            "text/html": [
              "<div>\n",
              "<style scoped>\n",
              "    .dataframe tbody tr th:only-of-type {\n",
              "        vertical-align: middle;\n",
              "    }\n",
              "\n",
              "    .dataframe tbody tr th {\n",
              "        vertical-align: top;\n",
              "    }\n",
              "\n",
              "    .dataframe thead th {\n",
              "        text-align: right;\n",
              "    }\n",
              "</style>\n",
              "<table border=\"1\" class=\"dataframe\">\n",
              "  <thead>\n",
              "    <tr style=\"text-align: right;\">\n",
              "      <th></th>\n",
              "      <th>sentence_id</th>\n",
              "      <th>tokens</th>\n",
              "      <th>labels</th>\n",
              "      <th>ner_tags</th>\n",
              "    </tr>\n",
              "  </thead>\n",
              "  <tbody>\n",
              "    <tr>\n",
              "      <th>5575</th>\n",
              "      <td>5575</td>\n",
              "      <td>[TABLE, 15]</td>\n",
              "      <td>[O, O]</td>\n",
              "      <td>[0, 0]</td>\n",
              "    </tr>\n",
              "    <tr>\n",
              "      <th>9250</th>\n",
              "      <td>9250</td>\n",
              "      <td>[HOOK, HY-0021]</td>\n",
              "      <td>[O, O]</td>\n",
              "      <td>[0, 0]</td>\n",
              "    </tr>\n",
              "    <tr>\n",
              "      <th>13906</th>\n",
              "      <td>13906</td>\n",
              "      <td>[14/MAY/2017, 02:56:39]</td>\n",
              "      <td>[B-date, O]</td>\n",
              "      <td>[5, 0]</td>\n",
              "    </tr>\n",
              "    <tr>\n",
              "      <th>24384</th>\n",
              "      <td>24384</td>\n",
              "      <td>[GST, @6%, INCLUDED, IN, TOTAL]</td>\n",
              "      <td>[O, O, O, O, O]</td>\n",
              "      <td>[0, 0, 0, 0, 0]</td>\n",
              "    </tr>\n",
              "    <tr>\n",
              "      <th>31867</th>\n",
              "      <td>31867</td>\n",
              "      <td>[TOTAL, :]</td>\n",
              "      <td>[O, O]</td>\n",
              "      <td>[0, 0]</td>\n",
              "    </tr>\n",
              "    <tr>\n",
              "      <th>...</th>\n",
              "      <td>...</td>\n",
              "      <td>...</td>\n",
              "      <td>...</td>\n",
              "      <td>...</td>\n",
              "    </tr>\n",
              "    <tr>\n",
              "      <th>16850</th>\n",
              "      <td>16850</td>\n",
              "      <td>[25., 0]</td>\n",
              "      <td>[O, O]</td>\n",
              "      <td>[0, 0]</td>\n",
              "    </tr>\n",
              "    <tr>\n",
              "      <th>6265</th>\n",
              "      <td>6265</td>\n",
              "      <td>[CHANGE, :]</td>\n",
              "      <td>[O, O]</td>\n",
              "      <td>[0, 0]</td>\n",
              "    </tr>\n",
              "    <tr>\n",
              "      <th>11284</th>\n",
              "      <td>11284</td>\n",
              "      <td>[25.44]</td>\n",
              "      <td>[O]</td>\n",
              "      <td>[0]</td>\n",
              "    </tr>\n",
              "    <tr>\n",
              "      <th>860</th>\n",
              "      <td>860</td>\n",
              "      <td>[100, PLUS, [1.50]]</td>\n",
              "      <td>[O, O, O]</td>\n",
              "      <td>[0, 0, 0]</td>\n",
              "    </tr>\n",
              "    <tr>\n",
              "      <th>15795</th>\n",
              "      <td>15795</td>\n",
              "      <td>[GREEN, PEA, CHEES]</td>\n",
              "      <td>[O, O, O]</td>\n",
              "      <td>[0, 0, 0]</td>\n",
              "    </tr>\n",
              "  </tbody>\n",
              "</table>\n",
              "<p>23532 rows × 4 columns</p>\n",
              "</div>"
            ],
            "text/plain": [
              "       sentence_id                           tokens           labels  \\\n",
              "5575          5575                      [TABLE, 15]           [O, O]   \n",
              "9250          9250                  [HOOK, HY-0021]           [O, O]   \n",
              "13906        13906          [14/MAY/2017, 02:56:39]      [B-date, O]   \n",
              "24384        24384  [GST, @6%, INCLUDED, IN, TOTAL]  [O, O, O, O, O]   \n",
              "31867        31867                       [TOTAL, :]           [O, O]   \n",
              "...            ...                              ...              ...   \n",
              "16850        16850                         [25., 0]           [O, O]   \n",
              "6265          6265                      [CHANGE, :]           [O, O]   \n",
              "11284        11284                          [25.44]              [O]   \n",
              "860            860              [100, PLUS, [1.50]]        [O, O, O]   \n",
              "15795        15795              [GREEN, PEA, CHEES]        [O, O, O]   \n",
              "\n",
              "              ner_tags  \n",
              "5575            [0, 0]  \n",
              "9250            [0, 0]  \n",
              "13906           [5, 0]  \n",
              "24384  [0, 0, 0, 0, 0]  \n",
              "31867           [0, 0]  \n",
              "...                ...  \n",
              "16850           [0, 0]  \n",
              "6265            [0, 0]  \n",
              "11284              [0]  \n",
              "860          [0, 0, 0]  \n",
              "15795        [0, 0, 0]  \n",
              "\n",
              "[23532 rows x 4 columns]"
            ]
          },
          "execution_count": 52,
          "metadata": {},
          "output_type": "execute_result"
        }
      ],
      "source": [
        "train_df"
      ]
    },
    {
      "cell_type": "code",
      "execution_count": 53,
      "metadata": {},
      "outputs": [
        {
          "data": {
            "text/plain": [
              "{'sentence_id': 5575,\n",
              " 'tokens': ['TABLE', '15'],\n",
              " 'labels': ['O', 'O'],\n",
              " 'ner_tags': [0, 0],\n",
              " '__index_level_0__': 5575}"
            ]
          },
          "execution_count": 53,
          "metadata": {},
          "output_type": "execute_result"
        }
      ],
      "source": [
        "train_dataset[0]"
      ]
    },
    {
      "cell_type": "code",
      "execution_count": 54,
      "metadata": {},
      "outputs": [
        {
          "data": {
            "text/plain": [
              "{'sentence_id': 22489,\n",
              " 'tokens': ['S', '=', '6%'],\n",
              " 'labels': ['O', 'O', 'O'],\n",
              " 'ner_tags': [0, 0, 0],\n",
              " '__index_level_0__': 22489}"
            ]
          },
          "execution_count": 54,
          "metadata": {},
          "output_type": "execute_result"
        }
      ],
      "source": [
        "eval_dataset[0]"
      ]
    },
    {
      "cell_type": "code",
      "execution_count": 55,
      "metadata": {},
      "outputs": [
        {
          "data": {
            "text/plain": [
              "{'sentence_id': 6802,\n",
              " 'tokens': ['(81109-A)'],\n",
              " 'labels': ['O'],\n",
              " 'ner_tags': [0],\n",
              " '__index_level_0__': 6802}"
            ]
          },
          "execution_count": 55,
          "metadata": {},
          "output_type": "execute_result"
        }
      ],
      "source": [
        "test_dataset[100]"
      ]
    },
    {
      "cell_type": "markdown",
      "metadata": {},
      "source": [
        "# Tokenization"
      ]
    },
    {
      "cell_type": "code",
      "execution_count": 56,
      "metadata": {},
      "outputs": [],
      "source": [
        "from transformers import AutoTokenizer\n",
        "model_checkpoint =\"dslim/bert-base-NER\"\n",
        "tokenizer = AutoTokenizer.from_pretrained(model_checkpoint)"
      ]
    },
    {
      "cell_type": "code",
      "execution_count": 57,
      "metadata": {},
      "outputs": [],
      "source": [
        "#  Align the number of labels and the tokens\n",
        "def align_labels_with_tokens(labels, word_ids):\n",
        "    new_labels = []\n",
        "    current_word = None\n",
        "    for word_id in word_ids:\n",
        "        if word_id != current_word:\n",
        "            # Start of a new word!\n",
        "            current_word = word_id\n",
        "            label = -100 if word_id is None else labels[word_id]\n",
        "            new_labels.append(label)\n",
        "        elif word_id is None:\n",
        "            # Special token\n",
        "            new_labels.append(-100)\n",
        "        else:\n",
        "            # Same word as previous token\n",
        "            label = labels[word_id]\n",
        "            # If the label is B-XXX we change it to I-XXX\n",
        "            if label % 2 == 1:\n",
        "                label += 1\n",
        "            new_labels.append(label)\n",
        "\n",
        "    return new_labels"
      ]
    },
    {
      "cell_type": "code",
      "execution_count": 58,
      "metadata": {},
      "outputs": [],
      "source": [
        "\n",
        "def tokenize_and_align_labels(examples):\n",
        "    tokenized_inputs = tokenizer(\n",
        "        examples[\"tokens\"], truncation=True, is_split_into_words=True\n",
        "    )\n",
        "    all_labels = examples[\"ner_tags\"]\n",
        "    new_labels = []\n",
        "    for i, labels in enumerate(all_labels):\n",
        "        word_ids = tokenized_inputs.word_ids(i)\n",
        "        new_labels.append(align_labels_with_tokens(labels, word_ids))\n",
        "\n",
        "    tokenized_inputs[\"labels\"] = new_labels\n",
        "    return tokenized_inputs"
      ]
    },
    {
      "cell_type": "code",
      "execution_count": 59,
      "metadata": {},
      "outputs": [
        {
          "name": "stderr",
          "output_type": "stream",
          "text": [
            "Map: 100%|█████████████████████████████████████████████████████████████████████████████████████████████████████████████████████████████████████████████████████████████████████████████████████████████████████████████████████████████████████████████████████████████████████████████████████████████████████████████████████████████████████████████████████████████████████████████████████████████████████████████████████████████████████████████████████████████████████████████████████████████████████████████████████████████████████████████████████████████████████████████████████████████████████████████████████████████████████████████████████████████████████████████████████████████████████████████████████████████████████████████████████████████████████████████████████████████████████████████████████████████████████████████████████████████████████████████████████████████████████████████████████████████████████████████████████████████████████████████| 23532/23532 [00:00<00:00, 53139.53 examples/s]\n"
          ]
        }
      ],
      "source": [
        "# Tokenizer tous les exemples du dataset\n",
        "tokenized_datasets_train = train_dataset.map(\n",
        "    tokenize_and_align_labels,\n",
        "    batched=True,\n",
        ")"
      ]
    },
    {
      "cell_type": "code",
      "execution_count": 60,
      "metadata": {},
      "outputs": [
        {
          "name": "stderr",
          "output_type": "stream",
          "text": [
            "Map: 100%|███████████████████████████████████████████████████████████████████████████████████████████████████████████████████████████████████████████████████████████████████████████████████████████████████████████████████████████████████████████████████████████████████████████████████████████████████████████████████████████████████████████████████████████████████████████████████████████████████████████████████████████████████████████████████████████████████████████████████████████████████████████████████████████████████████████████████████████████████████████████████████████████████████████████████████████████████████████████████████████████████████████████████████████████████████████████████████████████████████████████████████████████████████████████████████████████████████████████████████████████████████████████████████████████████████████████████████████████████████████████████████████████████████████████████████████████████████████████| 5043/5043 [00:00<00:00, 20921.22 examples/s]\n"
          ]
        }
      ],
      "source": [
        "# Tokenizer tous les exemples du dataset\n",
        "tokenized_datasets_eval = eval_dataset.map(\n",
        "    tokenize_and_align_labels,\n",
        "    batched=True,\n",
        ")"
      ]
    },
    {
      "cell_type": "code",
      "execution_count": 61,
      "metadata": {},
      "outputs": [
        {
          "name": "stderr",
          "output_type": "stream",
          "text": [
            "Map: 100%|███████████████████████████████████████████████████████████████████████████████████████████████████████████████████████████████████████████████████████████████████████████████████████████████████████████████████████████████████████████████████████████████████████████████████████████████████████████████████████████████████████████████████████████████████████████████████████████████████████████████████████████████████████████████████████████████████████████████████████████████████████████████████████████████████████████████████████████████████████████████████████████████████████████████████████████████████████████████████████████████████████████████████████████████████████████████████████████████████████████████████████████████████████████████████████████████████████████████████████████████████████████████████████████████████████████████████████████████████████████████████████████████████████████████████████████████████████████████| 5043/5043 [00:00<00:00, 48504.69 examples/s]\n"
          ]
        }
      ],
      "source": [
        "# Tokenizer tous les exemples du dataset\n",
        "tokenized_datasets_test= test_dataset.map(\n",
        "    tokenize_and_align_labels,\n",
        "    batched=True,\n",
        ")"
      ]
    },
    {
      "cell_type": "markdown",
      "metadata": {},
      "source": [
        "# Fine Tuning"
      ]
    },
    {
      "cell_type": "markdown",
      "metadata": {},
      "source": [
        "## Data Collator"
      ]
    },
    {
      "cell_type": "code",
      "execution_count": 62,
      "metadata": {},
      "outputs": [],
      "source": [
        "from transformers import DataCollatorForTokenClassification\n",
        "\n",
        "data_collator = DataCollatorForTokenClassification(tokenizer=tokenizer)"
      ]
    },
    {
      "cell_type": "markdown",
      "metadata": {},
      "source": [
        "## Setup Evaluation"
      ]
    },
    {
      "cell_type": "code",
      "execution_count": 63,
      "metadata": {},
      "outputs": [],
      "source": [
        "import evaluate\n",
        "import numpy as np\n",
        "\n",
        "metric = evaluate.load(\"seqeval\")\n",
        "\n",
        "\n",
        "def compute_metrics(eval_preds):\n",
        "    logits, labels = eval_preds\n",
        "    predictions = np.argmax(logits, axis=-1)\n",
        "\n",
        "    # Remove ignored index (special tokens) and convert to labels\n",
        "    true_labels = [[new_entity_list[l] for l in label if l != -100] for label in labels]\n",
        "    true_predictions = [\n",
        "        [new_entity_list[p] for (p, l) in zip(prediction, label) if l != -100]\n",
        "        for prediction, label in zip(predictions, labels)\n",
        "    ]\n",
        "    all_metrics = metric.compute(predictions=true_predictions, references=true_labels)\n",
        "    return {\n",
        "        \"precision\": all_metrics[\"overall_precision\"],\n",
        "        \"recall\": all_metrics[\"overall_recall\"],\n",
        "        \"f1\": all_metrics[\"overall_f1\"],\n",
        "        \"accuracy\": all_metrics[\"overall_accuracy\"],\n",
        "    }"
      ]
    },
    {
      "cell_type": "code",
      "execution_count": 64,
      "metadata": {},
      "outputs": [],
      "source": [
        "id2label = {i: label for i, label in enumerate(label_list)}\n",
        "label2id = {v: k for k, v in id2label.items()}"
      ]
    },
    {
      "cell_type": "code",
      "execution_count": 65,
      "metadata": {},
      "outputs": [
        {
          "data": {
            "text/plain": [
              "{0: 'O',\n",
              " 1: 'B-company',\n",
              " 2: 'I-company',\n",
              " 3: 'B-address',\n",
              " 4: 'I-address',\n",
              " 5: 'B-date',\n",
              " 6: 'I-date',\n",
              " 7: 'B-total',\n",
              " 8: 'I-total'}"
            ]
          },
          "execution_count": 65,
          "metadata": {},
          "output_type": "execute_result"
        }
      ],
      "source": [
        "id2label"
      ]
    },
    {
      "cell_type": "code",
      "execution_count": 66,
      "metadata": {},
      "outputs": [
        {
          "data": {
            "text/plain": [
              "{'O': 0,\n",
              " 'B-company': 1,\n",
              " 'I-company': 2,\n",
              " 'B-address': 3,\n",
              " 'I-address': 4,\n",
              " 'B-date': 5,\n",
              " 'I-date': 6,\n",
              " 'B-total': 7,\n",
              " 'I-total': 8}"
            ]
          },
          "execution_count": 66,
          "metadata": {},
          "output_type": "execute_result"
        }
      ],
      "source": [
        "label2id"
      ]
    },
    {
      "cell_type": "code",
      "execution_count": 67,
      "metadata": {},
      "outputs": [],
      "source": [
        "from transformers import AutoModelForTokenClassification\n",
        "\n",
        "model = AutoModelForTokenClassification.from_pretrained(\n",
        "    model_checkpoint,\n",
        "    id2label=id2label,\n",
        "    label2id=label2id,\n",
        ")"
      ]
    },
    {
      "cell_type": "code",
      "execution_count": 68,
      "metadata": {},
      "outputs": [
        {
          "data": {
            "text/plain": [
              "9"
            ]
          },
          "execution_count": 68,
          "metadata": {},
          "output_type": "execute_result"
        }
      ],
      "source": [
        "model.config.num_labels"
      ]
    },
    {
      "cell_type": "markdown",
      "metadata": {},
      "source": [
        "# Look at tokenized dictionnary"
      ]
    },
    {
      "cell_type": "code",
      "execution_count": 69,
      "metadata": {},
      "outputs": [
        {
          "data": {
            "text/plain": [
              "Dataset({\n",
              "    features: ['sentence_id', 'tokens', 'labels', 'ner_tags', '__index_level_0__', 'input_ids', 'token_type_ids', 'attention_mask'],\n",
              "    num_rows: 23532\n",
              "})"
            ]
          },
          "execution_count": 69,
          "metadata": {},
          "output_type": "execute_result"
        }
      ],
      "source": [
        "tokenized_datasets_train"
      ]
    },
    {
      "cell_type": "code",
      "execution_count": 70,
      "metadata": {},
      "outputs": [
        {
          "data": {
            "text/plain": [
              "Dataset({\n",
              "    features: ['sentence_id', 'tokens', 'labels', 'ner_tags', '__index_level_0__', 'input_ids', 'token_type_ids', 'attention_mask'],\n",
              "    num_rows: 5043\n",
              "})"
            ]
          },
          "execution_count": 70,
          "metadata": {},
          "output_type": "execute_result"
        }
      ],
      "source": [
        "tokenized_datasets_eval"
      ]
    },
    {
      "cell_type": "code",
      "execution_count": 71,
      "metadata": {},
      "outputs": [
        {
          "data": {
            "text/plain": [
              "{'sentence_id': 5575,\n",
              " 'tokens': ['TABLE', '15'],\n",
              " 'labels': [-100, 0, 0, 0, 0, -100],\n",
              " 'ner_tags': [0, 0],\n",
              " '__index_level_0__': 5575,\n",
              " 'input_ids': [101, 157, 19985, 17516, 1405, 102],\n",
              " 'token_type_ids': [0, 0, 0, 0, 0, 0],\n",
              " 'attention_mask': [1, 1, 1, 1, 1, 1]}"
            ]
          },
          "execution_count": 71,
          "metadata": {},
          "output_type": "execute_result"
        }
      ],
      "source": [
        "tokenized_datasets_train[0]"
      ]
    },
    {
      "cell_type": "code",
      "execution_count": 72,
      "metadata": {},
      "outputs": [
        {
          "data": {
            "text/plain": [
              "{'sentence_id': 13906,\n",
              " 'tokens': ['14/MAY/2017', '02:56:39'],\n",
              " 'labels': [-100, 5, 6, 6, 6, 6, 6, 0, 0, 0, 0, 0, -100],\n",
              " 'ner_tags': [5, 0],\n",
              " '__index_level_0__': 13906,\n",
              " 'input_ids': [101,\n",
              "  1489,\n",
              "  120,\n",
              "  9960,\n",
              "  3663,\n",
              "  120,\n",
              "  1504,\n",
              "  5507,\n",
              "  131,\n",
              "  4376,\n",
              "  131,\n",
              "  3614,\n",
              "  102],\n",
              " 'token_type_ids': [0, 0, 0, 0, 0, 0, 0, 0, 0, 0, 0, 0, 0],\n",
              " 'attention_mask': [1, 1, 1, 1, 1, 1, 1, 1, 1, 1, 1, 1, 1]}"
            ]
          },
          "execution_count": 72,
          "metadata": {},
          "output_type": "execute_result"
        }
      ],
      "source": [
        "tokenized_datasets_train[2]"
      ]
    },
    {
      "cell_type": "code",
      "execution_count": 73,
      "metadata": {},
      "outputs": [
        {
          "data": {
            "text/plain": [
              "{'sentence_id': 26353,\n",
              " 'tokens': ['TOTAL'],\n",
              " 'labels': [-100, 0, 0, 0, -100],\n",
              " 'ner_tags': [0],\n",
              " '__index_level_0__': 26353,\n",
              " 'input_ids': [101, 16972, 9159, 2162, 102],\n",
              " 'token_type_ids': [0, 0, 0, 0, 0],\n",
              " 'attention_mask': [1, 1, 1, 1, 1]}"
            ]
          },
          "execution_count": 73,
          "metadata": {},
          "output_type": "execute_result"
        }
      ],
      "source": [
        "tokenized_datasets_eval[2]"
      ]
    },
    {
      "cell_type": "markdown",
      "metadata": {},
      "source": [
        "# Training"
      ]
    },
    {
      "cell_type": "markdown",
      "metadata": {},
      "source": [
        "Obligée d'augmenter le lergning rate car sinon l'apprentissage aurait prisau moins une journée peut-être d'avantage=> très couteux"
      ]
    },
    {
      "cell_type": "code",
      "execution_count": 74,
      "metadata": {},
      "outputs": [
        {
          "name": "stderr",
          "output_type": "stream",
          "text": [
            "/anaconda/envs/e2_env/lib/python3.10/site-packages/transformers/optimization.py:407: FutureWarning: This implementation of AdamW is deprecated and will be removed in a future version. Use the PyTorch implementation torch.optim.AdamW instead, or set `no_deprecation_warning=True` to disable this warning\n",
            "  warnings.warn(\n",
            "You're using a BertTokenizerFast tokenizer. Please note that with a fast tokenizer, using the `__call__` method is faster than using a method to encode the text followed by a call to the `pad` method to get a padded encoding.\n"
          ]
        },
        {
          "data": {
            "text/html": [
              "\n",
              "    <div>\n",
              "      \n",
              "      <progress value='3' max='58840' style='width:300px; height:20px; vertical-align: middle;'></progress>\n",
              "      [    3/58840 00:00 < 6:01:17, 2.71 it/s, Epoch 0.00/20]\n",
              "    </div>\n",
              "    <table border=\"1\" class=\"dataframe\">\n",
              "  <thead>\n",
              " <tr style=\"text-align: left;\">\n",
              "      <th>Step</th>\n",
              "      <th>Training Loss</th>\n",
              "      <th>Validation Loss</th>\n",
              "    </tr>\n",
              "  </thead>\n",
              "  <tbody>\n",
              "  </tbody>\n",
              "</table><p>"
            ],
            "text/plain": [
              "<IPython.core.display.HTML object>"
            ]
          },
          "metadata": {},
          "output_type": "display_data"
        },
        {
          "data": {
            "text/plain": [
              "TrainOutput(global_step=5500, training_loss=0.21103670154918325, metrics={'train_runtime': 2344.6879, 'train_samples_per_second': 200.726, 'train_steps_per_second': 25.095, 'total_flos': 400168644545664.0, 'train_loss': 0.21103670154918325, 'epoch': 1.87})"
            ]
          },
          "execution_count": 74,
          "metadata": {},
          "output_type": "execute_result"
        }
      ],
      "source": [
        "args = TrainingArguments(\n",
        "    \"bert-finetuned-ner-8\",\n",
        "    evaluation_strategy=\"steps\",\n",
        "    learning_rate=5e-6,\n",
        "    num_train_epochs=20,\n",
        "    weight_decay=0.02,\n",
        "    push_to_hub=False,\n",
        "    metric_for_best_model = 'f1',\n",
        "    load_best_model_at_end=True,\n",
        "    save_strategy=\"steps\"\n",
        ")\n",
        "\n",
        "trainer = Trainer(\n",
        "    model=model,\n",
        "    args=args,\n",
        "    train_dataset=tokenized_datasets_train,\n",
        "    eval_dataset=tokenized_datasets_eval,\n",
        "    data_collator=data_collator,\n",
        "    compute_metrics=compute_metrics,\n",
        "    tokenizer=tokenizer,\n",
        "    callbacks=[EarlyStoppingCallback(early_stopping_patience=3, early_stopping_threshold=0.01)],\n",
        "    \n",
        ")\n",
        "trainer.train()"
      ]
    },
    {
      "cell_type": "markdown",
      "metadata": {},
      "source": [
        "# Graphic representation"
      ]
    },
    {
      "cell_type": "markdown",
      "metadata": {},
      "source": [
        "## Confusion matrix"
      ]
    },
    {
      "cell_type": "code",
      "execution_count": 85,
      "metadata": {},
      "outputs": [
        {
          "data": {
            "text/html": [
              "\n",
              "    <div>\n",
              "      \n",
              "      <progress value='1' max='631' style='width:300px; height:20px; vertical-align: middle;'></progress>\n",
              "      [  1/631 : < :]\n",
              "    </div>\n",
              "    "
            ],
            "text/plain": [
              "<IPython.core.display.HTML object>"
            ]
          },
          "metadata": {},
          "output_type": "display_data"
        }
      ],
      "source": [
        "# Obtenir les prédictions\n",
        "predictions, labels, _ = trainer.predict(tokenized_datasets_test)\n",
        "predictions = np.argmax(predictions, axis=2)"
      ]
    },
    {
      "cell_type": "code",
      "execution_count": 86,
      "metadata": {},
      "outputs": [
        {
          "data": {
            "text/plain": [
              "Text(0.5, 1.0, 'Confusion Matrix après entrainnement V1')"
            ]
          },
          "execution_count": 86,
          "metadata": {},
          "output_type": "execute_result"
        },
        {
          "data": {
            "image/png": "[encoded data removed]",
            "text/plain": [
              "<Figure size 800x800 with 2 Axes>"
            ]
          },
          "metadata": {},
          "output_type": "display_data"
        }
      ],
      "source": [
        "# Aplatir les listes\n",
        "true_labels = []\n",
        "pred_labels = []\n",
        "for i, label in enumerate(labels):\n",
        "    for j, label_id in enumerate(label):\n",
        "        if label_id != -100:  # Ignorer les tokens spéciaux\n",
        "            true_labels.append(label_id)\n",
        "            pred_labels.append(predictions[i][j])\n",
        "\n",
        "# Convertir les indices en étiquettes textuelles (selon votre mapping d'indices)\n",
        "# Vous devez définir `id2label` basé sur votre modèle ou votre Tokenizer\n",
        "true_label_text = [id2label[id] for id in true_labels]\n",
        "pred_label_text = [id2label[id] for id in pred_labels]\n",
        "\n",
        "# Calculer la matrice de confusion\n",
        "conf_matrix = confusion_matrix(true_label_text, pred_label_text, labels=list(id2label.values()))\n",
        "\n",
        "# Sauvegarder le graphique Seaborn dans un fichier image (par exemple, PNG)\n",
        "plt.figure(figsize=(8, 8))\n",
        "sns.heatmap(conf_matrix, annot=True, fmt='d', cmap='Blues', xticklabels=label_list, yticklabels=label_list)\n",
        "plt.xlabel('Predicted')\n",
        "plt.ylabel('True')\n",
        "plt.title('Confusion Matrix après entrainnement V1')"
      ]
    },
    {
      "cell_type": "markdown",
      "metadata": {},
      "source": [
        "## Loss and Accuracy"
      ]
    },
    {
      "cell_type": "code",
      "execution_count": 87,
      "metadata": {},
      "outputs": [
        {
          "data": {
            "image/png": "[encoded data removed]",
            "text/plain": [
              "<Figure size 1000x500 with 1 Axes>"
            ]
          },
          "metadata": {},
          "output_type": "display_data"
        }
      ],
      "source": [
        "# Récupération des métriques d'entraînement\n",
        "train_metrics = trainer.state.log_history\n",
        "\n",
        "# Extraction des métriques spécifiques que vous souhaitez tracer (par exemple, la perte)\n",
        "train_loss = [metric['loss'] for metric in train_metrics if 'loss' in metric]\n",
        "plt.figure(figsize=(10, 5))\n",
        "plt.plot(train_loss, label='Training Loss', marker='o')\n",
        "\n",
        "plt.title('Training and Validation Loss')\n",
        "plt.xlabel('Epoch')\n",
        "plt.ylabel('Loss')\n",
        "plt.legend()\n",
        "plt.show()"
      ]
    },
    {
      "cell_type": "code",
      "execution_count": 88,
      "metadata": {},
      "outputs": [
        {
          "name": "stdout",
          "output_type": "stream",
          "text": [
            "eval_losses [0.3163057565689087, 0.2513985335826874, 0.18078429996967316, 0.1580003947019577, 0.15733668208122253, 0.1490732729434967, 0.16386336088180542, 0.1530078649520874, 0.14317137002944946, 0.15002115070819855, 0.1592816412448883]\n",
            "eval_accuracies: [0.9281731241512814, 0.9397590361445783, 0.9483690156308688, 0.9549854092629511, 0.9568923174713242, 0.9582213747074629, 0.9598104648811072, 0.9625263644506082, 0.9613995550547514, 0.9614573401519748, 0.9585391927421918]\n"
          ]
        }
      ],
      "source": [
        "eval_losses = []\n",
        "eval_accuracies = []\n",
        "\n",
        "for log in trainer.state.log_history:\n",
        "    if 'eval_loss' in log and 'step' in log:  # Métriques d'entraînement\n",
        "        eval_losses.append(log['eval_loss'])\n",
        "   \n",
        "    if 'eval_accuracy' in log:  # Score F1 d'évaluation\n",
        "        eval_accuracies.append(log['eval_accuracy'])\n",
        "\n",
        "# Affichage des métriques récupérées\n",
        "print(\"eval_losses\", eval_losses)\n",
        "print(\"eval_accuracies:\", eval_accuracies)"
      ]
    },
    {
      "cell_type": "code",
      "execution_count": 100,
      "metadata": {},
      "outputs": [
        {
          "data": {
            "image/png": "[encoded data removed]",
            "text/plain": [
              "<Figure size 1000x600 with 1 Axes>"
            ]
          },
          "metadata": {},
          "output_type": "display_data"
        }
      ],
      "source": [
        "import matplotlib.pyplot as plt\n",
        "from matplotlib.ticker import MaxNLocator\n",
        "\n",
        "steps = range(1, len(eval_losses) + 1)\n",
        "\n",
        "plt.figure(figsize=(10, 6))\n",
        "plt.plot(steps, eval_losses, label='Loss', marker='o')\n",
        "plt.plot(steps, eval_accuracies, label='Accuracy', marker='o')\n",
        "plt.title('Loss d\\'entraînement et de validation par époque')\n",
        "plt.xlabel('Steps')\n",
        "plt.ylabel('Value')\n",
        "plt.legend()\n",
        "\n",
        "# Configuration pour forcer l'axe des x à utiliser des entiers\n",
        "# plt.gca().xaxis.set_major_locator(MaxNLocator(integer=True))\n",
        "\n",
        "plt.show()"
      ]
    },
    {
      "cell_type": "markdown",
      "metadata": {},
      "source": [
        "# Save the model"
      ]
    },
    {
      "cell_type": "code",
      "execution_count": 92,
      "metadata": {},
      "outputs": [],
      "source": [
        "saved_model_path='custom_model-8'\n",
        "# trainer.save_model(saved_model_path)"
      ]
    },
    {
      "cell_type": "markdown",
      "metadata": {},
      "source": [
        "# Evaluate"
      ]
    },
    {
      "cell_type": "code",
      "execution_count": 81,
      "metadata": {},
      "outputs": [
        {
          "data": {
            "text/html": [
              "\n",
              "    <div>\n",
              "      \n",
              "      <progress value='1' max='631' style='width:300px; height:20px; vertical-align: middle;'></progress>\n",
              "      [  1/631 : < :]\n",
              "    </div>\n",
              "    "
            ],
            "text/plain": [
              "<IPython.core.display.HTML object>"
            ]
          },
          "metadata": {},
          "output_type": "display_data"
        }
      ],
      "source": [
        "predictions = trainer.predict(tokenized_datasets_eval)"
      ]
    },
    {
      "cell_type": "code",
      "execution_count": 82,
      "metadata": {},
      "outputs": [
        {
          "name": "stdout",
          "output_type": "stream",
          "text": [
            "Metric          Score\n",
            "--------------  -------\n",
            "test_precision  78.97%\n",
            "test_recall     68.88%\n",
            "test_f1         73.58%\n",
            "test_accuracy   96.15%\n"
          ]
        }
      ],
      "source": [
        "from tabulate import tabulate\n",
        "\n",
        "metrics = ['precision', 'recall', 'f1', 'accuracy']\n",
        "prediction_results = []\n",
        "\n",
        "for key, val in predictions.metrics.items():\n",
        "    if any(item in key for item in metrics):\n",
        "        prediction_results.append([key, str(round(val,4)*100)+'%'])\n",
        "\n",
        "print(tabulate(prediction_results, headers=['Metric', 'Score']))"
      ]
    },
    {
      "cell_type": "markdown",
      "metadata": {},
      "source": [
        "# Inference"
      ]
    },
    {
      "cell_type": "code",
      "execution_count": 83,
      "metadata": {},
      "outputs": [],
      "source": [
        "inference= \"\"\"MR. D.I.¥. (KUCHAT) SDN BHD\n",
        "CO-REG:750441-W\n",
        "LOT 1851-A & 1851-B, JALAN KPB 6,\n",
        "KAWASAN PERINDUSTRIAN BALAKONG,\n",
        "43300 SERI KEMBANGAN, SELANGOR\n",
        "(GST ID No :000473792512)\n",
        "(TESCO EXTRA KAJANG)\n",
        "-TAX INVOICE-\n",
        "\n",
        "BOOSTER CABLE XH-500A +*§\n",
        "CE72 - 10\n",
        "9001620 1X 29.90 298,90\n",
        "MOTH BALLS 1506 *§\n",
        "EC21-41-71 - 10/100\n",
        "9063977 1X 2,10 2,10\n",
        "DIY GOLD TWIST DRILL 3MM *§\n",
        "LB22 - 20/1500\n",
        "9071246 1X 2,50 2,50\n",
        "HSS TWIST DRILL 6*160MM *§\n",
        "LG32-42 - 10/400\n",
        "6909906163107 1X 3.30 3,30\n",
        "\n",
        "Item(s) : 4 Qty(s) : 4\n",
        "TOTAL INCL. GSTe6K RM 37.80\n",
        "CASH RM 40.00\n",
        "CHANGE RM 2.20\n",
        "\n",
        "GST Summary Amt(RM) = Tax(RM)\n",
        "GST S@6% 35.66 2.14\n",
        "\n",
        "08-03-17 13:42 SHO1 BO28 = 12 000017473\n",
        "OPERATOR TRAINEE\n",
        "\n",
        "EXCHANGE ARE ALLOWED WITHIN\n",
        "7 DAY WITH RECEIPT.\n",
        "STRICTLY NO CASH REFUND.\n",
        "\n",
        " \n",
        "\n",
        "ee are can\"\"\""
      ]
    },
    {
      "cell_type": "code",
      "execution_count": 93,
      "metadata": {},
      "outputs": [],
      "source": [
        "token_classifier = pipeline(\n",
        "    \"token-classification\", model=saved_model_path, aggregation_strategy=\"simple\"\n",
        ")\n",
        "results = token_classifier(inference)"
      ]
    },
    {
      "cell_type": "code",
      "execution_count": 95,
      "metadata": {},
      "outputs": [
        {
          "name": "stdout",
          "output_type": "stream",
          "text": [
            "Word                        Predictions\n",
            "--------------------------  -------------\n",
            "LOT 1851 - A & 1851 - B     address\n",
            "JALAN KPB 6                 address\n",
            "KAWASAN PERINDUSTRIAN BALA  address\n",
            "43300 SERI KEM              address\n",
            "##AN                        address\n"
          ]
        }
      ],
      "source": [
        "\n",
        "prediction_results = []\n",
        "for each_entity in results:\n",
        "    prediction_results.append([each_entity['word'], each_entity['entity_group']])\n",
        "\n",
        "print(tabulate(prediction_results, headers=['Word', 'Predictions']))"
      ]
    }
  ],
  "metadata": {
    "kernelspec": {
      "display_name": "tata_env",
      "language": "python",
      "name": "python3"
    },
    "language_info": {
      "codemirror_mode": {
        "name": "ipython",
        "version": 3
      },
      "file_extension": ".py",
      "mimetype": "text/x-python",
      "name": "python",
      "nbconvert_exporter": "python",
      "pygments_lexer": "ipython3",
      "version": "3.10.12"
    },
    "microsoft": {
      "ms_spell_check": {
        "ms_spell_check_language": "en"
      }
    },
    "nteract": {
      "version": "nteract-front-end@1.0.0"
    }
  },
  "nbformat": 4,
  "nbformat_minor": 2
}
