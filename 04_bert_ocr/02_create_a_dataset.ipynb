{
 "cells": [
  {
   "cell_type": "markdown",
   "metadata": {},
   "source": [
    "# 01 Create values df"
   ]
  },
  {
   "cell_type": "code",
   "execution_count": 5,
   "metadata": {},
   "outputs": [
    {
     "name": "stdout",
     "output_type": "stream",
     "text": [
      "                                  text_lines        doc_id  line_id\n",
      "0                            tan woon yann\\n  X00016469612        1\n",
      "1                                         \\n  X00016469612        2\n",
      "2           BOOK TA-K (TAMAN DAYA) SDN BHD\\n  X00016469612        3\n",
      "3                                  B94 7-W\\n  X00016469612        4\n",
      "4         NO.5? 55,57 & 59, JALAN SAGU 18,\\n  X00016469612        5\n",
      "...                                      ...           ...      ...\n",
      "29050                                     \\n  X51009453804       27\n",
      "29051                                     \\n  X51009453804       28\n",
      "29052                                     \\n  X51009453804       29\n",
      "29053  For anv enauirv. please contact us:\\n  X51009453804       30\n",
      "29054                                      \f  X51009453804       31\n",
      "\n",
      "[29055 rows x 3 columns]\n"
     ]
    }
   ],
   "source": [
    "import os\n",
    "import pandas as pd\n",
    "\n",
    "txt_data_path = \"/home/e077926/buscode_2023/05_E2_tata/data/SROIE2019/train/text\"\n",
    "df_list = []\n",
    "\n",
    "for txt_file in os.listdir(txt_data_path):\n",
    "    # Construire le chemin complet du fichier texte\n",
    "    txt_file_path = os.path.join(txt_data_path, txt_file)\n",
    "\n",
    "    # Extraire l'ID du document à partir du nom du fichier sans extension\n",
    "    doc_id = os.path.splitext(txt_file)[0]\n",
    "\n",
    "    # Lire les lignes du fichier texte\n",
    "    with open(txt_file_path, 'r') as f:\n",
    "        lines = f.readlines()\n",
    "\n",
    "    # Créer un DataFrame pour les lignes du fichier texte\n",
    "    df_lines = pd.DataFrame({'text_lines': lines})\n",
    "\n",
    "    # Ajouter les colonnes d'ID du document et d'ID de ligne\n",
    "    df_lines['doc_id'] = doc_id\n",
    "    df_lines['line_id'] = df_lines.index + 1  # Index + 1 pour obtenir l'ID de ligne\n",
    "\n",
    "    # Ajouter ce DataFrame à la liste\n",
    "    df_list.append(df_lines)\n",
    "\n",
    "# Concaténer tous les DataFrames dans la liste en un seul DataFrame\n",
    "df = pd.concat(df_list, ignore_index=True)"
   ]
  },
  {
   "cell_type": "code",
   "execution_count": 7,
   "metadata": {},
   "outputs": [
    {
     "data": {
      "text/html": [
       "<div>\n",
       "<style scoped>\n",
       "    .dataframe tbody tr th:only-of-type {\n",
       "        vertical-align: middle;\n",
       "    }\n",
       "\n",
       "    .dataframe tbody tr th {\n",
       "        vertical-align: top;\n",
       "    }\n",
       "\n",
       "    .dataframe thead th {\n",
       "        text-align: right;\n",
       "    }\n",
       "</style>\n",
       "<table border=\"1\" class=\"dataframe\">\n",
       "  <thead>\n",
       "    <tr style=\"text-align: right;\">\n",
       "      <th></th>\n",
       "      <th>text_lines</th>\n",
       "      <th>doc_id</th>\n",
       "      <th>line_id</th>\n",
       "    </tr>\n",
       "  </thead>\n",
       "  <tbody>\n",
       "    <tr>\n",
       "      <th>29050</th>\n",
       "      <td>\\n</td>\n",
       "      <td>X51009453804</td>\n",
       "      <td>27</td>\n",
       "    </tr>\n",
       "    <tr>\n",
       "      <th>29051</th>\n",
       "      <td>\\n</td>\n",
       "      <td>X51009453804</td>\n",
       "      <td>28</td>\n",
       "    </tr>\n",
       "    <tr>\n",
       "      <th>29052</th>\n",
       "      <td>\\n</td>\n",
       "      <td>X51009453804</td>\n",
       "      <td>29</td>\n",
       "    </tr>\n",
       "    <tr>\n",
       "      <th>29053</th>\n",
       "      <td>For anv enauirv. please contact us:\\n</td>\n",
       "      <td>X51009453804</td>\n",
       "      <td>30</td>\n",
       "    </tr>\n",
       "    <tr>\n",
       "      <th>29054</th>\n",
       "      <td></td>\n",
       "      <td>X51009453804</td>\n",
       "      <td>31</td>\n",
       "    </tr>\n",
       "  </tbody>\n",
       "</table>\n",
       "</div>"
      ],
      "text/plain": [
       "                                  text_lines        doc_id  line_id\n",
       "29050                                     \\n  X51009453804       27\n",
       "29051                                     \\n  X51009453804       28\n",
       "29052                                     \\n  X51009453804       29\n",
       "29053  For anv enauirv. please contact us:\\n  X51009453804       30\n",
       "29054                                      \n",
       "  X51009453804       31"
      ]
     },
     "execution_count": 7,
     "metadata": {},
     "output_type": "execute_result"
    }
   ],
   "source": [
    "df.tail()"
   ]
  },
  {
   "cell_type": "code",
   "execution_count": 9,
   "metadata": {},
   "outputs": [],
   "source": [
    "df.to_csv('/home/e077926/buscode_2023/05_E2_tata/data/receipt_raw_df.csv')"
   ]
  },
  {
   "cell_type": "code",
   "execution_count": null,
   "metadata": {},
   "outputs": [],
   "source": []
  },
  {
   "cell_type": "code",
   "execution_count": null,
   "metadata": {},
   "outputs": [],
   "source": []
  }
 ],
 "metadata": {
  "kernelspec": {
   "display_name": "tata_env",
   "language": "python",
   "name": "python3"
  },
  "language_info": {
   "codemirror_mode": {
    "name": "ipython",
    "version": 3
   },
   "file_extension": ".py",
   "mimetype": "text/x-python",
   "name": "python",
   "nbconvert_exporter": "python",
   "pygments_lexer": "ipython3",
   "version": "3.10.12"
  }
 },
 "nbformat": 4,
 "nbformat_minor": 2
}
