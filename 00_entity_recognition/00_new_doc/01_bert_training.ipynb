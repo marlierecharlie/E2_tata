<<<<<<< HEAD
{
 "cells": [
  {
   "cell_type": "markdown",
   "metadata": {},
   "source": [
    "## Load dataset"
   ]
  },
  {
   "cell_type": "code",
   "execution_count": 1,
   "metadata": {},
   "outputs": [
    {
     "name": "stderr",
     "output_type": "stream",
     "text": [
      "/home/e077926/miniconda3/Bib/envs/tata_env/lib/python3.10/site-packages/tqdm/auto.py:21: TqdmWarning: IProgress not found. Please update jupyter and ipywidgets. See https://ipywidgets.readthedocs.io/en/stable/user_install.html\n",
      "  from .autonotebook import tqdm as notebook_tqdm\n"
     ]
    }
   ],
   "source": [
    "from datasets import load_from_disk\n",
    "dataset = load_from_disk('../../data/sroie_dataset.json')"
   ]
  },
  {
   "cell_type": "code",
   "execution_count": 2,
   "metadata": {},
   "outputs": [
    {
     "data": {
      "text/plain": [
       "DatasetDict({\n",
       "    train: Dataset({\n",
       "        features: ['value', 'label'],\n",
       "        num_rows: 2503\n",
       "    })\n",
       "    test: Dataset({\n",
       "        features: ['value', 'label'],\n",
       "        num_rows: 1388\n",
       "    })\n",
       "})"
      ]
     },
     "execution_count": 2,
     "metadata": {},
     "output_type": "execute_result"
    }
   ],
   "source": [
    "dataset"
   ]
  },
  {
   "cell_type": "code",
   "execution_count": 3,
   "metadata": {},
   "outputs": [
    {
     "data": {
      "text/plain": [
       "{'value': 'OJC MARKETING SDN BHD', 'label': 'company'}"
      ]
     },
     "execution_count": 3,
     "metadata": {},
     "output_type": "execute_result"
    }
   ],
   "source": [
    "dataset['test'][0]"
   ]
  },
  {
   "cell_type": "markdown",
   "metadata": {},
   "source": [
    "Digit labels "
   ]
  },
  {
   "cell_type": "code",
   "execution_count": 4,
   "metadata": {},
   "outputs": [],
   "source": [
    "label_list = ['address', 'company', 'date', 'total']\n",
    "label_to_number = {label: i for i, label in enumerate(label_list)}\n",
    "# Supposons que votre dataset a une colonne appelée 'label'\n",
    "def map_labels_to_numbers(example):\n",
    "    example['label'] = label_to_number[example['label']]\n",
    "    return example\n",
    "\n",
    "dataset = dataset.map(map_labels_to_numbers)\n"
   ]
  },
  {
   "cell_type": "code",
   "execution_count": 5,
   "metadata": {},
   "outputs": [
    {
     "data": {
      "text/plain": [
       "{'value': 'OJC MARKETING SDN BHD', 'label': 1}"
      ]
     },
     "execution_count": 5,
     "metadata": {},
     "output_type": "execute_result"
    }
   ],
   "source": [
    "dataset['test'][0]"
   ]
  },
  {
   "cell_type": "code",
   "execution_count": 6,
   "metadata": {},
   "outputs": [
    {
     "name": "stdout",
     "output_type": "stream",
     "text": [
      "Label: address, Number: 0\n",
      "Label: company, Number: 1\n",
      "Label: date, Number: 2\n",
      "Label: total, Number: 3\n"
     ]
    }
   ],
   "source": [
    "label_list = ['address', 'company', 'date', 'total']\n",
    "\n",
    "# Enumérer sur la liste pour créer le dictionnaire\n",
    "label_to_number = {label: i for i, label in enumerate(label_list)}\n",
    "\n",
    "# Test pour vérifier que tous les labels sont des chaînes\n",
    "for label, number in label_to_number.items():\n",
    "    print(f\"Label: {label}, Number: {number}\")\n"
   ]
  },
  {
   "cell_type": "markdown",
   "metadata": {},
   "source": [
    "Décrire le dataset pour le rapport"
   ]
  },
  {
   "cell_type": "code",
   "execution_count": 7,
   "metadata": {},
   "outputs": [],
   "source": [
    "import pandas as pd\n",
    "import datetime\n",
    "from sklearn.metrics import confusion_matrix\n",
    "import seaborn as sns\n",
    "import matplotlib.pyplot as plt\n",
    "\n",
    "\n",
    "# Convertir les ensembles d'entraînement et de test en pandas DataFrame\n",
    "train_df = pd.DataFrame(dataset['train'])\n",
    "test_df = pd.DataFrame(dataset['test'])\n",
    "# Calculer le nombre de classes et la répartition dans l'ensemble d'entraînement\n",
    "num_classes_train = train_df['label'].nunique()\n",
    "class_distribution_train = train_df['label'].value_counts()\n",
    "total_items_train = len(train_df)\n",
    "total_items_test = len(test_df)\n",
    "total_items = total_items_train + total_items_test\n",
    "\n",
    "# Ouvrir le fichier rapport.txt en mode append\n",
    "with open('rapport.txt', \"r+\", encoding='utf-8') as f:\n",
    "        # Lire le contenu actuel du fichier\n",
    "    content = f.read()\n",
    "    # Vérifier si le fichier est vide\n",
    "    if not content:\n",
    "        # Écrire la première partie du descriptif\n",
    "        f.write(\"Descriptif général:\\n\")\n",
    "        f.write(f\"Nombre total de classes : {train_df['label'].nunique()}\\n\\n\")\n",
    "    \n",
    "        # Écrire le reste des informations\n",
    "        f.write(\"Répartition des items dans chaque classe (training set):\\n\")\n",
    "        f.write(f\"{class_distribution_train}\\n\\n\")\n",
    "        \n",
    "        f.write(\"Nombre total d'items dans l'ensemble d'entraînement:\\n\")\n",
    "        f.write(f\"{total_items_train}\\n\")\n",
    "        \n",
    "        f.write(\"Nombre total d'items dans l'ensemble de test:\\n\")\n",
    "        f.write(f\"{total_items_test}\\n\")\n",
    "        \n",
    "        f.write(\"Nombre total d'items:\\n\")\n",
    "        f.write(f\"{total_items}\\n\\n\")\n",
    "        f.close()\n"
   ]
  },
  {
   "cell_type": "markdown",
   "metadata": {},
   "source": [
    "## Tokenize dataset"
   ]
  },
  {
   "cell_type": "code",
   "execution_count": 8,
   "metadata": {},
   "outputs": [],
   "source": [
    "from transformers import AutoTokenizer\n",
    "tokenizer = AutoTokenizer.from_pretrained('distilbert-base-uncased')"
   ]
  },
  {
   "cell_type": "code",
   "execution_count": 9,
   "metadata": {},
   "outputs": [],
   "source": [
    "dataset = dataset.map(lambda x: tokenizer(x['value'], truncation=True), batched=True)"
   ]
  },
  {
   "cell_type": "markdown",
   "metadata": {},
   "source": [
    "Our dataset now contains new keys: input_ids (tokens) and attention_mask (needed for certain models)."
   ]
  },
  {
   "cell_type": "code",
   "execution_count": 10,
   "metadata": {},
   "outputs": [
    {
     "data": {
      "text/plain": [
       "{'value': 'BOOK TA .K (TAMAN DAYA) SDN BHD',\n",
       " 'label': 1,\n",
       " 'input_ids': [101,\n",
       "  2338,\n",
       "  11937,\n",
       "  1012,\n",
       "  1047,\n",
       "  1006,\n",
       "  17214,\n",
       "  2319,\n",
       "  2154,\n",
       "  2050,\n",
       "  1007,\n",
       "  17371,\n",
       "  2078,\n",
       "  1038,\n",
       "  14945,\n",
       "  102],\n",
       " 'attention_mask': [1, 1, 1, 1, 1, 1, 1, 1, 1, 1, 1, 1, 1, 1, 1, 1]}"
      ]
     },
     "execution_count": 10,
     "metadata": {},
     "output_type": "execute_result"
    }
   ],
   "source": [
    "dataset['train'][0]"
   ]
  },
  {
   "cell_type": "markdown",
   "metadata": {},
   "source": [
    "## Loading a model"
   ]
  },
  {
   "cell_type": "code",
   "execution_count": 11,
   "metadata": {},
   "outputs": [
    {
     "name": "stderr",
     "output_type": "stream",
     "text": [
      "Some weights of DistilBertForSequenceClassification were not initialized from the model checkpoint at distilbert-base-uncased and are newly initialized: ['pre_classifier.bias', 'pre_classifier.weight', 'classifier.bias', 'classifier.weight']\n",
      "You should probably TRAIN this model on a down-stream task to be able to use it for predictions and inference.\n"
     ]
    }
   ],
   "source": [
    "from transformers import AutoModelForSequenceClassification\n",
    "model = AutoModelForSequenceClassification.from_pretrained('distilbert-base-uncased', num_labels=4)"
   ]
  },
  {
   "cell_type": "markdown",
   "metadata": {},
   "source": [
    "## Make inferences"
   ]
  },
  {
   "cell_type": "code",
   "execution_count": 12,
   "metadata": {},
   "outputs": [],
   "source": [
    "import torch\n",
    "\n",
    "def get_topic(sentence, tokenize=tokenizer, model=model, label_list=label_list):\n",
    "    # tokenize the input\n",
    "    inputs = tokenizer(sentence, return_tensors='pt')\n",
    "    # ensure model and inputs are on the same device (GPU)\n",
    "    inputs = {name: tensor.cuda() for name, tensor in inputs.items()}\n",
    "    model = model.cuda()\n",
    "    # get prediction - 10 classes \"probabilities\" (not really true because they still need to be normalized)\n",
    "    with torch.no_grad():\n",
    "        predictions = model(**inputs)[0].cpu().numpy()\n",
    "    # get the top prediction class and convert it to its associated label\n",
    "    top_prediction = predictions.argmax().item()\n",
    "    \n",
    "    # Access the label directly from the label_list\n",
    "    return label_list[top_prediction]\n"
   ]
  },
  {
   "cell_type": "code",
   "execution_count": 13,
   "metadata": {},
   "outputs": [
    {
     "data": {
      "text/plain": [
       "'total'"
      ]
     },
     "execution_count": 13,
     "metadata": {},
     "output_type": "execute_result"
    }
   ],
   "source": [
    "get_topic('Darty')"
   ]
  },
  {
   "cell_type": "markdown",
   "metadata": {},
   "source": [
    "Ici la prédition est mauvaise, un réentrainement peut donc être intéressant. Penser à benchmarker avec tout le jeu de test"
   ]
  },
  {
   "cell_type": "markdown",
   "metadata": {},
   "source": [
    "## Training the model"
   ]
  },
  {
   "cell_type": "code",
   "execution_count": 14,
   "metadata": {},
   "outputs": [],
   "source": [
    "from transformers import Trainer, TrainingArguments\n",
    "\n",
    "args = TrainingArguments(                   \n",
    "    output_dir = 'topic_classification',    # output directory\n",
    "    evaluation_strategy = 'steps',          # check evaluation metrics at each epoch\n",
    "    learning_rate = 5e-5,                   # we can customize learning rate\n",
    "    max_steps = 5000,\n",
    "    logging_steps = 200,                    # we will log every 100 steps\n",
    "    eval_steps = 10000,                      # we will perform evaluation every 500 steps\n",
    "    save_steps = 20000,\n",
    "    per_device_train_batch_size = 8,\n",
    "    load_best_model_at_end = True,\n",
    "    metric_for_best_model = 'accuracy',\n",
    "    run_name = 'custom_training'            # name of the W&B run\n",
    ")"
   ]
  },
  {
   "cell_type": "code",
   "execution_count": 15,
   "metadata": {},
   "outputs": [
    {
     "name": "stderr",
     "output_type": "stream",
     "text": [
      "/tmp/ipykernel_18027/2995370498.py:4: FutureWarning: load_metric is deprecated and will be removed in the next major version of datasets. Use 'evaluate.load' instead, from the new library 🤗 Evaluate: https://huggingface.co/docs/evaluate\n",
      "  accuracy_metric = load_metric(\"accuracy\")\n"
     ]
    }
   ],
   "source": [
    "from datasets import load_metric\n",
    "import numpy as np\n",
    "\n",
    "accuracy_metric = load_metric(\"accuracy\")\n",
    "\n",
    "def compute_metrics(eval_pred):\n",
    "    predictions, labels = eval_pred\n",
    "    predictions = np.argmax(predictions, axis=1)\n",
    "    # metrics from the datasets library have a `compute` method\n",
    "    return accuracy_metric.compute(predictions=predictions, references=labels)"
   ]
  },
  {
   "cell_type": "code",
   "execution_count": 16,
   "metadata": {},
   "outputs": [],
   "source": [
    "trainer = Trainer(\n",
    "    model = model,                  # model to be trained\n",
    "    args = args,                    # training args\n",
    "    train_dataset=dataset['train'],\n",
    "    eval_dataset=dataset['test'],\n",
    "    tokenizer=tokenizer,            # for padding batched data\n",
    "    compute_metrics=compute_metrics # for custom metrics\n",
    ")"
   ]
  },
  {
   "cell_type": "code",
   "execution_count": 17,
   "metadata": {},
   "outputs": [
    {
     "name": "stderr",
     "output_type": "stream",
     "text": [
      "You're using a DistilBertTokenizerFast tokenizer. Please note that with a fast tokenizer, using the `__call__` method is faster than using a method to encode the text followed by a call to the `pad` method to get a padded encoding.\n"
     ]
    },
    {
     "data": {
      "text/html": [],
      "text/plain": [
       "<IPython.core.display.HTML object>"
      ]
     },
     "metadata": {},
     "output_type": "display_data"
    }
   ],
   "source": [
    "evaluation_avant_entrainement= trainer.evaluate()"
   ]
  },
  {
   "cell_type": "code",
   "execution_count": 18,
   "metadata": {},
   "outputs": [
    {
     "data": {
      "text/plain": [
       "{'eval_loss': 1.3916114568710327,\n",
       " 'eval_accuracy': 0.2687319884726225,\n",
       " 'eval_runtime': 5.0507,\n",
       " 'eval_samples_per_second': 274.815,\n",
       " 'eval_steps_per_second': 34.451}"
      ]
     },
     "execution_count": 18,
     "metadata": {},
     "output_type": "execute_result"
    }
   ],
   "source": [
    "evaluation_avant_entrainement"
   ]
  },
  {
   "cell_type": "markdown",
   "metadata": {},
   "source": [
    "On fait déjà une évaluation des capacités du modèle avant entraînement :"
   ]
  },
  {
   "cell_type": "markdown",
   "metadata": {},
   "source": [
    "Saugrader ces informations dans un fichier "
   ]
  },
  {
   "cell_type": "code",
   "execution_count": 19,
   "metadata": {},
   "outputs": [],
   "source": [
    "def register_results(content_func, evaluation_descr, version:str):\n",
    "    with open('rapport.txt', \"r+\", encoding='utf-8') as f:\n",
    "        # Lire le contenu actuel du fichier\n",
    "        file_content = f.read()\n",
    "        if not file_content:\n",
    "            pass\n",
    "            # plus tard ajouter une fonction pour mettre un titre au rapport\n",
    "        else:\n",
    "            # Si le fichier n'est pas vide, positionnez le pointeur de fichier à la fin\n",
    "            f.seek(0, 2)\n",
    "            content_func(f,evaluation_descr, version)"
   ]
  },
  {
   "cell_type": "code",
   "execution_count": 20,
   "metadata": {},
   "outputs": [],
   "source": [
    "def resultats_avant_entrainement(f,evaluation_descr, version:str):\n",
    "    \"\"\"cette fonction indique les résultats et complète le rapport, elle est destinée à être imbriquée dans la fonction register results \"\"\"\n",
    "    # Écrire la première partie du descriptif\n",
    "    f.write(f\"Résultats du {datetime.datetime.now()} avant entrainement:\\n\")\n",
    "\n",
    "    # Enregistrez la sortie de l'évaluation dans le fichier\n",
    "    trainer_output = evaluation_descr\n",
    "    f.write(f\"{trainer_output}\\n\\n\")\n",
    "\n",
    "    # matrice de confusion\n",
    "    results = trainer.predict(trainer.eval_dataset)\n",
    "\n",
    "    # Récupérer les prédictions et les vraies étiquettes\n",
    "    predictions = np.argmax(results.predictions, axis=1)\n",
    "    labels = results.label_ids\n",
    "\n",
    "    # Calculer la matrice de confusion\n",
    "    conf_matrix = confusion_matrix(labels, predictions)\n",
    "\n",
    "    # Enregistrez la matrice de confusion dans le fichier\n",
    "    f.write(\"Matrice de confusion:\\n\")\n",
    "    f.write(f\"{conf_matrix}\\n\\n\")\n",
    "\n",
    "    # Sauvegarder le graphique Seaborn dans un fichier image (par exemple, PNG)\n",
    "    plt.figure(figsize=(8, 8))\n",
    "    sns.heatmap(conf_matrix, annot=True, fmt='d', cmap='Blues', xticklabels=label_list, yticklabels=label_list)\n",
    "    plt.xlabel('Predicted')\n",
    "    plt.ylabel('True')\n",
    "    plt.title('Confusion Matrix')\n",
    "    plt.savefig(f'assets/confusion_matrix/confusion_matrix_eval_avant_entrainement{version}.png')\n",
    "    plt.close()\n",
    "\n",
    "    # Inclure le lien vers l'image dans le fichier\n",
    "    f.write(\"Affichage de la matrice de confusion (graphique):\\n\")\n",
    "    f.write(\"![Matrice de confusion](assets/confusion_matrix/confusion_matrix_eval_avant_entrainement.png)\\n\\n\")\n",
    "    f.close()"
   ]
  },
  {
   "cell_type": "code",
   "execution_count": 21,
   "metadata": {},
   "outputs": [],
   "source": [
    "register_results(resultats_avant_entrainement, evaluation_avant_entrainement, \"v1\")"
   ]
  },
  {
   "cell_type": "markdown",
   "metadata": {},
   "source": [
    "Le mieux serait de tout stocker dans un markdown mais plus tard. "
   ]
  },
  {
   "cell_type": "markdown",
   "metadata": {},
   "source": [
    "### entrainer le modèle "
   ]
  },
  {
   "cell_type": "code",
   "execution_count": 19,
   "metadata": {},
   "outputs": [
    {
     "data": {
      "text/html": [
       "\n",
       "    <div>\n",
       "      \n",
       "      <progress value='5000' max='5000' style='width:300px; height:20px; vertical-align: middle;'></progress>\n",
       "      [5000/5000 11:24, Epoch 15/16]\n",
       "    </div>\n",
       "    <table border=\"1\" class=\"dataframe\">\n",
       "  <thead>\n",
       " <tr style=\"text-align: left;\">\n",
       "      <th>Step</th>\n",
       "      <th>Training Loss</th>\n",
       "      <th>Validation Loss</th>\n",
       "    </tr>\n",
       "  </thead>\n",
       "  <tbody>\n",
       "  </tbody>\n",
       "</table><p>"
      ],
      "text/plain": [
       "<IPython.core.display.HTML object>"
      ]
     },
     "metadata": {},
     "output_type": "display_data"
    },
    {
     "data": {
      "text/plain": [
       "TrainOutput(global_step=5000, training_loss=0.00617556229797192, metrics={'train_runtime': 684.9665, 'train_samples_per_second': 58.397, 'train_steps_per_second': 7.3, 'total_flos': 308573371407000.0, 'train_loss': 0.00617556229797192, 'epoch': 15.97})"
      ]
     },
     "execution_count": 19,
     "metadata": {},
     "output_type": "execute_result"
    }
   ],
   "source": [
    "trainer.train()"
   ]
  },
  {
   "cell_type": "markdown",
   "metadata": {},
   "source": [
    "quels résultats?"
   ]
  },
  {
   "cell_type": "code",
   "execution_count": 27,
   "metadata": {},
   "outputs": [
    {
     "data": {
      "text/plain": [
       "PredictionOutput(predictions=array([[-3.9824398,  9.421585 , -4.3907547, -4.3478537],\n",
       "       [-3.82874  , -3.9639869,  9.919157 , -3.8304389],\n",
       "       [ 8.717508 , -3.918959 , -4.5790553, -4.6337614],\n",
       "       ...,\n",
       "       [-3.8469176, -3.9546168,  9.92428  , -3.843052 ],\n",
       "       [ 8.717218 , -3.9087644, -4.5963993, -4.6195803],\n",
       "       [-4.0607524, -4.172217 , -3.4870121,  8.968289 ]], dtype=float32), label_ids=array([1, 2, 0, ..., 2, 0, 3]), metrics={'test_loss': 0.009183484129607677, 'test_accuracy': 0.9992795389048992, 'test_runtime': 5.1764, 'test_samples_per_second': 268.138, 'test_steps_per_second': 33.614})"
      ]
     },
     "execution_count": 27,
     "metadata": {},
     "output_type": "execute_result"
    }
   ],
   "source": [
    "# matrice de confusion\n",
    "trained_results = trainer.predict(trainer.eval_dataset)\n",
    "\n",
    "# Récupérer les prédictions et les vraies étiquettes\n",
    "trained_predictions = np.argmax(trained_results.predictions, axis=1)\n",
    "labels = trained_results.label_ids\n",
    "\n",
    "# Calculer la matrice de confusion\n",
    "conf_matrix = confusion_matrix(labels, trained_predictions)\n",
    "\n",
    "trained_results"
   ]
  },
  {
   "cell_type": "code",
   "execution_count": 30,
   "metadata": {},
   "outputs": [
    {
     "data": {
      "text/plain": [
       "{'test_loss': 0.009183484129607677,\n",
       " 'test_accuracy': 0.9992795389048992,\n",
       " 'test_runtime': 5.1764,\n",
       " 'test_samples_per_second': 268.138,\n",
       " 'test_steps_per_second': 33.614}"
      ]
     },
     "execution_count": 30,
     "metadata": {},
     "output_type": "execute_result"
    }
   ],
   "source": [
    "trained_results.metrics"
   ]
  },
  {
   "cell_type": "code",
   "execution_count": 29,
   "metadata": {},
   "outputs": [
    {
     "data": {
      "image/png": "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",
      "text/plain": [
       "<Figure size 800x800 with 2 Axes>"
      ]
     },
     "metadata": {},
     "output_type": "display_data"
    }
   ],
   "source": [
    "# Sauvegarder le graphique Seaborn dans un fichier image (par exemple, PNG)\n",
    "plt.figure(figsize=(8, 8))\n",
    "sns.heatmap(conf_matrix, annot=True, fmt='d', cmap='Blues', xticklabels=label_list, yticklabels=label_list)\n",
    "plt.xlabel('Predicted')\n",
    "plt.ylabel('True')\n",
    "plt.title('Confusion Matrix après entrainnement V1')"
   ]
  },
  {
   "cell_type": "code",
   "execution_count": 53,
   "metadata": {},
   "outputs": [],
   "source": [
    "def resultats_apres_entrainement(f,evaluation_descr, version:str):\n",
    "    \"\"\"cette fonction indique les résultats et complète le rapport, elle est destinée à être imbriquée dans la fonction register results \"\"\"\n",
    "    # Écrire la première partie du descriptif\n",
    "    f.write(f\"Résultats du {datetime.datetime.now()} après entrainement:\\n\")\n",
    "\n",
    "    # Enregistrez la sortie de l'évaluation dans le fichier\n",
    "    trainer_output = evaluation_descr\n",
    "    f.write(f\"{trainer_output}\\n\\n\")\n",
    "\n",
    "    # matrice de confusion\n",
    "    results = trainer.predict(trainer.eval_dataset)\n",
    "\n",
    "    # Récupérer les prédictions et les vraies étiquettes\n",
    "    predictions = np.argmax(results.predictions, axis=1)\n",
    "    labels = results.label_ids\n",
    "\n",
    "    # Calculer la matrice de confusion\n",
    "    conf_matrix = confusion_matrix(labels, predictions)\n",
    "\n",
    "    # Enregistrez la matrice de confusion dans le fichier\n",
    "    f.write(\"Matrice de confusion après entrainement:\\n\")\n",
    "    f.write(f\"{conf_matrix}\\n\\n\")\n",
    "\n",
    "    # Sauvegarder le graphique Seaborn dans un fichier image (par exemple, PNG)\n",
    "    plt.figure(figsize=(8, 8))\n",
    "    sns.heatmap(conf_matrix, annot=True, fmt='d', cmap='Blues', xticklabels=label_list, yticklabels=label_list)\n",
    "    plt.xlabel('Predicted')\n",
    "    plt.ylabel('True')\n",
    "    plt.title('Confusion Matrix after training')\n",
    "    plt.savefig(f'assets/confusion_matrix/confusion_matrix_eval_apres_entrainement{version}.png')\n",
    "    plt.close()\n",
    "    # sauvegarder le modèle\n",
    "    # trainer.save_model('./models/trained_distilbert-base-uncased_step_1_{version}/')"
   ]
  },
  {
   "cell_type": "code",
   "execution_count": 54,
   "metadata": {},
   "outputs": [
    {
     "data": {
      "text/html": [],
      "text/plain": [
       "<IPython.core.display.HTML object>"
      ]
     },
     "metadata": {},
     "output_type": "display_data"
    }
   ],
   "source": [
    "register_results(resultats_apres_entrainement, trained_results.metrics, \"v1\")"
   ]
  },
  {
   "cell_type": "markdown",
   "metadata": {},
   "source": [
    "Obtenir les courbes d'entraînement "
   ]
  },
  {
   "cell_type": "code",
   "execution_count": 108,
   "metadata": {},
   "outputs": [
    {
     "data": {
      "image/png": "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",
      "text/plain": [
       "<Figure size 640x480 with 2 Axes>"
      ]
     },
     "metadata": {},
     "output_type": "display_data"
    }
   ],
   "source": [
    "# Tracer la perte et le taux d'apprentissage\n",
    "fig, ax1 = plt.subplots()\n",
    "\n",
    "color = 'tab:red'\n",
    "ax1.set_xlabel('Step')\n",
    "ax1.set_ylabel('Loss', color=color)\n",
    "ax1.plot(data['step'], data['loss'], color=color)\n",
    "ax1.tick_params(axis='y', labelcolor=color)\n",
    "\n",
    "ax2 = ax1.twinx()  \n",
    "color = 'tab:blue'\n",
    "ax2.set_ylabel('Learning Rate', color=color)  \n",
    "ax2.plot(data['step'], data['learning_rate'], color=color)\n",
    "ax2.tick_params(axis='y', labelcolor=color)\n",
    "\n",
    "fig.tight_layout()  \n",
    "plt.title('Loss and Learning Rate Over Training Steps')\n",
    "plt.savefig(f'assets/confusion_matrix/loss_and_earning_rate_over_training_steps_v1.png')"
   ]
  },
  {
   "cell_type": "markdown",
   "metadata": {},
   "source": [
    "la prochaine fois ce serai bien d'ajouter l'accuracy!"
   ]
  },
  {
   "cell_type": "markdown",
   "metadata": {},
   "source": [
    "Et un schuffle pour l'entrainement et le test! dans les paramètres d'entrainement"
   ]
  },
  {
   "cell_type": "markdown",
   "metadata": {},
   "source": [
    "un graphique de l'accuracy du jeu de test \n",
    "un graphic du learnin rate de train\n",
    "un graphic avec la loss pour le train et l'eval? "
   ]
  },
  {
   "cell_type": "code",
   "execution_count": 105,
   "metadata": {},
   "outputs": [],
   "source": [
    "plt.savefig(f'assets/confusion_matrix/loss_and_earning_rate_over_training_steps.png')\n",
    "plt.close()"
   ]
  }
 ],
 "metadata": {
  "kernelspec": {
   "display_name": "tata_env",
   "language": "python",
   "name": "python3"
  },
  "language_info": {
   "codemirror_mode": {
    "name": "ipython",
    "version": 3
   },
   "file_extension": ".py",
   "mimetype": "text/x-python",
   "name": "python",
   "nbconvert_exporter": "python",
   "pygments_lexer": "ipython3",
   "version": "3.10.12"
  }
 },
 "nbformat": 4,
 "nbformat_minor": 2
}
=======
{
 "cells": [
  {
   "cell_type": "markdown",
   "metadata": {},
   "source": [
    "## Load dataset"
   ]
  },
  {
   "cell_type": "code",
   "execution_count": 1,
   "metadata": {},
   "outputs": [
    {
     "name": "stderr",
     "output_type": "stream",
     "text": [
      "/home/e077926/miniconda3/Bib/envs/tata_env/lib/python3.10/site-packages/tqdm/auto.py:21: TqdmWarning: IProgress not found. Please update jupyter and ipywidgets. See https://ipywidgets.readthedocs.io/en/stable/user_install.html\n",
      "  from .autonotebook import tqdm as notebook_tqdm\n"
     ]
    }
   ],
   "source": [
    "from datasets import load_from_disk\n",
    "dataset = load_from_disk('../../data/sroie_dataset.json')"
   ]
  },
  {
   "cell_type": "code",
   "execution_count": 2,
   "metadata": {},
   "outputs": [
    {
     "data": {
      "text/plain": [
       "DatasetDict({\n",
       "    train: Dataset({\n",
       "        features: ['value', 'label'],\n",
       "        num_rows: 2503\n",
       "    })\n",
       "    test: Dataset({\n",
       "        features: ['value', 'label'],\n",
       "        num_rows: 1388\n",
       "    })\n",
       "})"
      ]
     },
     "execution_count": 2,
     "metadata": {},
     "output_type": "execute_result"
    }
   ],
   "source": [
    "dataset"
   ]
  },
  {
   "cell_type": "code",
   "execution_count": 3,
   "metadata": {},
   "outputs": [
    {
     "data": {
      "text/plain": [
       "{'value': 'OJC MARKETING SDN BHD', 'label': 'company'}"
      ]
     },
     "execution_count": 3,
     "metadata": {},
     "output_type": "execute_result"
    }
   ],
   "source": [
    "dataset['test'][0]"
   ]
  },
  {
   "cell_type": "markdown",
   "metadata": {},
   "source": [
    "Digit labels "
   ]
  },
  {
   "cell_type": "code",
   "execution_count": 4,
   "metadata": {},
   "outputs": [],
   "source": [
    "label_list = ['address', 'company', 'date', 'total']\n",
    "label_to_number = {label: i for i, label in enumerate(label_list)}\n",
    "# Supposons que votre dataset a une colonne appelée 'label'\n",
    "def map_labels_to_numbers(example):\n",
    "    example['label'] = label_to_number[example['label']]\n",
    "    return example\n",
    "\n",
    "dataset = dataset.map(map_labels_to_numbers)\n"
   ]
  },
  {
   "cell_type": "code",
   "execution_count": 5,
   "metadata": {},
   "outputs": [
    {
     "data": {
      "text/plain": [
       "{'value': 'OJC MARKETING SDN BHD', 'label': 1}"
      ]
     },
     "execution_count": 5,
     "metadata": {},
     "output_type": "execute_result"
    }
   ],
   "source": [
    "dataset['test'][0]"
   ]
  },
  {
   "cell_type": "code",
   "execution_count": 6,
   "metadata": {},
   "outputs": [
    {
     "name": "stdout",
     "output_type": "stream",
     "text": [
      "Label: address, Number: 0\n",
      "Label: company, Number: 1\n",
      "Label: date, Number: 2\n",
      "Label: total, Number: 3\n"
     ]
    }
   ],
   "source": [
    "label_list = ['address', 'company', 'date', 'total']\n",
    "\n",
    "# Enumérer sur la liste pour créer le dictionnaire\n",
    "label_to_number = {label: i for i, label in enumerate(label_list)}\n",
    "\n",
    "# Test pour vérifier que tous les labels sont des chaînes\n",
    "for label, number in label_to_number.items():\n",
    "    print(f\"Label: {label}, Number: {number}\")\n"
   ]
  },
  {
   "cell_type": "markdown",
   "metadata": {},
   "source": [
    "Décrire le dataset pour le rapport"
   ]
  },
  {
   "cell_type": "code",
   "execution_count": 7,
   "metadata": {},
   "outputs": [],
   "source": [
    "import pandas as pd\n",
    "import datetime\n",
    "from sklearn.metrics import confusion_matrix\n",
    "import seaborn as sns\n",
    "import matplotlib.pyplot as plt\n",
    "\n",
    "\n",
    "# Convertir les ensembles d'entraînement et de test en pandas DataFrame\n",
    "train_df = pd.DataFrame(dataset['train'])\n",
    "test_df = pd.DataFrame(dataset['test'])\n",
    "# Calculer le nombre de classes et la répartition dans l'ensemble d'entraînement\n",
    "num_classes_train = train_df['label'].nunique()\n",
    "class_distribution_train = train_df['label'].value_counts()\n",
    "total_items_train = len(train_df)\n",
    "total_items_test = len(test_df)\n",
    "total_items = total_items_train + total_items_test\n",
    "\n",
    "# Ouvrir le fichier rapport.txt en mode append\n",
    "with open('rapport.txt', \"r+\", encoding='utf-8') as f:\n",
    "        # Lire le contenu actuel du fichier\n",
    "    content = f.read()\n",
    "    # Vérifier si le fichier est vide\n",
    "    if not content:\n",
    "        # Écrire la première partie du descriptif\n",
    "        f.write(\"Descriptif général:\\n\")\n",
    "        f.write(f\"Nombre total de classes : {train_df['label'].nunique()}\\n\\n\")\n",
    "    \n",
    "        # Écrire le reste des informations\n",
    "        f.write(\"Répartition des items dans chaque classe (training set):\\n\")\n",
    "        f.write(f\"{class_distribution_train}\\n\\n\")\n",
    "        \n",
    "        f.write(\"Nombre total d'items dans l'ensemble d'entraînement:\\n\")\n",
    "        f.write(f\"{total_items_train}\\n\")\n",
    "        \n",
    "        f.write(\"Nombre total d'items dans l'ensemble de test:\\n\")\n",
    "        f.write(f\"{total_items_test}\\n\")\n",
    "        \n",
    "        f.write(\"Nombre total d'items:\\n\")\n",
    "        f.write(f\"{total_items}\\n\\n\")\n",
    "        f.close()\n"
   ]
  },
  {
   "cell_type": "markdown",
   "metadata": {},
   "source": [
    "## Tokenize dataset"
   ]
  },
  {
   "cell_type": "code",
   "execution_count": 8,
   "metadata": {},
   "outputs": [],
   "source": [
    "from transformers import AutoTokenizer\n",
    "tokenizer = AutoTokenizer.from_pretrained('distilbert-base-uncased')"
   ]
  },
  {
   "cell_type": "code",
   "execution_count": 9,
   "metadata": {},
   "outputs": [],
   "source": [
    "dataset = dataset.map(lambda x: tokenizer(x['value'], truncation=True), batched=True)"
   ]
  },
  {
   "cell_type": "markdown",
   "metadata": {},
   "source": [
    "Our dataset now contains new keys: input_ids (tokens) and attention_mask (needed for certain models)."
   ]
  },
  {
   "cell_type": "code",
   "execution_count": 10,
   "metadata": {},
   "outputs": [
    {
     "data": {
      "text/plain": [
       "{'value': 'BOOK TA .K (TAMAN DAYA) SDN BHD',\n",
       " 'label': 1,\n",
       " 'input_ids': [101,\n",
       "  2338,\n",
       "  11937,\n",
       "  1012,\n",
       "  1047,\n",
       "  1006,\n",
       "  17214,\n",
       "  2319,\n",
       "  2154,\n",
       "  2050,\n",
       "  1007,\n",
       "  17371,\n",
       "  2078,\n",
       "  1038,\n",
       "  14945,\n",
       "  102],\n",
       " 'attention_mask': [1, 1, 1, 1, 1, 1, 1, 1, 1, 1, 1, 1, 1, 1, 1, 1]}"
      ]
     },
     "execution_count": 10,
     "metadata": {},
     "output_type": "execute_result"
    }
   ],
   "source": [
    "dataset['train'][0]"
   ]
  },
  {
   "cell_type": "markdown",
   "metadata": {},
   "source": [
    "## Loading a model"
   ]
  },
  {
   "cell_type": "code",
   "execution_count": 11,
   "metadata": {},
   "outputs": [
    {
     "name": "stderr",
     "output_type": "stream",
     "text": [
      "Some weights of DistilBertForSequenceClassification were not initialized from the model checkpoint at distilbert-base-uncased and are newly initialized: ['pre_classifier.bias', 'pre_classifier.weight', 'classifier.bias', 'classifier.weight']\n",
      "You should probably TRAIN this model on a down-stream task to be able to use it for predictions and inference.\n"
     ]
    }
   ],
   "source": [
    "from transformers import AutoModelForSequenceClassification\n",
    "model = AutoModelForSequenceClassification.from_pretrained('distilbert-base-uncased', num_labels=4)"
   ]
  },
  {
   "cell_type": "markdown",
   "metadata": {},
   "source": [
    "## Make inferences"
   ]
  },
  {
   "cell_type": "code",
   "execution_count": 12,
   "metadata": {},
   "outputs": [],
   "source": [
    "import torch\n",
    "\n",
    "def get_topic(sentence, tokenize=tokenizer, model=model, label_list=label_list):\n",
    "    # tokenize the input\n",
    "    inputs = tokenizer(sentence, return_tensors='pt')\n",
    "    # ensure model and inputs are on the same device (GPU)\n",
    "    inputs = {name: tensor.cuda() for name, tensor in inputs.items()}\n",
    "    model = model.cuda()\n",
    "    # get prediction - 10 classes \"probabilities\" (not really true because they still need to be normalized)\n",
    "    with torch.no_grad():\n",
    "        predictions = model(**inputs)[0].cpu().numpy()\n",
    "    # get the top prediction class and convert it to its associated label\n",
    "    top_prediction = predictions.argmax().item()\n",
    "    \n",
    "    # Access the label directly from the label_list\n",
    "    return label_list[top_prediction]\n"
   ]
  },
  {
   "cell_type": "code",
   "execution_count": 13,
   "metadata": {},
   "outputs": [
    {
     "data": {
      "text/plain": [
       "'total'"
      ]
     },
     "execution_count": 13,
     "metadata": {},
     "output_type": "execute_result"
    }
   ],
   "source": [
    "get_topic('Darty')"
   ]
  },
  {
   "cell_type": "markdown",
   "metadata": {},
   "source": [
    "Ici la prédition est mauvaise, un réentrainement peut donc être intéressant. Penser à benchmarker avec tout le jeu de test"
   ]
  },
  {
   "cell_type": "markdown",
   "metadata": {},
   "source": [
    "## Training the model"
   ]
  },
  {
   "cell_type": "code",
   "execution_count": 14,
   "metadata": {},
   "outputs": [],
   "source": [
    "from transformers import Trainer, TrainingArguments\n",
    "\n",
    "args = TrainingArguments(                   \n",
    "    output_dir = 'topic_classification',    # output directory\n",
    "    evaluation_strategy = 'steps',          # check evaluation metrics at each epoch\n",
    "    learning_rate = 5e-5,                   # we can customize learning rate\n",
    "    max_steps = 5000,\n",
    "    logging_steps = 200,                    # we will log every 100 steps\n",
    "    eval_steps = 10000,                      # we will perform evaluation every 500 steps\n",
    "    save_steps = 20000,\n",
    "    per_device_train_batch_size = 8,\n",
    "    load_best_model_at_end = True,\n",
    "    metric_for_best_model = 'accuracy',\n",
    "    run_name = 'custom_training'            # name of the W&B run\n",
    ")"
   ]
  },
  {
   "cell_type": "code",
   "execution_count": 15,
   "metadata": {},
   "outputs": [
    {
     "name": "stderr",
     "output_type": "stream",
     "text": [
      "/tmp/ipykernel_18027/2995370498.py:4: FutureWarning: load_metric is deprecated and will be removed in the next major version of datasets. Use 'evaluate.load' instead, from the new library 🤗 Evaluate: https://huggingface.co/docs/evaluate\n",
      "  accuracy_metric = load_metric(\"accuracy\")\n"
     ]
    }
   ],
   "source": [
    "from datasets import load_metric\n",
    "import numpy as np\n",
    "\n",
    "accuracy_metric = load_metric(\"accuracy\")\n",
    "\n",
    "def compute_metrics(eval_pred):\n",
    "    predictions, labels = eval_pred\n",
    "    predictions = np.argmax(predictions, axis=1)\n",
    "    # metrics from the datasets library have a `compute` method\n",
    "    return accuracy_metric.compute(predictions=predictions, references=labels)"
   ]
  },
  {
   "cell_type": "code",
   "execution_count": 16,
   "metadata": {},
   "outputs": [],
   "source": [
    "trainer = Trainer(\n",
    "    model = model,                  # model to be trained\n",
    "    args = args,                    # training args\n",
    "    train_dataset=dataset['train'],\n",
    "    eval_dataset=dataset['test'],\n",
    "    tokenizer=tokenizer,            # for padding batched data\n",
    "    compute_metrics=compute_metrics # for custom metrics\n",
    ")"
   ]
  },
  {
   "cell_type": "code",
   "execution_count": 17,
   "metadata": {},
   "outputs": [
    {
     "name": "stderr",
     "output_type": "stream",
     "text": [
      "You're using a DistilBertTokenizerFast tokenizer. Please note that with a fast tokenizer, using the `__call__` method is faster than using a method to encode the text followed by a call to the `pad` method to get a padded encoding.\n"
     ]
    },
    {
     "data": {
      "text/html": [],
      "text/plain": [
       "<IPython.core.display.HTML object>"
      ]
     },
     "metadata": {},
     "output_type": "display_data"
    }
   ],
   "source": [
    "evaluation_avant_entrainement= trainer.evaluate()"
   ]
  },
  {
   "cell_type": "code",
   "execution_count": 18,
   "metadata": {},
   "outputs": [
    {
     "data": {
      "text/plain": [
       "{'eval_loss': 1.3916114568710327,\n",
       " 'eval_accuracy': 0.2687319884726225,\n",
       " 'eval_runtime': 5.0507,\n",
       " 'eval_samples_per_second': 274.815,\n",
       " 'eval_steps_per_second': 34.451}"
      ]
     },
     "execution_count": 18,
     "metadata": {},
     "output_type": "execute_result"
    }
   ],
   "source": [
    "evaluation_avant_entrainement"
   ]
  },
  {
   "cell_type": "markdown",
   "metadata": {},
   "source": [
    "On fait déjà une évaluation des capacités du modèle avant entraînement :"
   ]
  },
  {
   "cell_type": "markdown",
   "metadata": {},
   "source": [
    "Saugrader ces informations dans un fichier "
   ]
  },
  {
   "cell_type": "code",
   "execution_count": 19,
   "metadata": {},
   "outputs": [],
   "source": [
    "def register_results(content_func, evaluation_descr, version:str):\n",
    "    with open('rapport.txt', \"r+\", encoding='utf-8') as f:\n",
    "        # Lire le contenu actuel du fichier\n",
    "        file_content = f.read()\n",
    "        if not file_content:\n",
    "            pass\n",
    "            # plus tard ajouter une fonction pour mettre un titre au rapport\n",
    "        else:\n",
    "            # Si le fichier n'est pas vide, positionnez le pointeur de fichier à la fin\n",
    "            f.seek(0, 2)\n",
    "            content_func(f,evaluation_descr, version)"
   ]
  },
  {
   "cell_type": "code",
   "execution_count": 20,
   "metadata": {},
   "outputs": [],
   "source": [
    "def resultats_avant_entrainement(f,evaluation_descr, version:str):\n",
    "    \"\"\"cette fonction indique les résultats et complète le rapport, elle est destinée à être imbriquée dans la fonction register results \"\"\"\n",
    "    # Écrire la première partie du descriptif\n",
    "    f.write(f\"Résultats du {datetime.datetime.now()} avant entrainement:\\n\")\n",
    "\n",
    "    # Enregistrez la sortie de l'évaluation dans le fichier\n",
    "    trainer_output = evaluation_descr\n",
    "    f.write(f\"{trainer_output}\\n\\n\")\n",
    "\n",
    "    # matrice de confusion\n",
    "    results = trainer.predict(trainer.eval_dataset)\n",
    "\n",
    "    # Récupérer les prédictions et les vraies étiquettes\n",
    "    predictions = np.argmax(results.predictions, axis=1)\n",
    "    labels = results.label_ids\n",
    "\n",
    "    # Calculer la matrice de confusion\n",
    "    conf_matrix = confusion_matrix(labels, predictions)\n",
    "\n",
    "    # Enregistrez la matrice de confusion dans le fichier\n",
    "    f.write(\"Matrice de confusion:\\n\")\n",
    "    f.write(f\"{conf_matrix}\\n\\n\")\n",
    "\n",
    "    # Sauvegarder le graphique Seaborn dans un fichier image (par exemple, PNG)\n",
    "    plt.figure(figsize=(8, 8))\n",
    "    sns.heatmap(conf_matrix, annot=True, fmt='d', cmap='Blues', xticklabels=label_list, yticklabels=label_list)\n",
    "    plt.xlabel('Predicted')\n",
    "    plt.ylabel('True')\n",
    "    plt.title('Confusion Matrix')\n",
    "    plt.savefig(f'assets/confusion_matrix/confusion_matrix_eval_avant_entrainement{version}.png')\n",
    "    plt.close()\n",
    "\n",
    "    # Inclure le lien vers l'image dans le fichier\n",
    "    f.write(\"Affichage de la matrice de confusion (graphique):\\n\")\n",
    "    f.write(\"![Matrice de confusion](assets/confusion_matrix/confusion_matrix_eval_avant_entrainement.png)\\n\\n\")\n",
    "    f.close()"
   ]
  },
  {
   "cell_type": "code",
   "execution_count": 21,
   "metadata": {},
   "outputs": [],
   "source": [
    "register_results(resultats_avant_entrainement, evaluation_avant_entrainement, \"v1\")"
   ]
  },
  {
   "cell_type": "markdown",
   "metadata": {},
   "source": [
    "Le mieux serait de tout stocker dans un markdown mais plus tard. "
   ]
  },
  {
   "cell_type": "markdown",
   "metadata": {},
   "source": [
    "### entrainer le modèle "
   ]
  },
  {
   "cell_type": "code",
   "execution_count": 19,
   "metadata": {},
   "outputs": [
    {
     "data": {
      "text/html": [
       "\n",
       "    <div>\n",
       "      \n",
       "      <progress value='5000' max='5000' style='width:300px; height:20px; vertical-align: middle;'></progress>\n",
       "      [5000/5000 11:24, Epoch 15/16]\n",
       "    </div>\n",
       "    <table border=\"1\" class=\"dataframe\">\n",
       "  <thead>\n",
       " <tr style=\"text-align: left;\">\n",
       "      <th>Step</th>\n",
       "      <th>Training Loss</th>\n",
       "      <th>Validation Loss</th>\n",
       "    </tr>\n",
       "  </thead>\n",
       "  <tbody>\n",
       "  </tbody>\n",
       "</table><p>"
      ],
      "text/plain": [
       "<IPython.core.display.HTML object>"
      ]
     },
     "metadata": {},
     "output_type": "display_data"
    },
    {
     "data": {
      "text/plain": [
       "TrainOutput(global_step=5000, training_loss=0.00617556229797192, metrics={'train_runtime': 684.9665, 'train_samples_per_second': 58.397, 'train_steps_per_second': 7.3, 'total_flos': 308573371407000.0, 'train_loss': 0.00617556229797192, 'epoch': 15.97})"
      ]
     },
     "execution_count": 19,
     "metadata": {},
     "output_type": "execute_result"
    }
   ],
   "source": [
    "trainer.train()"
   ]
  },
  {
   "cell_type": "markdown",
   "metadata": {},
   "source": [
    "quels résultats?"
   ]
  },
  {
   "cell_type": "code",
   "execution_count": 27,
   "metadata": {},
   "outputs": [
    {
     "data": {
      "text/plain": [
       "PredictionOutput(predictions=array([[-3.9824398,  9.421585 , -4.3907547, -4.3478537],\n",
       "       [-3.82874  , -3.9639869,  9.919157 , -3.8304389],\n",
       "       [ 8.717508 , -3.918959 , -4.5790553, -4.6337614],\n",
       "       ...,\n",
       "       [-3.8469176, -3.9546168,  9.92428  , -3.843052 ],\n",
       "       [ 8.717218 , -3.9087644, -4.5963993, -4.6195803],\n",
       "       [-4.0607524, -4.172217 , -3.4870121,  8.968289 ]], dtype=float32), label_ids=array([1, 2, 0, ..., 2, 0, 3]), metrics={'test_loss': 0.009183484129607677, 'test_accuracy': 0.9992795389048992, 'test_runtime': 5.1764, 'test_samples_per_second': 268.138, 'test_steps_per_second': 33.614})"
      ]
     },
     "execution_count": 27,
     "metadata": {},
     "output_type": "execute_result"
    }
   ],
   "source": [
    "# matrice de confusion\n",
    "trained_results = trainer.predict(trainer.eval_dataset)\n",
    "\n",
    "# Récupérer les prédictions et les vraies étiquettes\n",
    "trained_predictions = np.argmax(trained_results.predictions, axis=1)\n",
    "labels = trained_results.label_ids\n",
    "\n",
    "# Calculer la matrice de confusion\n",
    "conf_matrix = confusion_matrix(labels, trained_predictions)\n",
    "\n",
    "trained_results"
   ]
  },
  {
   "cell_type": "code",
   "execution_count": 30,
   "metadata": {},
   "outputs": [
    {
     "data": {
      "text/plain": [
       "{'test_loss': 0.009183484129607677,\n",
       " 'test_accuracy': 0.9992795389048992,\n",
       " 'test_runtime': 5.1764,\n",
       " 'test_samples_per_second': 268.138,\n",
       " 'test_steps_per_second': 33.614}"
      ]
     },
     "execution_count": 30,
     "metadata": {},
     "output_type": "execute_result"
    }
   ],
   "source": [
    "trained_results.metrics"
   ]
  },
  {
   "cell_type": "code",
   "execution_count": 29,
   "metadata": {},
   "outputs": [
    {
     "data": {
      "image/png": "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",
      "text/plain": [
       "<Figure size 800x800 with 2 Axes>"
      ]
     },
     "metadata": {},
     "output_type": "display_data"
    }
   ],
   "source": [
    "# Sauvegarder le graphique Seaborn dans un fichier image (par exemple, PNG)\n",
    "plt.figure(figsize=(8, 8))\n",
    "sns.heatmap(conf_matrix, annot=True, fmt='d', cmap='Blues', xticklabels=label_list, yticklabels=label_list)\n",
    "plt.xlabel('Predicted')\n",
    "plt.ylabel('True')\n",
    "plt.title('Confusion Matrix après entrainnement V1')"
   ]
  },
  {
   "cell_type": "code",
   "execution_count": 53,
   "metadata": {},
   "outputs": [],
   "source": [
    "def resultats_apres_entrainement(f,evaluation_descr, version:str):\n",
    "    \"\"\"cette fonction indique les résultats et complète le rapport, elle est destinée à être imbriquée dans la fonction register results \"\"\"\n",
    "    # Écrire la première partie du descriptif\n",
    "    f.write(f\"Résultats du {datetime.datetime.now()} après entrainement:\\n\")\n",
    "\n",
    "    # Enregistrez la sortie de l'évaluation dans le fichier\n",
    "    trainer_output = evaluation_descr\n",
    "    f.write(f\"{trainer_output}\\n\\n\")\n",
    "\n",
    "    # matrice de confusion\n",
    "    results = trainer.predict(trainer.eval_dataset)\n",
    "\n",
    "    # Récupérer les prédictions et les vraies étiquettes\n",
    "    predictions = np.argmax(results.predictions, axis=1)\n",
    "    labels = results.label_ids\n",
    "\n",
    "    # Calculer la matrice de confusion\n",
    "    conf_matrix = confusion_matrix(labels, predictions)\n",
    "\n",
    "    # Enregistrez la matrice de confusion dans le fichier\n",
    "    f.write(\"Matrice de confusion après entrainement:\\n\")\n",
    "    f.write(f\"{conf_matrix}\\n\\n\")\n",
    "\n",
    "    # Sauvegarder le graphique Seaborn dans un fichier image (par exemple, PNG)\n",
    "    plt.figure(figsize=(8, 8))\n",
    "    sns.heatmap(conf_matrix, annot=True, fmt='d', cmap='Blues', xticklabels=label_list, yticklabels=label_list)\n",
    "    plt.xlabel('Predicted')\n",
    "    plt.ylabel('True')\n",
    "    plt.title('Confusion Matrix after training')\n",
    "    plt.savefig(f'assets/confusion_matrix/confusion_matrix_eval_apres_entrainement{version}.png')\n",
    "    plt.close()\n",
    "    # sauvegarder le modèle\n",
    "    # trainer.save_model('./models/trained_distilbert-base-uncased_step_1_{version}/')"
   ]
  },
  {
   "cell_type": "code",
   "execution_count": 54,
   "metadata": {},
   "outputs": [
    {
     "data": {
      "text/html": [],
      "text/plain": [
       "<IPython.core.display.HTML object>"
      ]
     },
     "metadata": {},
     "output_type": "display_data"
    }
   ],
   "source": [
    "register_results(resultats_apres_entrainement, trained_results.metrics, \"v1\")"
   ]
  },
  {
   "cell_type": "markdown",
   "metadata": {},
   "source": [
    "Obtenir les courbes d'entraînement "
   ]
  },
  {
   "cell_type": "code",
   "execution_count": 108,
   "metadata": {},
   "outputs": [
    {
     "data": {
      "image/png": "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",
      "text/plain": [
       "<Figure size 640x480 with 2 Axes>"
      ]
     },
     "metadata": {},
     "output_type": "display_data"
    }
   ],
   "source": [
    "# Tracer la perte et le taux d'apprentissage\n",
    "fig, ax1 = plt.subplots()\n",
    "\n",
    "color = 'tab:red'\n",
    "ax1.set_xlabel('Step')\n",
    "ax1.set_ylabel('Loss', color=color)\n",
    "ax1.plot(data['step'], data['loss'], color=color)\n",
    "ax1.tick_params(axis='y', labelcolor=color)\n",
    "\n",
    "ax2 = ax1.twinx()  \n",
    "color = 'tab:blue'\n",
    "ax2.set_ylabel('Learning Rate', color=color)  \n",
    "ax2.plot(data['step'], data['learning_rate'], color=color)\n",
    "ax2.tick_params(axis='y', labelcolor=color)\n",
    "\n",
    "fig.tight_layout()  \n",
    "plt.title('Loss and Learning Rate Over Training Steps')\n",
    "plt.savefig(f'assets/confusion_matrix/loss_and_earning_rate_over_training_steps_v1.png')"
   ]
  },
  {
   "cell_type": "markdown",
   "metadata": {},
   "source": [
    "la prochaine fois ce serai bien d'ajouter l'accuracy!"
   ]
  },
  {
   "cell_type": "markdown",
   "metadata": {},
   "source": [
    "Et un schuffle pour l'entrainement et le test! dans les paramètres d'entrainement"
   ]
  },
  {
   "cell_type": "markdown",
   "metadata": {},
   "source": [
    "un graphique de l'accuracy du jeu de test \n",
    "un graphic du learnin rate de train\n",
    "un graphic avec la loss pour le train et l'eval? "
   ]
  },
  {
   "cell_type": "code",
   "execution_count": 105,
   "metadata": {},
   "outputs": [],
   "source": [
    "plt.savefig(f'assets/confusion_matrix/loss_and_earning_rate_over_training_steps.png')\n",
    "plt.close()"
   ]
  }
 ],
 "metadata": {
  "kernelspec": {
   "display_name": "tata_env",
   "language": "python",
   "name": "python3"
  },
  "language_info": {
   "codemirror_mode": {
    "name": "ipython",
    "version": 3
   },
   "file_extension": ".py",
   "mimetype": "text/x-python",
   "name": "python",
   "nbconvert_exporter": "python",
   "pygments_lexer": "ipython3",
   "version": "3.10.12"
  }
 },
 "nbformat": 4,
 "nbformat_minor": 2
}
>>>>>>> 0f64690af03ca4633cc152e3237766b7451a88fc
