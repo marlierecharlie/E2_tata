{
 "cells": [
  {
   "cell_type": "markdown",
   "id": "8882f8e4",
   "metadata": {},
   "source": [
    "https://pyimagesearch.com/2018/09/19/pip-install-opencv/"
   ]
  },
  {
   "cell_type": "code",
   "execution_count": 1,
   "id": "892c2fab",
   "metadata": {},
   "outputs": [],
   "source": [
    "from collections import namedtuple\n",
    "import pytesseract\n",
    "import argparse\n",
    "import imutils\n",
    "import cv2"
   ]
  },
  {
   "cell_type": "code",
   "execution_count": 2,
   "id": "ac4090d8",
   "metadata": {},
   "outputs": [],
   "source": [
    "# cette fonction permet d'aligner les images quand les photos sont prises un peu n'importe comment \n",
    "# il faut l'étudier \n",
    "\n",
    "def align_images(image, template, maxFeatures=500, keepPercent=0.2, debug=False):\n",
    "# convert both the input image and template to grayscale\n",
    "    imageGray = cv2.cvtColor(image, cv2.COLOR_BGR2GRAY)\n",
    "    templateGray = cv2.cvtColor(template, cv2.COLOR_BGR2GRAY)"
   ]
  },
  {
   "cell_type": "code",
   "execution_count": 15,
   "id": "3e56c361",
   "metadata": {},
   "outputs": [],
   "source": [
    "# est ce que cette fonction pour nettoyer le texte est vraiment bien? \n",
    "\n",
    "def cleanup_text(text):\n",
    "    # strip out non-ASCII text so we can draw the text on the image\n",
    "    # using OpenCV\n",
    "    return \"\".join([c if ord(c) < 128 else \"\" for c in text]).strip()"
   ]
  },
  {
   "cell_type": "code",
   "execution_count": 16,
   "id": "d031d2b9",
   "metadata": {},
   "outputs": [
    {
     "name": "stderr",
     "output_type": "stream",
     "text": [
      "usage: ipykernel_launcher.py [-h] -i IMAGE -t TEMPLATE\n",
      "ipykernel_launcher.py: error: the following arguments are required: -i/--image, -t/--template\n"
     ]
    },
    {
     "ename": "SystemExit",
     "evalue": "2",
     "output_type": "error",
     "traceback": [
      "An exception has occurred, use %tb to see the full traceback.\n",
      "\u001b[1;31mSystemExit\u001b[0m\u001b[1;31m:\u001b[0m 2\n"
     ]
    },
    {
     "name": "stderr",
     "output_type": "stream",
     "text": [
      "C:\\Users\\charl\\E2_tata\\tata_env\\lib\\site-packages\\IPython\\core\\interactiveshell.py:3516: UserWarning: To exit: use 'exit', 'quit', or Ctrl-D.\n",
      "  warn(\"To exit: use 'exit', 'quit', or Ctrl-D.\", stacklevel=1)\n"
     ]
    }
   ],
   "source": [
    "# construct the argument parser and parse the arguments\n",
    "ap = argparse.ArgumentParser()\n",
    "ap.add_argument(\"-i\", \"--image\", required=True,\n",
    "    help=\"path to input image that we'll align to template\")\n",
    "ap.add_argument(\"-t\", \"--template\", required=True,\n",
    "    help=\"path to input template image\")\n",
    "args = vars(ap.parse_args())"
   ]
  },
  {
   "cell_type": "code",
   "execution_count": 19,
   "id": "abc31889",
   "metadata": {},
   "outputs": [],
   "source": [
    "# create a named tuple which we can use to create locations of the\n",
    "# input document which we wish to OCR\n",
    "OCRLocation = namedtuple(\"OCRLocation\", [\"id\", \"bbox\", \"filter_keywords\"])\n",
    "# define the locations of each area of the document we wish to OCR\n",
    "OCR_LOCATIONS = [\n",
    "\tOCRLocation(\"step1_first_name\", (265, 237, 751, 106),\n",
    "\t\t[\"middle\", \"initial\", \"first\", \"name\"]),\n",
    "\tOCRLocation(\"step1_last_name\", (1020, 237, 835, 106),\n",
    "\t\t[\"last\", \"name\"]),\n",
    "\tOCRLocation(\"step1_address\", (265, 336, 1588, 106),\n",
    "\t\t[\"address\"]),\n",
    "\tOCRLocation(\"step1_city_state_zip\", (265, 436, 1588, 106),\n",
    "\t\t[\"city\", \"zip\", \"town\", \"state\"]),\n",
    "\tOCRLocation(\"step5_employee_signature\", (319, 2516, 1487, 156),\n",
    "\t\t[\"employee\", \"signature\", \"form\", \"valid\", \"unless\",\n",
    "\t\t \t\"you\", \"sign\"]),\n",
    "\tOCRLocation(\"step5_date\", (1804, 2516, 504, 156), [\"date\"]),\n",
    "\tOCRLocation(\"employee_name_address\", (265, 2706, 1224, 180),\n",
    "\t\t[\"employer\", \"name\", \"address\"]),\n",
    "\tOCRLocation(\"employee_ein\", (1831, 2706, 448, 180),\n",
    "\t\t[\"employer\", \"identification\", \"number\", \"ein\"]),\n",
    "]"
   ]
  },
  {
   "cell_type": "code",
   "execution_count": 20,
   "id": "3c92a836",
   "metadata": {},
   "outputs": [
    {
     "name": "stdout",
     "output_type": "stream",
     "text": [
      "[INFO] loading images...\n"
     ]
    },
    {
     "ename": "NameError",
     "evalue": "name 'args' is not defined",
     "output_type": "error",
     "traceback": [
      "\u001b[1;31m---------------------------------------------------------------------------\u001b[0m",
      "\u001b[1;31mNameError\u001b[0m                                 Traceback (most recent call last)",
      "Cell \u001b[1;32mIn[20], line 3\u001b[0m\n\u001b[0;32m      1\u001b[0m \u001b[38;5;66;03m# load the input image and template from disk\u001b[39;00m\n\u001b[0;32m      2\u001b[0m \u001b[38;5;28mprint\u001b[39m(\u001b[38;5;124m\"\u001b[39m\u001b[38;5;124m[INFO] loading images...\u001b[39m\u001b[38;5;124m\"\u001b[39m)\n\u001b[1;32m----> 3\u001b[0m image \u001b[38;5;241m=\u001b[39m cv2\u001b[38;5;241m.\u001b[39mimread(\u001b[43margs\u001b[49m[\u001b[38;5;124m\"\u001b[39m\u001b[38;5;124mimage\u001b[39m\u001b[38;5;124m\"\u001b[39m])\n\u001b[0;32m      4\u001b[0m template \u001b[38;5;241m=\u001b[39m cv2\u001b[38;5;241m.\u001b[39mimread(args[\u001b[38;5;124m\"\u001b[39m\u001b[38;5;124mtemplate\u001b[39m\u001b[38;5;124m\"\u001b[39m])\n\u001b[0;32m      5\u001b[0m \u001b[38;5;66;03m# align the images\u001b[39;00m\n",
      "\u001b[1;31mNameError\u001b[0m: name 'args' is not defined"
     ]
    }
   ],
   "source": [
    "# load the input image and template from disk\n",
    "print(\"[INFO] loading images...\")\n",
    "image = cv2.imread(args[\"image\"])\n",
    "template = cv2.imread(args[\"template\"])\n",
    "# align the images\n",
    "print(\"[INFO] aligning images...\")\n",
    "aligned = align_images(image, template)"
   ]
  },
  {
   "cell_type": "code",
   "execution_count": null,
   "id": "4a2723c9",
   "metadata": {},
   "outputs": [],
   "source": []
  }
 ],
 "metadata": {
  "kernelspec": {
   "display_name": "tata_env",
   "language": "python",
   "name": "tata_env"
  },
  "language_info": {
   "codemirror_mode": {
    "name": "ipython",
    "version": 3
   },
   "file_extension": ".py",
   "mimetype": "text/x-python",
   "name": "python",
   "nbconvert_exporter": "python",
   "pygments_lexer": "ipython3",
   "version": "3.9.12"
  }
 },
 "nbformat": 4,
 "nbformat_minor": 5
}
