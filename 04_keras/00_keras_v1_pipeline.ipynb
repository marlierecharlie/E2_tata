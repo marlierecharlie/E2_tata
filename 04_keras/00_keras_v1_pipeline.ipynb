{
 "cells": [
  {
   "cell_type": "markdown",
   "metadata": {},
   "source": [
    "# 00_Keras"
   ]
  },
  {
   "cell_type": "markdown",
   "metadata": {},
   "source": [
    "tuto : https://www.kaggle.com/code/mpwolke/keras-ocr-text-recognition"
   ]
  },
  {
   "cell_type": "code",
   "execution_count": null,
   "metadata": {},
   "outputs": [],
   "source": [
    "# pip install git+https://github.com/faustomorales/keras-ocr.git#egg=keras-ocr"
   ]
  },
  {
   "cell_type": "markdown",
   "metadata": {},
   "source": [
    "# Load modules"
   ]
  },
  {
   "cell_type": "code",
   "execution_count": 1,
   "metadata": {},
   "outputs": [
    {
     "name": "stderr",
     "output_type": "stream",
     "text": [
      "2024-02-05 10:45:08.095218: E external/local_xla/xla/stream_executor/cuda/cuda_dnn.cc:9261] Unable to register cuDNN factory: Attempting to register factory for plugin cuDNN when one has already been registered\n",
      "2024-02-05 10:45:08.095278: E external/local_xla/xla/stream_executor/cuda/cuda_fft.cc:607] Unable to register cuFFT factory: Attempting to register factory for plugin cuFFT when one has already been registered\n",
      "2024-02-05 10:45:08.096470: E external/local_xla/xla/stream_executor/cuda/cuda_blas.cc:1515] Unable to register cuBLAS factory: Attempting to register factory for plugin cuBLAS when one has already been registered\n",
      "2024-02-05 10:45:08.105440: I tensorflow/core/platform/cpu_feature_guard.cc:182] This TensorFlow binary is optimized to use available CPU instructions in performance-critical operations.\n",
      "To enable the following instructions: AVX2 FMA, in other operations, rebuild TensorFlow with the appropriate compiler flags.\n",
      "2024-02-05 10:45:09.930595: W tensorflow/compiler/tf2tensorrt/utils/py_utils.cc:38] TF-TRT Warning: Could not find TensorRT\n"
     ]
    }
   ],
   "source": [
    "import zipfile\n",
    "import datetime\n",
    "import string\n",
    "import math\n",
    "import os\n",
    "import tqdm\n",
    "import matplotlib.pyplot as plt\n",
    "import tensorflow as tf\n",
    "import sklearn.model_selection\n",
    "import keras_ocr\n",
    "from pathlib import Path"
   ]
  },
  {
   "cell_type": "markdown",
   "metadata": {},
   "source": [
    "# Keras Pipeline"
   ]
  },
  {
   "cell_type": "code",
   "execution_count": 22,
   "metadata": {},
   "outputs": [
    {
     "name": "stdout",
     "output_type": "stream",
     "text": [
      "Looking for /home/charlie/.keras-ocr/craft_mlt_25k.h5\n",
      "Looking for /home/charlie/.keras-ocr/crnn_kurapan.h5\n"
     ]
    }
   ],
   "source": [
    "pipeline = keras_ocr.pipeline.Pipeline()"
   ]
  },
  {
   "cell_type": "code",
   "execution_count": 23,
   "metadata": {},
   "outputs": [],
   "source": [
    "# Read images from folder path to image object\n",
    "images = [\n",
    "    keras_ocr.tools.read(img) for img in ['/mnt/c/Users/utilisateur/E2_tata/data/SROIE2019/test/img/X00016469670.jpg'\n",
    "                                        ]\n",
    "]"
   ]
  },
  {
   "cell_type": "code",
   "execution_count": 25,
   "metadata": {},
   "outputs": [
    {
     "name": "stdout",
     "output_type": "stream",
     "text": [
      "1/1 [==============================] - 7s 7s/step\n",
      "4/4 [==============================] - 10s 2s/step\n"
     ]
    }
   ],
   "source": [
    "prediction_groups = pipeline.recognize(images)"
   ]
  },
  {
   "cell_type": "markdown",
   "metadata": {},
   "source": [
    "à mettre en liste"
   ]
  },
  {
   "cell_type": "code",
   "execution_count": 27,
   "metadata": {},
   "outputs": [
    {
     "name": "stdout",
     "output_type": "stream",
     "text": [
      "chay\n",
      "tan\n",
      "yee\n",
      "xe\n",
      "copy\n",
      "te\n",
      "ojc\n",
      "marketing\n",
      "sdn\n",
      "bhd\n",
      "roc\n",
      "ss835bh\n",
      "nos\n",
      "jalan\n",
      "bayu\n",
      "nos\n",
      "2\n",
      "8\n",
      "9\n",
      "95\n",
      "bandar\n",
      "seri\n",
      "alama\n",
      "81750\n",
      "masalt\n",
      "johor\n",
      "teloz\n",
      "508\n",
      "221s\n",
      "faxhozies\n",
      "8218\n",
      "emails\n",
      "ngoocgroupacom\n",
      "tax\n",
      "invoice\n",
      "invoice\n",
      "pegiv1050765\n",
      "no\n",
      "1510112019\n",
      "11105516\n",
      "am\n",
      "date\n",
      "min\n",
      "cashier\n",
      "ng\n",
      "chuan\n",
      "sales\n",
      "persor\n",
      "fatin\n",
      "billi\n",
      "to\n",
      "the\n",
      "peak\n",
      "quarry\n",
      "works\n",
      "address\n",
      "descrpton\n",
      "puice\n",
      "amount\n",
      "oqly\n",
      "oooooo11l\n",
      "19soo\n",
      "19soo\n",
      "sr\n",
      "l\n",
      "kings\n",
      "safety\n",
      "shoes\n",
      "kwd\n",
      "805\n",
      "exclude\n",
      "gsta\n",
      "ssoo\n",
      "qty\n",
      "total\n",
      "s\n",
      "gst\n",
      "oses\n",
      "total\n",
      "ooo\n",
      "gst\n",
      "total\n",
      "193x00\n",
      "inclusive\n",
      "round\n",
      "amt\n",
      "ooo\n",
      "totals\n",
      "19800\n",
      "visa\n",
      "card\n",
      "1980o\n",
      "oocoasie\n",
      "codesooo\n",
      "approval\n",
      "ns\n",
      "co\n",
      "sold\n",
      "not\n",
      "retunable\n",
      "goods\n",
      "arc\n",
      "8\n",
      "refundadie\n",
      "please\n",
      "come\n",
      "k\n",
      "thank\n",
      "yous\n",
      "againe\n"
     ]
    }
   ],
   "source": [
    "predicted_image = prediction_groups[0]\n",
    "for text, box in predicted_image:\n",
    "    print(text)"
   ]
  }
 ],
 "metadata": {
  "kernelspec": {
   "display_name": "tata_env",
   "language": "python",
   "name": "python3"
  },
  "language_info": {
   "codemirror_mode": {
    "name": "ipython",
    "version": 3
   },
   "file_extension": ".py",
   "mimetype": "text/x-python",
   "name": "python",
   "nbconvert_exporter": "python",
   "pygments_lexer": "ipython3",
   "version": "3.10.6"
  }
 },
 "nbformat": 4,
 "nbformat_minor": 2
}
