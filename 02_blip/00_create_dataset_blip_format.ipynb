{
 "cells": [
  {
   "cell_type": "code",
   "execution_count": 1,
   "metadata": {},
   "outputs": [],
   "source": [
    "import pandas as pd\n",
    "from PIL import Image\n",
    "import os\n",
    "import json"
   ]
  },
  {
   "cell_type": "code",
   "execution_count": 2,
   "metadata": {},
   "outputs": [],
   "source": [
    "#'dossier' contient la liste des noms de fichiers à traiter\n",
    "dossier_images = os.listdir(\"../data/SROIE2019/test/img/\")\n",
    "dossier_entities = os.listdir(\"../data/SROIE2019/test/entities/\")\n",
    "\n",
    "# Initialisez une liste pour stocker les données du DataFrame\n",
    "data = []\n",
    "\n",
    "# Parcourir tous les fichiers dans le dossier\n",
    "for picture_filename in dossier_images:\n",
    "    # Construire le chemin complet du fichier image\n",
    "    image_filepath = os.path.join('../data/SROIE2019/test/img/', picture_filename)\n",
    "\n",
    "    # Ouvrir l'image à l'aide de PIL\n",
    "    image = Image.open(image_filepath)\n",
    "\n",
    "    # Construire le chemin complet du fichier JSON\n",
    "    json_filename = picture_filename.replace('.jpg', '.txt')\n",
    "    json_filepath = os.path.join('../data/SROIE2019/test/entities/', json_filename)\n",
    "\n",
    "    # Ouvrir le fichier JSON et le charger\n",
    "    with open(json_filepath, \"r\", encoding='utf-8') as f:\n",
    "        json_data = json.load(f)\n",
    "\n",
    "    # Ajouter les données à la liste\n",
    "    data.append({'image': image, 'json_data': json_data})\n",
    "\n",
    "# Créer un DataFrame à partir de la liste de données\n",
    "df = pd.DataFrame(data)\n"
   ]
  },
  {
   "cell_type": "code",
   "execution_count": 3,
   "metadata": {},
   "outputs": [
    {
     "data": {
      "text/html": [
       "<div>\n",
       "<style scoped>\n",
       "    .dataframe tbody tr th:only-of-type {\n",
       "        vertical-align: middle;\n",
       "    }\n",
       "\n",
       "    .dataframe tbody tr th {\n",
       "        vertical-align: top;\n",
       "    }\n",
       "\n",
       "    .dataframe thead th {\n",
       "        text-align: right;\n",
       "    }\n",
       "</style>\n",
       "<table border=\"1\" class=\"dataframe\">\n",
       "  <thead>\n",
       "    <tr style=\"text-align: right;\">\n",
       "      <th></th>\n",
       "      <th>image</th>\n",
       "      <th>json_data</th>\n",
       "    </tr>\n",
       "  </thead>\n",
       "  <tbody>\n",
       "    <tr>\n",
       "      <th>0</th>\n",
       "      <td>&lt;PIL.JpegImagePlugin.JpegImageFile image mode=...</td>\n",
       "      <td>{'company': 'OJC MARKETING SDN BHD', 'date': '...</td>\n",
       "    </tr>\n",
       "    <tr>\n",
       "      <th>1</th>\n",
       "      <td>&lt;PIL.JpegImagePlugin.JpegImageFile image mode=...</td>\n",
       "      <td>{'company': 'OJC MARKETING SDN BHD', 'date': '...</td>\n",
       "    </tr>\n",
       "    <tr>\n",
       "      <th>2</th>\n",
       "      <td>&lt;PIL.JpegImagePlugin.JpegImageFile image mode=...</td>\n",
       "      <td>{'company': 'PERNIAGAAN ZHENG HUI', 'date': '0...</td>\n",
       "    </tr>\n",
       "    <tr>\n",
       "      <th>3</th>\n",
       "      <td>&lt;PIL.JpegImagePlugin.JpegImageFile image mode=...</td>\n",
       "      <td>{'company': 'PETRON BKT LANJAN SB', 'date': '0...</td>\n",
       "    </tr>\n",
       "    <tr>\n",
       "      <th>4</th>\n",
       "      <td>&lt;PIL.JpegImagePlugin.JpegImageFile image mode=...</td>\n",
       "      <td>{'company': 'GERBANG ALAF RESTAURANTS SDN BHD'...</td>\n",
       "    </tr>\n",
       "  </tbody>\n",
       "</table>\n",
       "</div>"
      ],
      "text/plain": [
       "                                               image  \\\n",
       "0  <PIL.JpegImagePlugin.JpegImageFile image mode=...   \n",
       "1  <PIL.JpegImagePlugin.JpegImageFile image mode=...   \n",
       "2  <PIL.JpegImagePlugin.JpegImageFile image mode=...   \n",
       "3  <PIL.JpegImagePlugin.JpegImageFile image mode=...   \n",
       "4  <PIL.JpegImagePlugin.JpegImageFile image mode=...   \n",
       "\n",
       "                                           json_data  \n",
       "0  {'company': 'OJC MARKETING SDN BHD', 'date': '...  \n",
       "1  {'company': 'OJC MARKETING SDN BHD', 'date': '...  \n",
       "2  {'company': 'PERNIAGAAN ZHENG HUI', 'date': '0...  \n",
       "3  {'company': 'PETRON BKT LANJAN SB', 'date': '0...  \n",
       "4  {'company': 'GERBANG ALAF RESTAURANTS SDN BHD'...  "
      ]
     },
     "execution_count": 3,
     "metadata": {},
     "output_type": "execute_result"
    }
   ],
   "source": [
    "df.head()"
   ]
  },
  {
   "cell_type": "code",
   "execution_count": 4,
   "metadata": {},
   "outputs": [],
   "source": [
    "df.to_csv('../data/img_entities_blip.csv')"
   ]
  },
  {
   "cell_type": "code",
   "execution_count": 5,
   "metadata": {},
   "outputs": [],
   "source": [
    "# Créer le DatasetDict\n",
    "from datasets import DatasetDict, Dataset\n",
    "\n",
    "dataset_dict = DatasetDict({\n",
    "    'test': Dataset.from_dict(df)\n",
    "})"
   ]
  }
 ],
 "metadata": {
  "kernelspec": {
   "display_name": "tata_env",
   "language": "python",
   "name": "python3"
  },
  "language_info": {
   "codemirror_mode": {
    "name": "ipython",
    "version": 3
   },
   "file_extension": ".py",
   "mimetype": "text/x-python",
   "name": "python",
   "nbconvert_exporter": "python",
   "pygments_lexer": "ipython3",
   "version": "3.10.6"
  }
 },
 "nbformat": 4,
 "nbformat_minor": 2
}
